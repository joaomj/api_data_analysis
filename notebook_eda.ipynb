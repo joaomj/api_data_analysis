{
 "cells": [
  {
   "cell_type": "markdown",
   "metadata": {},
   "source": [
    "# **Functions**"
   ]
  },
  {
   "cell_type": "code",
   "execution_count": 318,
   "metadata": {},
   "outputs": [],
   "source": [
    "# Função para obter os dados da API\n",
    "def get_data(url):\n",
    "    try:\n",
    "        # Fazendo a requisição GET\n",
    "        response = requests.get(url)\n",
    "        response.raise_for_status()  # Levanta um HTTPError para status de resposta de erro\n",
    "        # Convertendo a resposta em JSON\n",
    "        data = response.json()\n",
    "        # Carregando os dados em um DataFrame do pandas\n",
    "        df = pd.DataFrame(data)\n",
    "        return df\n",
    "    except requests.exceptions.HTTPError as http_err:\n",
    "        print(f\"HTTP error occurred: {http_err}\")\n",
    "    except Exception as err:\n",
    "        print(f\"Other error occurred: {err}\")\n",
    "    return None\n",
    "\n",
    "#-----------------------------------------------------------\n",
    "# Função para obter coordenadas a partir do nome da cidade\n",
    "def get_coordinates(city, delay=1):\n",
    "    \"\"\"\n",
    "    Obtém coordenadas geográficas para uma cidade, com atraso entre as requisições para evitar bloqueios.\n",
    "    \n",
    "    :param city: Nome da cidade para geocodificação.\n",
    "    :param delay: Tempo de atraso entre as requisições em segundos (default é 1 segundo).\n",
    "    :return: Tupla contendo latitude e longitude, ou None se não for possível obter coordenadas.\n",
    "    \"\"\"\n",
    "    try:\n",
    "        location = geolocator.geocode(f\"{city}, USA\")\n",
    "        if location:\n",
    "            # Atraso entre as requisições\n",
    "            time.sleep(delay)\n",
    "            return location.latitude, location.longitude\n",
    "    except Exception as e:\n",
    "        print(f\"Error: {e}\")\n",
    "    \n",
    "    # Atraso entre as requisições\n",
    "    time.sleep(delay)\n",
    "    return None"
   ]
  },
  {
   "cell_type": "markdown",
   "metadata": {},
   "source": [
    "# **Libraries**"
   ]
  },
  {
   "cell_type": "code",
   "execution_count": 319,
   "metadata": {},
   "outputs": [],
   "source": [
    "import requests\n",
    "import pandas as pd\n",
    "import ast\n",
    "import seaborn as sns\n",
    "import matplotlib.pyplot as plt\n",
    "from sklearn.linear_model import LinearRegression\n",
    "from sklearn.metrics import r2_score\n",
    "import folium\n",
    "from folium import plugins\n",
    "from geopy.geocoders import Nominatim"
   ]
  },
  {
   "cell_type": "markdown",
   "metadata": {},
   "source": [
    "# **Loading Data**"
   ]
  },
  {
   "cell_type": "markdown",
   "metadata": {},
   "source": [
    "## Products"
   ]
  },
  {
   "cell_type": "code",
   "execution_count": 320,
   "metadata": {},
   "outputs": [
    {
     "data": {
      "text/html": [
       "<div>\n",
       "<style scoped>\n",
       "    .dataframe tbody tr th:only-of-type {\n",
       "        vertical-align: middle;\n",
       "    }\n",
       "\n",
       "    .dataframe tbody tr th {\n",
       "        vertical-align: top;\n",
       "    }\n",
       "\n",
       "    .dataframe thead th {\n",
       "        text-align: right;\n",
       "    }\n",
       "</style>\n",
       "<table border=\"1\" class=\"dataframe\">\n",
       "  <thead>\n",
       "    <tr style=\"text-align: right;\">\n",
       "      <th></th>\n",
       "      <th>id</th>\n",
       "      <th>title</th>\n",
       "      <th>price</th>\n",
       "      <th>description</th>\n",
       "      <th>category</th>\n",
       "      <th>image</th>\n",
       "      <th>rating</th>\n",
       "    </tr>\n",
       "  </thead>\n",
       "  <tbody>\n",
       "    <tr>\n",
       "      <th>0</th>\n",
       "      <td>1</td>\n",
       "      <td>Fjallraven - Foldsack No. 1 Backpack, Fits 15 ...</td>\n",
       "      <td>109.95</td>\n",
       "      <td>Your perfect pack for everyday use and walks i...</td>\n",
       "      <td>men's clothing</td>\n",
       "      <td>https://fakestoreapi.com/img/81fPKd-2AYL._AC_S...</td>\n",
       "      <td>{'rate': 3.9, 'count': 120}</td>\n",
       "    </tr>\n",
       "    <tr>\n",
       "      <th>1</th>\n",
       "      <td>2</td>\n",
       "      <td>Mens Casual Premium Slim Fit T-Shirts</td>\n",
       "      <td>22.30</td>\n",
       "      <td>Slim-fitting style, contrast raglan long sleev...</td>\n",
       "      <td>men's clothing</td>\n",
       "      <td>https://fakestoreapi.com/img/71-3HjGNDUL._AC_S...</td>\n",
       "      <td>{'rate': 4.1, 'count': 259}</td>\n",
       "    </tr>\n",
       "    <tr>\n",
       "      <th>2</th>\n",
       "      <td>3</td>\n",
       "      <td>Mens Cotton Jacket</td>\n",
       "      <td>55.99</td>\n",
       "      <td>great outerwear jackets for Spring/Autumn/Wint...</td>\n",
       "      <td>men's clothing</td>\n",
       "      <td>https://fakestoreapi.com/img/71li-ujtlUL._AC_U...</td>\n",
       "      <td>{'rate': 4.7, 'count': 500}</td>\n",
       "    </tr>\n",
       "    <tr>\n",
       "      <th>3</th>\n",
       "      <td>4</td>\n",
       "      <td>Mens Casual Slim Fit</td>\n",
       "      <td>15.99</td>\n",
       "      <td>The color could be slightly different between ...</td>\n",
       "      <td>men's clothing</td>\n",
       "      <td>https://fakestoreapi.com/img/71YXzeOuslL._AC_U...</td>\n",
       "      <td>{'rate': 2.1, 'count': 430}</td>\n",
       "    </tr>\n",
       "    <tr>\n",
       "      <th>4</th>\n",
       "      <td>5</td>\n",
       "      <td>John Hardy Women's Legends Naga Gold &amp; Silver ...</td>\n",
       "      <td>695.00</td>\n",
       "      <td>From our Legends Collection, the Naga was insp...</td>\n",
       "      <td>jewelery</td>\n",
       "      <td>https://fakestoreapi.com/img/71pWzhdJNwL._AC_U...</td>\n",
       "      <td>{'rate': 4.6, 'count': 400}</td>\n",
       "    </tr>\n",
       "  </tbody>\n",
       "</table>\n",
       "</div>"
      ],
      "text/plain": [
       "   id                                              title   price  \\\n",
       "0   1  Fjallraven - Foldsack No. 1 Backpack, Fits 15 ...  109.95   \n",
       "1   2             Mens Casual Premium Slim Fit T-Shirts    22.30   \n",
       "2   3                                 Mens Cotton Jacket   55.99   \n",
       "3   4                               Mens Casual Slim Fit   15.99   \n",
       "4   5  John Hardy Women's Legends Naga Gold & Silver ...  695.00   \n",
       "\n",
       "                                         description        category  \\\n",
       "0  Your perfect pack for everyday use and walks i...  men's clothing   \n",
       "1  Slim-fitting style, contrast raglan long sleev...  men's clothing   \n",
       "2  great outerwear jackets for Spring/Autumn/Wint...  men's clothing   \n",
       "3  The color could be slightly different between ...  men's clothing   \n",
       "4  From our Legends Collection, the Naga was insp...        jewelery   \n",
       "\n",
       "                                               image  \\\n",
       "0  https://fakestoreapi.com/img/81fPKd-2AYL._AC_S...   \n",
       "1  https://fakestoreapi.com/img/71-3HjGNDUL._AC_S...   \n",
       "2  https://fakestoreapi.com/img/71li-ujtlUL._AC_U...   \n",
       "3  https://fakestoreapi.com/img/71YXzeOuslL._AC_U...   \n",
       "4  https://fakestoreapi.com/img/71pWzhdJNwL._AC_U...   \n",
       "\n",
       "                        rating  \n",
       "0  {'rate': 3.9, 'count': 120}  \n",
       "1  {'rate': 4.1, 'count': 259}  \n",
       "2  {'rate': 4.7, 'count': 500}  \n",
       "3  {'rate': 2.1, 'count': 430}  \n",
       "4  {'rate': 4.6, 'count': 400}  "
      ]
     },
     "execution_count": 320,
     "metadata": {},
     "output_type": "execute_result"
    }
   ],
   "source": [
    "# URL da API para obter todos os produtos\n",
    "url_products = 'https://fakestoreapi.com/products'\n",
    "\n",
    "df_products = get_data(url_products)\n",
    "df_products.head()"
   ]
  },
  {
   "cell_type": "code",
   "execution_count": 321,
   "metadata": {},
   "outputs": [
    {
     "name": "stdout",
     "output_type": "stream",
     "text": [
      "<class 'pandas.core.frame.DataFrame'>\n",
      "RangeIndex: 20 entries, 0 to 19\n",
      "Data columns (total 7 columns):\n",
      " #   Column       Non-Null Count  Dtype  \n",
      "---  ------       --------------  -----  \n",
      " 0   id           20 non-null     int64  \n",
      " 1   title        20 non-null     object \n",
      " 2   price        20 non-null     float64\n",
      " 3   description  20 non-null     object \n",
      " 4   category     20 non-null     object \n",
      " 5   image        20 non-null     object \n",
      " 6   rating       20 non-null     object \n",
      "dtypes: float64(1), int64(1), object(5)\n",
      "memory usage: 1.2+ KB\n"
     ]
    }
   ],
   "source": [
    "df_products.info()"
   ]
  },
  {
   "cell_type": "code",
   "execution_count": 322,
   "metadata": {},
   "outputs": [
    {
     "name": "stdout",
     "output_type": "stream",
     "text": [
      "df_products salvo!\n"
     ]
    }
   ],
   "source": [
    "df_products.to_csv('data/df_products.csv')\n",
    "print('df_products salvo!')"
   ]
  },
  {
   "cell_type": "markdown",
   "metadata": {},
   "source": [
    "## Carts"
   ]
  },
  {
   "cell_type": "code",
   "execution_count": 323,
   "metadata": {},
   "outputs": [
    {
     "data": {
      "text/html": [
       "<div>\n",
       "<style scoped>\n",
       "    .dataframe tbody tr th:only-of-type {\n",
       "        vertical-align: middle;\n",
       "    }\n",
       "\n",
       "    .dataframe tbody tr th {\n",
       "        vertical-align: top;\n",
       "    }\n",
       "\n",
       "    .dataframe thead th {\n",
       "        text-align: right;\n",
       "    }\n",
       "</style>\n",
       "<table border=\"1\" class=\"dataframe\">\n",
       "  <thead>\n",
       "    <tr style=\"text-align: right;\">\n",
       "      <th></th>\n",
       "      <th>id</th>\n",
       "      <th>userId</th>\n",
       "      <th>date</th>\n",
       "      <th>products</th>\n",
       "      <th>__v</th>\n",
       "    </tr>\n",
       "  </thead>\n",
       "  <tbody>\n",
       "    <tr>\n",
       "      <th>0</th>\n",
       "      <td>1</td>\n",
       "      <td>1</td>\n",
       "      <td>2020-03-02T00:00:00.000Z</td>\n",
       "      <td>[{'productId': 1, 'quantity': 4}, {'productId'...</td>\n",
       "      <td>0</td>\n",
       "    </tr>\n",
       "    <tr>\n",
       "      <th>1</th>\n",
       "      <td>2</td>\n",
       "      <td>1</td>\n",
       "      <td>2020-01-02T00:00:00.000Z</td>\n",
       "      <td>[{'productId': 2, 'quantity': 4}, {'productId'...</td>\n",
       "      <td>0</td>\n",
       "    </tr>\n",
       "    <tr>\n",
       "      <th>2</th>\n",
       "      <td>3</td>\n",
       "      <td>2</td>\n",
       "      <td>2020-03-01T00:00:00.000Z</td>\n",
       "      <td>[{'productId': 1, 'quantity': 2}, {'productId'...</td>\n",
       "      <td>0</td>\n",
       "    </tr>\n",
       "    <tr>\n",
       "      <th>3</th>\n",
       "      <td>4</td>\n",
       "      <td>3</td>\n",
       "      <td>2020-01-01T00:00:00.000Z</td>\n",
       "      <td>[{'productId': 1, 'quantity': 4}]</td>\n",
       "      <td>0</td>\n",
       "    </tr>\n",
       "    <tr>\n",
       "      <th>4</th>\n",
       "      <td>5</td>\n",
       "      <td>3</td>\n",
       "      <td>2020-03-01T00:00:00.000Z</td>\n",
       "      <td>[{'productId': 7, 'quantity': 1}, {'productId'...</td>\n",
       "      <td>0</td>\n",
       "    </tr>\n",
       "  </tbody>\n",
       "</table>\n",
       "</div>"
      ],
      "text/plain": [
       "   id  userId                      date  \\\n",
       "0   1       1  2020-03-02T00:00:00.000Z   \n",
       "1   2       1  2020-01-02T00:00:00.000Z   \n",
       "2   3       2  2020-03-01T00:00:00.000Z   \n",
       "3   4       3  2020-01-01T00:00:00.000Z   \n",
       "4   5       3  2020-03-01T00:00:00.000Z   \n",
       "\n",
       "                                            products  __v  \n",
       "0  [{'productId': 1, 'quantity': 4}, {'productId'...    0  \n",
       "1  [{'productId': 2, 'quantity': 4}, {'productId'...    0  \n",
       "2  [{'productId': 1, 'quantity': 2}, {'productId'...    0  \n",
       "3                  [{'productId': 1, 'quantity': 4}]    0  \n",
       "4  [{'productId': 7, 'quantity': 1}, {'productId'...    0  "
      ]
     },
     "execution_count": 323,
     "metadata": {},
     "output_type": "execute_result"
    }
   ],
   "source": [
    "# URL da API para obter todos os carrinhos\n",
    "url_carts = 'https://fakestoreapi.com/carts'\n",
    "\n",
    "df_carts = get_data(url_carts)\n",
    "df_carts.head()"
   ]
  },
  {
   "cell_type": "code",
   "execution_count": 324,
   "metadata": {},
   "outputs": [
    {
     "name": "stdout",
     "output_type": "stream",
     "text": [
      "<class 'pandas.core.frame.DataFrame'>\n",
      "RangeIndex: 7 entries, 0 to 6\n",
      "Data columns (total 5 columns):\n",
      " #   Column    Non-Null Count  Dtype \n",
      "---  ------    --------------  ----- \n",
      " 0   id        7 non-null      int64 \n",
      " 1   userId    7 non-null      int64 \n",
      " 2   date      7 non-null      object\n",
      " 3   products  7 non-null      object\n",
      " 4   __v       7 non-null      int64 \n",
      "dtypes: int64(3), object(2)\n",
      "memory usage: 412.0+ bytes\n"
     ]
    }
   ],
   "source": [
    "df_carts.info()"
   ]
  },
  {
   "cell_type": "code",
   "execution_count": 325,
   "metadata": {},
   "outputs": [
    {
     "name": "stdout",
     "output_type": "stream",
     "text": [
      "df_carts salvo!\n"
     ]
    }
   ],
   "source": [
    "df_carts.to_csv('data/df_carts.csv')\n",
    "print('df_carts salvo!')"
   ]
  },
  {
   "cell_type": "markdown",
   "metadata": {},
   "source": [
    "## Users"
   ]
  },
  {
   "cell_type": "code",
   "execution_count": 326,
   "metadata": {},
   "outputs": [
    {
     "data": {
      "text/html": [
       "<div>\n",
       "<style scoped>\n",
       "    .dataframe tbody tr th:only-of-type {\n",
       "        vertical-align: middle;\n",
       "    }\n",
       "\n",
       "    .dataframe tbody tr th {\n",
       "        vertical-align: top;\n",
       "    }\n",
       "\n",
       "    .dataframe thead th {\n",
       "        text-align: right;\n",
       "    }\n",
       "</style>\n",
       "<table border=\"1\" class=\"dataframe\">\n",
       "  <thead>\n",
       "    <tr style=\"text-align: right;\">\n",
       "      <th></th>\n",
       "      <th>address</th>\n",
       "      <th>id</th>\n",
       "      <th>email</th>\n",
       "      <th>username</th>\n",
       "      <th>password</th>\n",
       "      <th>name</th>\n",
       "      <th>phone</th>\n",
       "      <th>__v</th>\n",
       "    </tr>\n",
       "  </thead>\n",
       "  <tbody>\n",
       "    <tr>\n",
       "      <th>0</th>\n",
       "      <td>{'geolocation': {'lat': '-37.3159', 'long': '8...</td>\n",
       "      <td>1</td>\n",
       "      <td>john@gmail.com</td>\n",
       "      <td>johnd</td>\n",
       "      <td>m38rmF$</td>\n",
       "      <td>{'firstname': 'john', 'lastname': 'doe'}</td>\n",
       "      <td>1-570-236-7033</td>\n",
       "      <td>0</td>\n",
       "    </tr>\n",
       "    <tr>\n",
       "      <th>1</th>\n",
       "      <td>{'geolocation': {'lat': '-37.3159', 'long': '8...</td>\n",
       "      <td>2</td>\n",
       "      <td>morrison@gmail.com</td>\n",
       "      <td>mor_2314</td>\n",
       "      <td>83r5^_</td>\n",
       "      <td>{'firstname': 'david', 'lastname': 'morrison'}</td>\n",
       "      <td>1-570-236-7033</td>\n",
       "      <td>0</td>\n",
       "    </tr>\n",
       "    <tr>\n",
       "      <th>2</th>\n",
       "      <td>{'geolocation': {'lat': '40.3467', 'long': '-3...</td>\n",
       "      <td>3</td>\n",
       "      <td>kevin@gmail.com</td>\n",
       "      <td>kevinryan</td>\n",
       "      <td>kev02937@</td>\n",
       "      <td>{'firstname': 'kevin', 'lastname': 'ryan'}</td>\n",
       "      <td>1-567-094-1345</td>\n",
       "      <td>0</td>\n",
       "    </tr>\n",
       "    <tr>\n",
       "      <th>3</th>\n",
       "      <td>{'geolocation': {'lat': '50.3467', 'long': '-2...</td>\n",
       "      <td>4</td>\n",
       "      <td>don@gmail.com</td>\n",
       "      <td>donero</td>\n",
       "      <td>ewedon</td>\n",
       "      <td>{'firstname': 'don', 'lastname': 'romer'}</td>\n",
       "      <td>1-765-789-6734</td>\n",
       "      <td>0</td>\n",
       "    </tr>\n",
       "    <tr>\n",
       "      <th>4</th>\n",
       "      <td>{'geolocation': {'lat': '40.3467', 'long': '-4...</td>\n",
       "      <td>5</td>\n",
       "      <td>derek@gmail.com</td>\n",
       "      <td>derek</td>\n",
       "      <td>jklg*_56</td>\n",
       "      <td>{'firstname': 'derek', 'lastname': 'powell'}</td>\n",
       "      <td>1-956-001-1945</td>\n",
       "      <td>0</td>\n",
       "    </tr>\n",
       "  </tbody>\n",
       "</table>\n",
       "</div>"
      ],
      "text/plain": [
       "                                             address  id               email  \\\n",
       "0  {'geolocation': {'lat': '-37.3159', 'long': '8...   1      john@gmail.com   \n",
       "1  {'geolocation': {'lat': '-37.3159', 'long': '8...   2  morrison@gmail.com   \n",
       "2  {'geolocation': {'lat': '40.3467', 'long': '-3...   3     kevin@gmail.com   \n",
       "3  {'geolocation': {'lat': '50.3467', 'long': '-2...   4       don@gmail.com   \n",
       "4  {'geolocation': {'lat': '40.3467', 'long': '-4...   5     derek@gmail.com   \n",
       "\n",
       "    username   password                                            name  \\\n",
       "0      johnd    m38rmF$        {'firstname': 'john', 'lastname': 'doe'}   \n",
       "1   mor_2314     83r5^_  {'firstname': 'david', 'lastname': 'morrison'}   \n",
       "2  kevinryan  kev02937@      {'firstname': 'kevin', 'lastname': 'ryan'}   \n",
       "3     donero     ewedon       {'firstname': 'don', 'lastname': 'romer'}   \n",
       "4      derek   jklg*_56    {'firstname': 'derek', 'lastname': 'powell'}   \n",
       "\n",
       "            phone  __v  \n",
       "0  1-570-236-7033    0  \n",
       "1  1-570-236-7033    0  \n",
       "2  1-567-094-1345    0  \n",
       "3  1-765-789-6734    0  \n",
       "4  1-956-001-1945    0  "
      ]
     },
     "execution_count": 326,
     "metadata": {},
     "output_type": "execute_result"
    }
   ],
   "source": [
    "url_users = 'https://fakestoreapi.com/users'\n",
    "df_users = get_data(url_users)\n",
    "df_users.head()"
   ]
  },
  {
   "cell_type": "code",
   "execution_count": 327,
   "metadata": {},
   "outputs": [
    {
     "name": "stdout",
     "output_type": "stream",
     "text": [
      "<class 'pandas.core.frame.DataFrame'>\n",
      "RangeIndex: 10 entries, 0 to 9\n",
      "Data columns (total 8 columns):\n",
      " #   Column    Non-Null Count  Dtype \n",
      "---  ------    --------------  ----- \n",
      " 0   address   10 non-null     object\n",
      " 1   id        10 non-null     int64 \n",
      " 2   email     10 non-null     object\n",
      " 3   username  10 non-null     object\n",
      " 4   password  10 non-null     object\n",
      " 5   name      10 non-null     object\n",
      " 6   phone     10 non-null     object\n",
      " 7   __v       10 non-null     int64 \n",
      "dtypes: int64(2), object(6)\n",
      "memory usage: 772.0+ bytes\n"
     ]
    }
   ],
   "source": [
    "df_users.info()"
   ]
  },
  {
   "cell_type": "code",
   "execution_count": 328,
   "metadata": {},
   "outputs": [
    {
     "name": "stdout",
     "output_type": "stream",
     "text": [
      "df_users salvo!\n"
     ]
    }
   ],
   "source": [
    "df_users.to_csv('data/df_users.csv')\n",
    "print('df_users salvo!')"
   ]
  },
  {
   "cell_type": "markdown",
   "metadata": {},
   "source": [
    "# **Data Cleaning**"
   ]
  },
  {
   "cell_type": "markdown",
   "metadata": {},
   "source": [
    "- Check column types (esp. datetime)\n",
    "- Check for nulls and duplicates\n",
    "- Split columns if necessary"
   ]
  },
  {
   "cell_type": "code",
   "execution_count": 329,
   "metadata": {},
   "outputs": [],
   "source": [
    "# Load saved data\n",
    "df_products = pd.read_csv('data/df_products.csv', index_col=0)\n",
    "df_carts = pd.read_csv('data/df_carts.csv', index_col=0)\n",
    "df_users = pd.read_csv('data/df_users.csv', index_col=0)"
   ]
  },
  {
   "cell_type": "markdown",
   "metadata": {},
   "source": [
    "## Data Cleaning - Products"
   ]
  },
  {
   "cell_type": "code",
   "execution_count": 330,
   "metadata": {},
   "outputs": [
    {
     "data": {
      "text/html": [
       "<div>\n",
       "<style scoped>\n",
       "    .dataframe tbody tr th:only-of-type {\n",
       "        vertical-align: middle;\n",
       "    }\n",
       "\n",
       "    .dataframe tbody tr th {\n",
       "        vertical-align: top;\n",
       "    }\n",
       "\n",
       "    .dataframe thead th {\n",
       "        text-align: right;\n",
       "    }\n",
       "</style>\n",
       "<table border=\"1\" class=\"dataframe\">\n",
       "  <thead>\n",
       "    <tr style=\"text-align: right;\">\n",
       "      <th></th>\n",
       "      <th>id</th>\n",
       "      <th>title</th>\n",
       "      <th>price</th>\n",
       "      <th>description</th>\n",
       "      <th>category</th>\n",
       "      <th>image</th>\n",
       "      <th>rating</th>\n",
       "    </tr>\n",
       "  </thead>\n",
       "  <tbody>\n",
       "    <tr>\n",
       "      <th>0</th>\n",
       "      <td>1</td>\n",
       "      <td>Fjallraven - Foldsack No. 1 Backpack, Fits 15 ...</td>\n",
       "      <td>109.95</td>\n",
       "      <td>Your perfect pack for everyday use and walks i...</td>\n",
       "      <td>men's clothing</td>\n",
       "      <td>https://fakestoreapi.com/img/81fPKd-2AYL._AC_S...</td>\n",
       "      <td>{'rate': 3.9, 'count': 120}</td>\n",
       "    </tr>\n",
       "    <tr>\n",
       "      <th>1</th>\n",
       "      <td>2</td>\n",
       "      <td>Mens Casual Premium Slim Fit T-Shirts</td>\n",
       "      <td>22.30</td>\n",
       "      <td>Slim-fitting style, contrast raglan long sleev...</td>\n",
       "      <td>men's clothing</td>\n",
       "      <td>https://fakestoreapi.com/img/71-3HjGNDUL._AC_S...</td>\n",
       "      <td>{'rate': 4.1, 'count': 259}</td>\n",
       "    </tr>\n",
       "    <tr>\n",
       "      <th>2</th>\n",
       "      <td>3</td>\n",
       "      <td>Mens Cotton Jacket</td>\n",
       "      <td>55.99</td>\n",
       "      <td>great outerwear jackets for Spring/Autumn/Wint...</td>\n",
       "      <td>men's clothing</td>\n",
       "      <td>https://fakestoreapi.com/img/71li-ujtlUL._AC_U...</td>\n",
       "      <td>{'rate': 4.7, 'count': 500}</td>\n",
       "    </tr>\n",
       "    <tr>\n",
       "      <th>3</th>\n",
       "      <td>4</td>\n",
       "      <td>Mens Casual Slim Fit</td>\n",
       "      <td>15.99</td>\n",
       "      <td>The color could be slightly different between ...</td>\n",
       "      <td>men's clothing</td>\n",
       "      <td>https://fakestoreapi.com/img/71YXzeOuslL._AC_U...</td>\n",
       "      <td>{'rate': 2.1, 'count': 430}</td>\n",
       "    </tr>\n",
       "    <tr>\n",
       "      <th>4</th>\n",
       "      <td>5</td>\n",
       "      <td>John Hardy Women's Legends Naga Gold &amp; Silver ...</td>\n",
       "      <td>695.00</td>\n",
       "      <td>From our Legends Collection, the Naga was insp...</td>\n",
       "      <td>jewelery</td>\n",
       "      <td>https://fakestoreapi.com/img/71pWzhdJNwL._AC_U...</td>\n",
       "      <td>{'rate': 4.6, 'count': 400}</td>\n",
       "    </tr>\n",
       "  </tbody>\n",
       "</table>\n",
       "</div>"
      ],
      "text/plain": [
       "   id                                              title   price  \\\n",
       "0   1  Fjallraven - Foldsack No. 1 Backpack, Fits 15 ...  109.95   \n",
       "1   2             Mens Casual Premium Slim Fit T-Shirts    22.30   \n",
       "2   3                                 Mens Cotton Jacket   55.99   \n",
       "3   4                               Mens Casual Slim Fit   15.99   \n",
       "4   5  John Hardy Women's Legends Naga Gold & Silver ...  695.00   \n",
       "\n",
       "                                         description        category  \\\n",
       "0  Your perfect pack for everyday use and walks i...  men's clothing   \n",
       "1  Slim-fitting style, contrast raglan long sleev...  men's clothing   \n",
       "2  great outerwear jackets for Spring/Autumn/Wint...  men's clothing   \n",
       "3  The color could be slightly different between ...  men's clothing   \n",
       "4  From our Legends Collection, the Naga was insp...        jewelery   \n",
       "\n",
       "                                               image  \\\n",
       "0  https://fakestoreapi.com/img/81fPKd-2AYL._AC_S...   \n",
       "1  https://fakestoreapi.com/img/71-3HjGNDUL._AC_S...   \n",
       "2  https://fakestoreapi.com/img/71li-ujtlUL._AC_U...   \n",
       "3  https://fakestoreapi.com/img/71YXzeOuslL._AC_U...   \n",
       "4  https://fakestoreapi.com/img/71pWzhdJNwL._AC_U...   \n",
       "\n",
       "                        rating  \n",
       "0  {'rate': 3.9, 'count': 120}  \n",
       "1  {'rate': 4.1, 'count': 259}  \n",
       "2  {'rate': 4.7, 'count': 500}  \n",
       "3  {'rate': 2.1, 'count': 430}  \n",
       "4  {'rate': 4.6, 'count': 400}  "
      ]
     },
     "execution_count": 330,
     "metadata": {},
     "output_type": "execute_result"
    }
   ],
   "source": [
    "df_products.head()"
   ]
  },
  {
   "cell_type": "markdown",
   "metadata": {},
   "source": [
    "### Checking column types"
   ]
  },
  {
   "cell_type": "code",
   "execution_count": 331,
   "metadata": {},
   "outputs": [
    {
     "data": {
      "text/plain": [
       "id               int64\n",
       "title           object\n",
       "price          float64\n",
       "description     object\n",
       "category        object\n",
       "image           object\n",
       "rating          object\n",
       "dtype: object"
      ]
     },
     "execution_count": 331,
     "metadata": {},
     "output_type": "execute_result"
    }
   ],
   "source": [
    "df_products.dtypes"
   ]
  },
  {
   "cell_type": "markdown",
   "metadata": {},
   "source": [
    "### Checking sizes"
   ]
  },
  {
   "cell_type": "code",
   "execution_count": 332,
   "metadata": {},
   "outputs": [
    {
     "name": "stdout",
     "output_type": "stream",
     "text": [
      "<class 'pandas.core.frame.DataFrame'>\n",
      "Index: 20 entries, 0 to 19\n",
      "Data columns (total 7 columns):\n",
      " #   Column       Non-Null Count  Dtype  \n",
      "---  ------       --------------  -----  \n",
      " 0   id           20 non-null     int64  \n",
      " 1   title        20 non-null     object \n",
      " 2   price        20 non-null     float64\n",
      " 3   description  20 non-null     object \n",
      " 4   category     20 non-null     object \n",
      " 5   image        20 non-null     object \n",
      " 6   rating       20 non-null     object \n",
      "dtypes: float64(1), int64(1), object(5)\n",
      "memory usage: 1.2+ KB\n"
     ]
    }
   ],
   "source": [
    "df_products.info()"
   ]
  },
  {
   "cell_type": "markdown",
   "metadata": {},
   "source": [
    "### Checking null values and duplicated rows"
   ]
  },
  {
   "cell_type": "code",
   "execution_count": 333,
   "metadata": {},
   "outputs": [
    {
     "data": {
      "text/plain": [
       "id             0\n",
       "title          0\n",
       "price          0\n",
       "description    0\n",
       "category       0\n",
       "image          0\n",
       "rating         0\n",
       "dtype: int64"
      ]
     },
     "execution_count": 333,
     "metadata": {},
     "output_type": "execute_result"
    }
   ],
   "source": [
    "df_products.isnull().sum()"
   ]
  },
  {
   "cell_type": "code",
   "execution_count": 334,
   "metadata": {},
   "outputs": [
    {
     "name": "stdout",
     "output_type": "stream",
     "text": [
      "O número de linhas duplicadas é: 0\n"
     ]
    }
   ],
   "source": [
    "print(f\"O número de linhas duplicadas é: {df_products.duplicated().sum()}\")"
   ]
  },
  {
   "cell_type": "markdown",
   "metadata": {},
   "source": [
    "### Split columns"
   ]
  },
  {
   "cell_type": "markdown",
   "metadata": {},
   "source": [
    "- split 'rating' column into 2 new columns: avg_rating and count_ratings\n",
    "- delete old 'rating' column\n",
    "- its easier to perform calculations with those 2 metrics separated."
   ]
  },
  {
   "cell_type": "code",
   "execution_count": 335,
   "metadata": {},
   "outputs": [
    {
     "data": {
      "text/html": [
       "<div>\n",
       "<style scoped>\n",
       "    .dataframe tbody tr th:only-of-type {\n",
       "        vertical-align: middle;\n",
       "    }\n",
       "\n",
       "    .dataframe tbody tr th {\n",
       "        vertical-align: top;\n",
       "    }\n",
       "\n",
       "    .dataframe thead th {\n",
       "        text-align: right;\n",
       "    }\n",
       "</style>\n",
       "<table border=\"1\" class=\"dataframe\">\n",
       "  <thead>\n",
       "    <tr style=\"text-align: right;\">\n",
       "      <th></th>\n",
       "      <th>id</th>\n",
       "      <th>title</th>\n",
       "      <th>price</th>\n",
       "      <th>description</th>\n",
       "      <th>category</th>\n",
       "      <th>image</th>\n",
       "      <th>avg_rating</th>\n",
       "      <th>count_ratings</th>\n",
       "    </tr>\n",
       "  </thead>\n",
       "  <tbody>\n",
       "    <tr>\n",
       "      <th>0</th>\n",
       "      <td>1</td>\n",
       "      <td>Fjallraven - Foldsack No. 1 Backpack, Fits 15 ...</td>\n",
       "      <td>109.95</td>\n",
       "      <td>Your perfect pack for everyday use and walks i...</td>\n",
       "      <td>men's clothing</td>\n",
       "      <td>https://fakestoreapi.com/img/81fPKd-2AYL._AC_S...</td>\n",
       "      <td>3.9</td>\n",
       "      <td>120</td>\n",
       "    </tr>\n",
       "    <tr>\n",
       "      <th>1</th>\n",
       "      <td>2</td>\n",
       "      <td>Mens Casual Premium Slim Fit T-Shirts</td>\n",
       "      <td>22.30</td>\n",
       "      <td>Slim-fitting style, contrast raglan long sleev...</td>\n",
       "      <td>men's clothing</td>\n",
       "      <td>https://fakestoreapi.com/img/71-3HjGNDUL._AC_S...</td>\n",
       "      <td>4.1</td>\n",
       "      <td>259</td>\n",
       "    </tr>\n",
       "    <tr>\n",
       "      <th>2</th>\n",
       "      <td>3</td>\n",
       "      <td>Mens Cotton Jacket</td>\n",
       "      <td>55.99</td>\n",
       "      <td>great outerwear jackets for Spring/Autumn/Wint...</td>\n",
       "      <td>men's clothing</td>\n",
       "      <td>https://fakestoreapi.com/img/71li-ujtlUL._AC_U...</td>\n",
       "      <td>4.7</td>\n",
       "      <td>500</td>\n",
       "    </tr>\n",
       "    <tr>\n",
       "      <th>3</th>\n",
       "      <td>4</td>\n",
       "      <td>Mens Casual Slim Fit</td>\n",
       "      <td>15.99</td>\n",
       "      <td>The color could be slightly different between ...</td>\n",
       "      <td>men's clothing</td>\n",
       "      <td>https://fakestoreapi.com/img/71YXzeOuslL._AC_U...</td>\n",
       "      <td>2.1</td>\n",
       "      <td>430</td>\n",
       "    </tr>\n",
       "    <tr>\n",
       "      <th>4</th>\n",
       "      <td>5</td>\n",
       "      <td>John Hardy Women's Legends Naga Gold &amp; Silver ...</td>\n",
       "      <td>695.00</td>\n",
       "      <td>From our Legends Collection, the Naga was insp...</td>\n",
       "      <td>jewelery</td>\n",
       "      <td>https://fakestoreapi.com/img/71pWzhdJNwL._AC_U...</td>\n",
       "      <td>4.6</td>\n",
       "      <td>400</td>\n",
       "    </tr>\n",
       "  </tbody>\n",
       "</table>\n",
       "</div>"
      ],
      "text/plain": [
       "   id                                              title   price  \\\n",
       "0   1  Fjallraven - Foldsack No. 1 Backpack, Fits 15 ...  109.95   \n",
       "1   2             Mens Casual Premium Slim Fit T-Shirts    22.30   \n",
       "2   3                                 Mens Cotton Jacket   55.99   \n",
       "3   4                               Mens Casual Slim Fit   15.99   \n",
       "4   5  John Hardy Women's Legends Naga Gold & Silver ...  695.00   \n",
       "\n",
       "                                         description        category  \\\n",
       "0  Your perfect pack for everyday use and walks i...  men's clothing   \n",
       "1  Slim-fitting style, contrast raglan long sleev...  men's clothing   \n",
       "2  great outerwear jackets for Spring/Autumn/Wint...  men's clothing   \n",
       "3  The color could be slightly different between ...  men's clothing   \n",
       "4  From our Legends Collection, the Naga was insp...        jewelery   \n",
       "\n",
       "                                               image  avg_rating  \\\n",
       "0  https://fakestoreapi.com/img/81fPKd-2AYL._AC_S...         3.9   \n",
       "1  https://fakestoreapi.com/img/71-3HjGNDUL._AC_S...         4.1   \n",
       "2  https://fakestoreapi.com/img/71li-ujtlUL._AC_U...         4.7   \n",
       "3  https://fakestoreapi.com/img/71YXzeOuslL._AC_U...         2.1   \n",
       "4  https://fakestoreapi.com/img/71pWzhdJNwL._AC_U...         4.6   \n",
       "\n",
       "   count_ratings  \n",
       "0            120  \n",
       "1            259  \n",
       "2            500  \n",
       "3            430  \n",
       "4            400  "
      ]
     },
     "execution_count": 335,
     "metadata": {},
     "output_type": "execute_result"
    }
   ],
   "source": [
    "# Garantindo que a coluna 'rating' seja convertida para dicionário p/poder aplicar lambda\n",
    "df_products['rating'] = df_products['rating'].apply(eval)\n",
    "\n",
    "# Extraindo valores da coluna 'rating' e criando novas colunas\n",
    "df_products['avg_rating'] = df_products['rating'].apply(lambda x: x['rate'])\n",
    "df_products['count_ratings'] = df_products['rating'].apply(lambda x: x['count'])\n",
    "\n",
    "# Removendo a coluna antiga 'rating'\n",
    "df_products = df_products.drop(columns=['rating'])\n",
    "\n",
    "# Exibindo as primeiras linhas do DataFrame para verificar\n",
    "df_products.head()"
   ]
  },
  {
   "cell_type": "markdown",
   "metadata": {},
   "source": [
    "### Saving cleaned dataset"
   ]
  },
  {
   "cell_type": "code",
   "execution_count": 336,
   "metadata": {},
   "outputs": [],
   "source": [
    "df_products.to_csv('data/df_products_cleaned.csv', index=False)"
   ]
  },
  {
   "cell_type": "markdown",
   "metadata": {},
   "source": [
    "## Data Cleaning - Carts"
   ]
  },
  {
   "cell_type": "code",
   "execution_count": 337,
   "metadata": {},
   "outputs": [
    {
     "data": {
      "text/html": [
       "<div>\n",
       "<style scoped>\n",
       "    .dataframe tbody tr th:only-of-type {\n",
       "        vertical-align: middle;\n",
       "    }\n",
       "\n",
       "    .dataframe tbody tr th {\n",
       "        vertical-align: top;\n",
       "    }\n",
       "\n",
       "    .dataframe thead th {\n",
       "        text-align: right;\n",
       "    }\n",
       "</style>\n",
       "<table border=\"1\" class=\"dataframe\">\n",
       "  <thead>\n",
       "    <tr style=\"text-align: right;\">\n",
       "      <th></th>\n",
       "      <th>id</th>\n",
       "      <th>userId</th>\n",
       "      <th>date</th>\n",
       "      <th>products</th>\n",
       "      <th>__v</th>\n",
       "    </tr>\n",
       "  </thead>\n",
       "  <tbody>\n",
       "    <tr>\n",
       "      <th>0</th>\n",
       "      <td>1</td>\n",
       "      <td>1</td>\n",
       "      <td>2020-03-02T00:00:00.000Z</td>\n",
       "      <td>[{'productId': 1, 'quantity': 4}, {'productId'...</td>\n",
       "      <td>0</td>\n",
       "    </tr>\n",
       "    <tr>\n",
       "      <th>1</th>\n",
       "      <td>2</td>\n",
       "      <td>1</td>\n",
       "      <td>2020-01-02T00:00:00.000Z</td>\n",
       "      <td>[{'productId': 2, 'quantity': 4}, {'productId'...</td>\n",
       "      <td>0</td>\n",
       "    </tr>\n",
       "    <tr>\n",
       "      <th>2</th>\n",
       "      <td>3</td>\n",
       "      <td>2</td>\n",
       "      <td>2020-03-01T00:00:00.000Z</td>\n",
       "      <td>[{'productId': 1, 'quantity': 2}, {'productId'...</td>\n",
       "      <td>0</td>\n",
       "    </tr>\n",
       "    <tr>\n",
       "      <th>3</th>\n",
       "      <td>4</td>\n",
       "      <td>3</td>\n",
       "      <td>2020-01-01T00:00:00.000Z</td>\n",
       "      <td>[{'productId': 1, 'quantity': 4}]</td>\n",
       "      <td>0</td>\n",
       "    </tr>\n",
       "    <tr>\n",
       "      <th>4</th>\n",
       "      <td>5</td>\n",
       "      <td>3</td>\n",
       "      <td>2020-03-01T00:00:00.000Z</td>\n",
       "      <td>[{'productId': 7, 'quantity': 1}, {'productId'...</td>\n",
       "      <td>0</td>\n",
       "    </tr>\n",
       "  </tbody>\n",
       "</table>\n",
       "</div>"
      ],
      "text/plain": [
       "   id  userId                      date  \\\n",
       "0   1       1  2020-03-02T00:00:00.000Z   \n",
       "1   2       1  2020-01-02T00:00:00.000Z   \n",
       "2   3       2  2020-03-01T00:00:00.000Z   \n",
       "3   4       3  2020-01-01T00:00:00.000Z   \n",
       "4   5       3  2020-03-01T00:00:00.000Z   \n",
       "\n",
       "                                            products  __v  \n",
       "0  [{'productId': 1, 'quantity': 4}, {'productId'...    0  \n",
       "1  [{'productId': 2, 'quantity': 4}, {'productId'...    0  \n",
       "2  [{'productId': 1, 'quantity': 2}, {'productId'...    0  \n",
       "3                  [{'productId': 1, 'quantity': 4}]    0  \n",
       "4  [{'productId': 7, 'quantity': 1}, {'productId'...    0  "
      ]
     },
     "execution_count": 337,
     "metadata": {},
     "output_type": "execute_result"
    }
   ],
   "source": [
    "df_carts = pd.read_csv('data/df_carts.csv', index_col=0)\n",
    "df_carts.head()"
   ]
  },
  {
   "cell_type": "markdown",
   "metadata": {},
   "source": [
    "### Checking types"
   ]
  },
  {
   "cell_type": "code",
   "execution_count": 338,
   "metadata": {},
   "outputs": [
    {
     "data": {
      "text/plain": [
       "id           int64\n",
       "userId       int64\n",
       "date        object\n",
       "products    object\n",
       "__v          int64\n",
       "dtype: object"
      ]
     },
     "execution_count": 338,
     "metadata": {},
     "output_type": "execute_result"
    }
   ],
   "source": [
    "df_carts.dtypes"
   ]
  },
  {
   "cell_type": "code",
   "execution_count": 339,
   "metadata": {},
   "outputs": [],
   "source": [
    "# Alterando coluna 'date' para formato 'datetime'\n",
    "# df_carts['date'] = pd.to_datetime(df_carts['date']).dt.strftime('%Y-%m-%d')\n",
    "df_carts['date'] = pd.to_datetime(df_carts['date'])"
   ]
  },
  {
   "cell_type": "code",
   "execution_count": 340,
   "metadata": {},
   "outputs": [
    {
     "data": {
      "text/plain": [
       "id                        int64\n",
       "userId                    int64\n",
       "date        datetime64[ns, UTC]\n",
       "products                 object\n",
       "__v                       int64\n",
       "dtype: object"
      ]
     },
     "execution_count": 340,
     "metadata": {},
     "output_type": "execute_result"
    }
   ],
   "source": [
    "df_carts.dtypes"
   ]
  },
  {
   "cell_type": "markdown",
   "metadata": {},
   "source": [
    "### Checking null values and duplicated rows"
   ]
  },
  {
   "cell_type": "code",
   "execution_count": 341,
   "metadata": {},
   "outputs": [
    {
     "data": {
      "text/plain": [
       "id          0\n",
       "userId      0\n",
       "date        0\n",
       "products    0\n",
       "__v         0\n",
       "dtype: int64"
      ]
     },
     "execution_count": 341,
     "metadata": {},
     "output_type": "execute_result"
    }
   ],
   "source": [
    "# Contando valores nulos por coluna\n",
    "df_carts.isnull().sum()"
   ]
  },
  {
   "cell_type": "code",
   "execution_count": 342,
   "metadata": {},
   "outputs": [
    {
     "name": "stdout",
     "output_type": "stream",
     "text": [
      "O número de linhas duplicadas é: 0\n"
     ]
    }
   ],
   "source": [
    "print(f\"O número de linhas duplicadas é: {df_carts.duplicated().sum()}\")"
   ]
  },
  {
   "cell_type": "markdown",
   "metadata": {},
   "source": [
    "### Columns transformations"
   ]
  },
  {
   "cell_type": "code",
   "execution_count": 343,
   "metadata": {},
   "outputs": [
    {
     "data": {
      "text/plain": [
       "array([0])"
      ]
     },
     "execution_count": 343,
     "metadata": {},
     "output_type": "execute_result"
    }
   ],
   "source": [
    "# Verificando se a coluna '__v' tem algum valor diferente\n",
    "df_carts['__v'].unique()"
   ]
  },
  {
   "cell_type": "code",
   "execution_count": 344,
   "metadata": {},
   "outputs": [
    {
     "data": {
      "text/plain": [
       "Index(['id', 'userId', 'date', 'products'], dtype='object')"
      ]
     },
     "execution_count": 344,
     "metadata": {},
     "output_type": "execute_result"
    }
   ],
   "source": [
    "# Como ela não tem, será descartada\n",
    "df_carts.drop(columns='__v', inplace=True)\n",
    "df_carts.columns"
   ]
  },
  {
   "cell_type": "code",
   "execution_count": 345,
   "metadata": {},
   "outputs": [
    {
     "data": {
      "text/html": [
       "<div>\n",
       "<style scoped>\n",
       "    .dataframe tbody tr th:only-of-type {\n",
       "        vertical-align: middle;\n",
       "    }\n",
       "\n",
       "    .dataframe tbody tr th {\n",
       "        vertical-align: top;\n",
       "    }\n",
       "\n",
       "    .dataframe thead th {\n",
       "        text-align: right;\n",
       "    }\n",
       "</style>\n",
       "<table border=\"1\" class=\"dataframe\">\n",
       "  <thead>\n",
       "    <tr style=\"text-align: right;\">\n",
       "      <th></th>\n",
       "      <th>id</th>\n",
       "      <th>userId</th>\n",
       "      <th>date</th>\n",
       "      <th>product_1</th>\n",
       "      <th>product_2</th>\n",
       "      <th>product_3</th>\n",
       "      <th>product_4</th>\n",
       "      <th>product_5</th>\n",
       "      <th>product_6</th>\n",
       "      <th>product_7</th>\n",
       "      <th>...</th>\n",
       "      <th>product_11</th>\n",
       "      <th>product_12</th>\n",
       "      <th>product_13</th>\n",
       "      <th>product_14</th>\n",
       "      <th>product_15</th>\n",
       "      <th>product_16</th>\n",
       "      <th>product_17</th>\n",
       "      <th>product_18</th>\n",
       "      <th>product_19</th>\n",
       "      <th>product_20</th>\n",
       "    </tr>\n",
       "  </thead>\n",
       "  <tbody>\n",
       "    <tr>\n",
       "      <th>0</th>\n",
       "      <td>1</td>\n",
       "      <td>1</td>\n",
       "      <td>2020-03-02 00:00:00+00:00</td>\n",
       "      <td>4</td>\n",
       "      <td>1</td>\n",
       "      <td>6</td>\n",
       "      <td>0</td>\n",
       "      <td>0</td>\n",
       "      <td>0</td>\n",
       "      <td>0</td>\n",
       "      <td>...</td>\n",
       "      <td>0</td>\n",
       "      <td>0</td>\n",
       "      <td>0</td>\n",
       "      <td>0</td>\n",
       "      <td>0</td>\n",
       "      <td>0</td>\n",
       "      <td>0</td>\n",
       "      <td>0</td>\n",
       "      <td>0</td>\n",
       "      <td>0</td>\n",
       "    </tr>\n",
       "    <tr>\n",
       "      <th>1</th>\n",
       "      <td>2</td>\n",
       "      <td>1</td>\n",
       "      <td>2020-01-02 00:00:00+00:00</td>\n",
       "      <td>10</td>\n",
       "      <td>4</td>\n",
       "      <td>0</td>\n",
       "      <td>0</td>\n",
       "      <td>2</td>\n",
       "      <td>0</td>\n",
       "      <td>0</td>\n",
       "      <td>...</td>\n",
       "      <td>0</td>\n",
       "      <td>0</td>\n",
       "      <td>0</td>\n",
       "      <td>0</td>\n",
       "      <td>0</td>\n",
       "      <td>0</td>\n",
       "      <td>0</td>\n",
       "      <td>0</td>\n",
       "      <td>0</td>\n",
       "      <td>0</td>\n",
       "    </tr>\n",
       "    <tr>\n",
       "      <th>2</th>\n",
       "      <td>3</td>\n",
       "      <td>2</td>\n",
       "      <td>2020-03-01 00:00:00+00:00</td>\n",
       "      <td>2</td>\n",
       "      <td>0</td>\n",
       "      <td>0</td>\n",
       "      <td>0</td>\n",
       "      <td>0</td>\n",
       "      <td>0</td>\n",
       "      <td>0</td>\n",
       "      <td>...</td>\n",
       "      <td>0</td>\n",
       "      <td>0</td>\n",
       "      <td>0</td>\n",
       "      <td>0</td>\n",
       "      <td>0</td>\n",
       "      <td>0</td>\n",
       "      <td>0</td>\n",
       "      <td>0</td>\n",
       "      <td>0</td>\n",
       "      <td>0</td>\n",
       "    </tr>\n",
       "    <tr>\n",
       "      <th>3</th>\n",
       "      <td>4</td>\n",
       "      <td>3</td>\n",
       "      <td>2020-01-01 00:00:00+00:00</td>\n",
       "      <td>4</td>\n",
       "      <td>0</td>\n",
       "      <td>0</td>\n",
       "      <td>0</td>\n",
       "      <td>0</td>\n",
       "      <td>0</td>\n",
       "      <td>0</td>\n",
       "      <td>...</td>\n",
       "      <td>0</td>\n",
       "      <td>0</td>\n",
       "      <td>0</td>\n",
       "      <td>0</td>\n",
       "      <td>0</td>\n",
       "      <td>0</td>\n",
       "      <td>0</td>\n",
       "      <td>0</td>\n",
       "      <td>0</td>\n",
       "      <td>0</td>\n",
       "    </tr>\n",
       "    <tr>\n",
       "      <th>4</th>\n",
       "      <td>5</td>\n",
       "      <td>3</td>\n",
       "      <td>2020-03-01 00:00:00+00:00</td>\n",
       "      <td>0</td>\n",
       "      <td>0</td>\n",
       "      <td>0</td>\n",
       "      <td>0</td>\n",
       "      <td>0</td>\n",
       "      <td>0</td>\n",
       "      <td>1</td>\n",
       "      <td>...</td>\n",
       "      <td>0</td>\n",
       "      <td>0</td>\n",
       "      <td>0</td>\n",
       "      <td>0</td>\n",
       "      <td>0</td>\n",
       "      <td>0</td>\n",
       "      <td>0</td>\n",
       "      <td>0</td>\n",
       "      <td>0</td>\n",
       "      <td>0</td>\n",
       "    </tr>\n",
       "  </tbody>\n",
       "</table>\n",
       "<p>5 rows × 23 columns</p>\n",
       "</div>"
      ],
      "text/plain": [
       "   id  userId                      date  product_1  product_2  product_3  \\\n",
       "0   1       1 2020-03-02 00:00:00+00:00          4          1          6   \n",
       "1   2       1 2020-01-02 00:00:00+00:00         10          4          0   \n",
       "2   3       2 2020-03-01 00:00:00+00:00          2          0          0   \n",
       "3   4       3 2020-01-01 00:00:00+00:00          4          0          0   \n",
       "4   5       3 2020-03-01 00:00:00+00:00          0          0          0   \n",
       "\n",
       "   product_4  product_5  product_6  product_7  ...  product_11  product_12  \\\n",
       "0          0          0          0          0  ...           0           0   \n",
       "1          0          2          0          0  ...           0           0   \n",
       "2          0          0          0          0  ...           0           0   \n",
       "3          0          0          0          0  ...           0           0   \n",
       "4          0          0          0          1  ...           0           0   \n",
       "\n",
       "   product_13  product_14  product_15  product_16  product_17  product_18  \\\n",
       "0           0           0           0           0           0           0   \n",
       "1           0           0           0           0           0           0   \n",
       "2           0           0           0           0           0           0   \n",
       "3           0           0           0           0           0           0   \n",
       "4           0           0           0           0           0           0   \n",
       "\n",
       "   product_19  product_20  \n",
       "0           0           0  \n",
       "1           0           0  \n",
       "2           0           0  \n",
       "3           0           0  \n",
       "4           0           0  \n",
       "\n",
       "[5 rows x 23 columns]"
      ]
     },
     "execution_count": 345,
     "metadata": {},
     "output_type": "execute_result"
    }
   ],
   "source": [
    "df1 = df_carts.copy()\n",
    "\n",
    "# Garantindo que a coluna 'products' seja convertida para listas de dicionários\n",
    "df1['products'] = df1['products'].apply(ast.literal_eval)\n",
    "\n",
    "# Criando colunas para cada produto de 1 a 20\n",
    "for product_id in range(1, 21):\n",
    "    df1[f'product_{product_id}'] = df1['products'].apply(\n",
    "        lambda products_list: sum(product['quantity'] for product in products_list if product['productId'] == product_id)\n",
    "    )\n",
    "\n",
    "# Removendo a coluna original 'products'\n",
    "df1 = df1.drop(columns=['products'])\n",
    "\n",
    "# Exibindo as primeiras linhas do DataFrame para verificar\n",
    "df1.head()"
   ]
  },
  {
   "cell_type": "markdown",
   "metadata": {},
   "source": [
    "### Saving cleaned dataset"
   ]
  },
  {
   "cell_type": "code",
   "execution_count": 346,
   "metadata": {},
   "outputs": [],
   "source": [
    "df1.to_csv('data/df_carts_cleaned.csv', index=False)"
   ]
  },
  {
   "cell_type": "markdown",
   "metadata": {},
   "source": [
    "## Data Cleaning - Users"
   ]
  },
  {
   "cell_type": "code",
   "execution_count": 347,
   "metadata": {},
   "outputs": [
    {
     "name": "stdout",
     "output_type": "stream",
     "text": [
      "<class 'pandas.core.frame.DataFrame'>\n",
      "Index: 10 entries, 0 to 9\n",
      "Data columns (total 8 columns):\n",
      " #   Column    Non-Null Count  Dtype \n",
      "---  ------    --------------  ----- \n",
      " 0   address   10 non-null     object\n",
      " 1   id        10 non-null     int64 \n",
      " 2   email     10 non-null     object\n",
      " 3   username  10 non-null     object\n",
      " 4   password  10 non-null     object\n",
      " 5   name      10 non-null     object\n",
      " 6   phone     10 non-null     object\n",
      " 7   __v       10 non-null     int64 \n",
      "dtypes: int64(2), object(6)\n",
      "memory usage: 720.0+ bytes\n"
     ]
    }
   ],
   "source": [
    "df_users.info()"
   ]
  },
  {
   "cell_type": "code",
   "execution_count": 348,
   "metadata": {},
   "outputs": [
    {
     "data": {
      "text/html": [
       "<div>\n",
       "<style scoped>\n",
       "    .dataframe tbody tr th:only-of-type {\n",
       "        vertical-align: middle;\n",
       "    }\n",
       "\n",
       "    .dataframe tbody tr th {\n",
       "        vertical-align: top;\n",
       "    }\n",
       "\n",
       "    .dataframe thead th {\n",
       "        text-align: right;\n",
       "    }\n",
       "</style>\n",
       "<table border=\"1\" class=\"dataframe\">\n",
       "  <thead>\n",
       "    <tr style=\"text-align: right;\">\n",
       "      <th></th>\n",
       "      <th>address</th>\n",
       "      <th>id</th>\n",
       "      <th>email</th>\n",
       "      <th>username</th>\n",
       "      <th>password</th>\n",
       "      <th>name</th>\n",
       "      <th>phone</th>\n",
       "      <th>__v</th>\n",
       "    </tr>\n",
       "  </thead>\n",
       "  <tbody>\n",
       "    <tr>\n",
       "      <th>0</th>\n",
       "      <td>{'geolocation': {'lat': '-37.3159', 'long': '8...</td>\n",
       "      <td>1</td>\n",
       "      <td>john@gmail.com</td>\n",
       "      <td>johnd</td>\n",
       "      <td>m38rmF$</td>\n",
       "      <td>{'firstname': 'john', 'lastname': 'doe'}</td>\n",
       "      <td>1-570-236-7033</td>\n",
       "      <td>0</td>\n",
       "    </tr>\n",
       "    <tr>\n",
       "      <th>1</th>\n",
       "      <td>{'geolocation': {'lat': '-37.3159', 'long': '8...</td>\n",
       "      <td>2</td>\n",
       "      <td>morrison@gmail.com</td>\n",
       "      <td>mor_2314</td>\n",
       "      <td>83r5^_</td>\n",
       "      <td>{'firstname': 'david', 'lastname': 'morrison'}</td>\n",
       "      <td>1-570-236-7033</td>\n",
       "      <td>0</td>\n",
       "    </tr>\n",
       "    <tr>\n",
       "      <th>2</th>\n",
       "      <td>{'geolocation': {'lat': '40.3467', 'long': '-3...</td>\n",
       "      <td>3</td>\n",
       "      <td>kevin@gmail.com</td>\n",
       "      <td>kevinryan</td>\n",
       "      <td>kev02937@</td>\n",
       "      <td>{'firstname': 'kevin', 'lastname': 'ryan'}</td>\n",
       "      <td>1-567-094-1345</td>\n",
       "      <td>0</td>\n",
       "    </tr>\n",
       "    <tr>\n",
       "      <th>3</th>\n",
       "      <td>{'geolocation': {'lat': '50.3467', 'long': '-2...</td>\n",
       "      <td>4</td>\n",
       "      <td>don@gmail.com</td>\n",
       "      <td>donero</td>\n",
       "      <td>ewedon</td>\n",
       "      <td>{'firstname': 'don', 'lastname': 'romer'}</td>\n",
       "      <td>1-765-789-6734</td>\n",
       "      <td>0</td>\n",
       "    </tr>\n",
       "    <tr>\n",
       "      <th>4</th>\n",
       "      <td>{'geolocation': {'lat': '40.3467', 'long': '-4...</td>\n",
       "      <td>5</td>\n",
       "      <td>derek@gmail.com</td>\n",
       "      <td>derek</td>\n",
       "      <td>jklg*_56</td>\n",
       "      <td>{'firstname': 'derek', 'lastname': 'powell'}</td>\n",
       "      <td>1-956-001-1945</td>\n",
       "      <td>0</td>\n",
       "    </tr>\n",
       "  </tbody>\n",
       "</table>\n",
       "</div>"
      ],
      "text/plain": [
       "                                             address  id               email  \\\n",
       "0  {'geolocation': {'lat': '-37.3159', 'long': '8...   1      john@gmail.com   \n",
       "1  {'geolocation': {'lat': '-37.3159', 'long': '8...   2  morrison@gmail.com   \n",
       "2  {'geolocation': {'lat': '40.3467', 'long': '-3...   3     kevin@gmail.com   \n",
       "3  {'geolocation': {'lat': '50.3467', 'long': '-2...   4       don@gmail.com   \n",
       "4  {'geolocation': {'lat': '40.3467', 'long': '-4...   5     derek@gmail.com   \n",
       "\n",
       "    username   password                                            name  \\\n",
       "0      johnd    m38rmF$        {'firstname': 'john', 'lastname': 'doe'}   \n",
       "1   mor_2314     83r5^_  {'firstname': 'david', 'lastname': 'morrison'}   \n",
       "2  kevinryan  kev02937@      {'firstname': 'kevin', 'lastname': 'ryan'}   \n",
       "3     donero     ewedon       {'firstname': 'don', 'lastname': 'romer'}   \n",
       "4      derek   jklg*_56    {'firstname': 'derek', 'lastname': 'powell'}   \n",
       "\n",
       "            phone  __v  \n",
       "0  1-570-236-7033    0  \n",
       "1  1-570-236-7033    0  \n",
       "2  1-567-094-1345    0  \n",
       "3  1-765-789-6734    0  \n",
       "4  1-956-001-1945    0  "
      ]
     },
     "execution_count": 348,
     "metadata": {},
     "output_type": "execute_result"
    }
   ],
   "source": [
    "df_users.head()"
   ]
  },
  {
   "cell_type": "markdown",
   "metadata": {},
   "source": [
    "### Checking types"
   ]
  },
  {
   "cell_type": "code",
   "execution_count": 349,
   "metadata": {},
   "outputs": [
    {
     "data": {
      "text/plain": [
       "address     object\n",
       "id           int64\n",
       "email       object\n",
       "username    object\n",
       "password    object\n",
       "name        object\n",
       "phone       object\n",
       "__v          int64\n",
       "dtype: object"
      ]
     },
     "execution_count": 349,
     "metadata": {},
     "output_type": "execute_result"
    }
   ],
   "source": [
    "df_users.dtypes"
   ]
  },
  {
   "cell_type": "markdown",
   "metadata": {},
   "source": [
    "### Checking null values and duplicated rows"
   ]
  },
  {
   "cell_type": "code",
   "execution_count": 350,
   "metadata": {},
   "outputs": [
    {
     "data": {
      "text/plain": [
       "address     0\n",
       "id          0\n",
       "email       0\n",
       "username    0\n",
       "password    0\n",
       "name        0\n",
       "phone       0\n",
       "__v         0\n",
       "dtype: int64"
      ]
     },
     "execution_count": 350,
     "metadata": {},
     "output_type": "execute_result"
    }
   ],
   "source": [
    "# Contando valores nulos por coluna\n",
    "df_users.isnull().sum()"
   ]
  },
  {
   "cell_type": "code",
   "execution_count": 351,
   "metadata": {},
   "outputs": [
    {
     "name": "stdout",
     "output_type": "stream",
     "text": [
      "O número de linhas duplicadas é: 0\n"
     ]
    }
   ],
   "source": [
    "print(f\"O número de linhas duplicadas é: {df_users.duplicated().sum()}\")"
   ]
  },
  {
   "cell_type": "markdown",
   "metadata": {},
   "source": [
    "### Column transformations"
   ]
  },
  {
   "cell_type": "markdown",
   "metadata": {},
   "source": [
    "- Split 'address' column to extract 'lat' and 'long' data, as well other geolocation data\n",
    "- Transform column 'name' to show only the complete name\n",
    "- Delete '__v' column"
   ]
  },
  {
   "cell_type": "code",
   "execution_count": 352,
   "metadata": {},
   "outputs": [
    {
     "data": {
      "text/html": [
       "<div>\n",
       "<style scoped>\n",
       "    .dataframe tbody tr th:only-of-type {\n",
       "        vertical-align: middle;\n",
       "    }\n",
       "\n",
       "    .dataframe tbody tr th {\n",
       "        vertical-align: top;\n",
       "    }\n",
       "\n",
       "    .dataframe thead th {\n",
       "        text-align: right;\n",
       "    }\n",
       "</style>\n",
       "<table border=\"1\" class=\"dataframe\">\n",
       "  <thead>\n",
       "    <tr style=\"text-align: right;\">\n",
       "      <th></th>\n",
       "      <th>id</th>\n",
       "      <th>email</th>\n",
       "      <th>username</th>\n",
       "      <th>password</th>\n",
       "      <th>name</th>\n",
       "      <th>phone</th>\n",
       "      <th>__v</th>\n",
       "      <th>lat</th>\n",
       "      <th>long</th>\n",
       "      <th>city</th>\n",
       "      <th>street</th>\n",
       "      <th>number</th>\n",
       "      <th>zipcode</th>\n",
       "    </tr>\n",
       "  </thead>\n",
       "  <tbody>\n",
       "    <tr>\n",
       "      <th>0</th>\n",
       "      <td>1</td>\n",
       "      <td>john@gmail.com</td>\n",
       "      <td>johnd</td>\n",
       "      <td>m38rmF$</td>\n",
       "      <td>{'firstname': 'john', 'lastname': 'doe'}</td>\n",
       "      <td>1-570-236-7033</td>\n",
       "      <td>0</td>\n",
       "      <td>-37.3159</td>\n",
       "      <td>81.1496</td>\n",
       "      <td>Kilcoole</td>\n",
       "      <td>New Road</td>\n",
       "      <td>7682</td>\n",
       "      <td>12926-3874</td>\n",
       "    </tr>\n",
       "    <tr>\n",
       "      <th>1</th>\n",
       "      <td>2</td>\n",
       "      <td>morrison@gmail.com</td>\n",
       "      <td>mor_2314</td>\n",
       "      <td>83r5^_</td>\n",
       "      <td>{'firstname': 'david', 'lastname': 'morrison'}</td>\n",
       "      <td>1-570-236-7033</td>\n",
       "      <td>0</td>\n",
       "      <td>-37.3159</td>\n",
       "      <td>81.1496</td>\n",
       "      <td>Kilcoole</td>\n",
       "      <td>Lovers Ln</td>\n",
       "      <td>7267</td>\n",
       "      <td>12926-3874</td>\n",
       "    </tr>\n",
       "    <tr>\n",
       "      <th>2</th>\n",
       "      <td>3</td>\n",
       "      <td>kevin@gmail.com</td>\n",
       "      <td>kevinryan</td>\n",
       "      <td>kev02937@</td>\n",
       "      <td>{'firstname': 'kevin', 'lastname': 'ryan'}</td>\n",
       "      <td>1-567-094-1345</td>\n",
       "      <td>0</td>\n",
       "      <td>40.3467</td>\n",
       "      <td>-30.1310</td>\n",
       "      <td>Cullman</td>\n",
       "      <td>Frances Ct</td>\n",
       "      <td>86</td>\n",
       "      <td>29567-1452</td>\n",
       "    </tr>\n",
       "    <tr>\n",
       "      <th>3</th>\n",
       "      <td>4</td>\n",
       "      <td>don@gmail.com</td>\n",
       "      <td>donero</td>\n",
       "      <td>ewedon</td>\n",
       "      <td>{'firstname': 'don', 'lastname': 'romer'}</td>\n",
       "      <td>1-765-789-6734</td>\n",
       "      <td>0</td>\n",
       "      <td>50.3467</td>\n",
       "      <td>-20.1310</td>\n",
       "      <td>San Antonio</td>\n",
       "      <td>Hunters Creek Dr</td>\n",
       "      <td>6454</td>\n",
       "      <td>98234-1734</td>\n",
       "    </tr>\n",
       "    <tr>\n",
       "      <th>4</th>\n",
       "      <td>5</td>\n",
       "      <td>derek@gmail.com</td>\n",
       "      <td>derek</td>\n",
       "      <td>jklg*_56</td>\n",
       "      <td>{'firstname': 'derek', 'lastname': 'powell'}</td>\n",
       "      <td>1-956-001-1945</td>\n",
       "      <td>0</td>\n",
       "      <td>40.3467</td>\n",
       "      <td>-40.1310</td>\n",
       "      <td>San Antonio</td>\n",
       "      <td>Adams St</td>\n",
       "      <td>245</td>\n",
       "      <td>80796-1234</td>\n",
       "    </tr>\n",
       "  </tbody>\n",
       "</table>\n",
       "</div>"
      ],
      "text/plain": [
       "   id               email   username   password  \\\n",
       "0   1      john@gmail.com      johnd    m38rmF$   \n",
       "1   2  morrison@gmail.com   mor_2314     83r5^_   \n",
       "2   3     kevin@gmail.com  kevinryan  kev02937@   \n",
       "3   4       don@gmail.com     donero     ewedon   \n",
       "4   5     derek@gmail.com      derek   jklg*_56   \n",
       "\n",
       "                                             name           phone  __v  \\\n",
       "0        {'firstname': 'john', 'lastname': 'doe'}  1-570-236-7033    0   \n",
       "1  {'firstname': 'david', 'lastname': 'morrison'}  1-570-236-7033    0   \n",
       "2      {'firstname': 'kevin', 'lastname': 'ryan'}  1-567-094-1345    0   \n",
       "3       {'firstname': 'don', 'lastname': 'romer'}  1-765-789-6734    0   \n",
       "4    {'firstname': 'derek', 'lastname': 'powell'}  1-956-001-1945    0   \n",
       "\n",
       "       lat     long         city            street  number     zipcode  \n",
       "0 -37.3159  81.1496     Kilcoole          New Road    7682  12926-3874  \n",
       "1 -37.3159  81.1496     Kilcoole         Lovers Ln    7267  12926-3874  \n",
       "2  40.3467 -30.1310      Cullman        Frances Ct      86  29567-1452  \n",
       "3  50.3467 -20.1310  San Antonio  Hunters Creek Dr    6454  98234-1734  \n",
       "4  40.3467 -40.1310  San Antonio          Adams St     245  80796-1234  "
      ]
     },
     "execution_count": 352,
     "metadata": {},
     "output_type": "execute_result"
    }
   ],
   "source": [
    "df1 = df_users.copy()\n",
    "\n",
    "# Convertendo a coluna 'address' de string para dicionário\n",
    "df1['address'] = df1['address'].apply(ast.literal_eval)\n",
    "\n",
    "# Extraindo e criando as novas colunas\n",
    "df1['lat'] = df1['address'].apply(lambda x: float(x['geolocation']['lat']))\n",
    "df1['long'] = df1['address'].apply(lambda x: float(x['geolocation']['long']))\n",
    "df1['city'] = df1['address'].apply(lambda x: x['city'])\n",
    "df1['street'] = df1['address'].apply(lambda x: x['street'])\n",
    "df1['number'] = df1['address'].apply(lambda x: int(x['number']))\n",
    "df1['zipcode'] = df1['address'].apply(lambda x: x['zipcode'])\n",
    "\n",
    "# Removendo a coluna original 'address'\n",
    "df1 = df1.drop(columns=['address'])\n",
    "\n",
    "# Ajustando as colunas 'city' e 'street' para ter a primeira letra de cada palavra em maiúscula\n",
    "df1['city'] = df1['city'].str.title()\n",
    "df1['street'] = df1['street'].str.title()\n",
    "\n",
    "# Exibindo as primeiras linhas do DataFrame para verificar\n",
    "df1.head()"
   ]
  },
  {
   "cell_type": "code",
   "execution_count": 353,
   "metadata": {},
   "outputs": [
    {
     "data": {
      "text/html": [
       "<div>\n",
       "<style scoped>\n",
       "    .dataframe tbody tr th:only-of-type {\n",
       "        vertical-align: middle;\n",
       "    }\n",
       "\n",
       "    .dataframe tbody tr th {\n",
       "        vertical-align: top;\n",
       "    }\n",
       "\n",
       "    .dataframe thead th {\n",
       "        text-align: right;\n",
       "    }\n",
       "</style>\n",
       "<table border=\"1\" class=\"dataframe\">\n",
       "  <thead>\n",
       "    <tr style=\"text-align: right;\">\n",
       "      <th></th>\n",
       "      <th>id</th>\n",
       "      <th>email</th>\n",
       "      <th>username</th>\n",
       "      <th>password</th>\n",
       "      <th>name</th>\n",
       "      <th>phone</th>\n",
       "      <th>__v</th>\n",
       "      <th>lat</th>\n",
       "      <th>long</th>\n",
       "      <th>city</th>\n",
       "      <th>street</th>\n",
       "      <th>number</th>\n",
       "      <th>zipcode</th>\n",
       "    </tr>\n",
       "  </thead>\n",
       "  <tbody>\n",
       "    <tr>\n",
       "      <th>0</th>\n",
       "      <td>1</td>\n",
       "      <td>john@gmail.com</td>\n",
       "      <td>johnd</td>\n",
       "      <td>m38rmF$</td>\n",
       "      <td>John Doe</td>\n",
       "      <td>1-570-236-7033</td>\n",
       "      <td>0</td>\n",
       "      <td>-37.3159</td>\n",
       "      <td>81.1496</td>\n",
       "      <td>Kilcoole</td>\n",
       "      <td>New Road</td>\n",
       "      <td>7682</td>\n",
       "      <td>12926-3874</td>\n",
       "    </tr>\n",
       "    <tr>\n",
       "      <th>1</th>\n",
       "      <td>2</td>\n",
       "      <td>morrison@gmail.com</td>\n",
       "      <td>mor_2314</td>\n",
       "      <td>83r5^_</td>\n",
       "      <td>David Morrison</td>\n",
       "      <td>1-570-236-7033</td>\n",
       "      <td>0</td>\n",
       "      <td>-37.3159</td>\n",
       "      <td>81.1496</td>\n",
       "      <td>Kilcoole</td>\n",
       "      <td>Lovers Ln</td>\n",
       "      <td>7267</td>\n",
       "      <td>12926-3874</td>\n",
       "    </tr>\n",
       "    <tr>\n",
       "      <th>2</th>\n",
       "      <td>3</td>\n",
       "      <td>kevin@gmail.com</td>\n",
       "      <td>kevinryan</td>\n",
       "      <td>kev02937@</td>\n",
       "      <td>Kevin Ryan</td>\n",
       "      <td>1-567-094-1345</td>\n",
       "      <td>0</td>\n",
       "      <td>40.3467</td>\n",
       "      <td>-30.1310</td>\n",
       "      <td>Cullman</td>\n",
       "      <td>Frances Ct</td>\n",
       "      <td>86</td>\n",
       "      <td>29567-1452</td>\n",
       "    </tr>\n",
       "    <tr>\n",
       "      <th>3</th>\n",
       "      <td>4</td>\n",
       "      <td>don@gmail.com</td>\n",
       "      <td>donero</td>\n",
       "      <td>ewedon</td>\n",
       "      <td>Don Romer</td>\n",
       "      <td>1-765-789-6734</td>\n",
       "      <td>0</td>\n",
       "      <td>50.3467</td>\n",
       "      <td>-20.1310</td>\n",
       "      <td>San Antonio</td>\n",
       "      <td>Hunters Creek Dr</td>\n",
       "      <td>6454</td>\n",
       "      <td>98234-1734</td>\n",
       "    </tr>\n",
       "    <tr>\n",
       "      <th>4</th>\n",
       "      <td>5</td>\n",
       "      <td>derek@gmail.com</td>\n",
       "      <td>derek</td>\n",
       "      <td>jklg*_56</td>\n",
       "      <td>Derek Powell</td>\n",
       "      <td>1-956-001-1945</td>\n",
       "      <td>0</td>\n",
       "      <td>40.3467</td>\n",
       "      <td>-40.1310</td>\n",
       "      <td>San Antonio</td>\n",
       "      <td>Adams St</td>\n",
       "      <td>245</td>\n",
       "      <td>80796-1234</td>\n",
       "    </tr>\n",
       "  </tbody>\n",
       "</table>\n",
       "</div>"
      ],
      "text/plain": [
       "   id               email   username   password            name  \\\n",
       "0   1      john@gmail.com      johnd    m38rmF$        John Doe   \n",
       "1   2  morrison@gmail.com   mor_2314     83r5^_  David Morrison   \n",
       "2   3     kevin@gmail.com  kevinryan  kev02937@      Kevin Ryan   \n",
       "3   4       don@gmail.com     donero     ewedon       Don Romer   \n",
       "4   5     derek@gmail.com      derek   jklg*_56    Derek Powell   \n",
       "\n",
       "            phone  __v      lat     long         city            street  \\\n",
       "0  1-570-236-7033    0 -37.3159  81.1496     Kilcoole          New Road   \n",
       "1  1-570-236-7033    0 -37.3159  81.1496     Kilcoole         Lovers Ln   \n",
       "2  1-567-094-1345    0  40.3467 -30.1310      Cullman        Frances Ct   \n",
       "3  1-765-789-6734    0  50.3467 -20.1310  San Antonio  Hunters Creek Dr   \n",
       "4  1-956-001-1945    0  40.3467 -40.1310  San Antonio          Adams St   \n",
       "\n",
       "   number     zipcode  \n",
       "0    7682  12926-3874  \n",
       "1    7267  12926-3874  \n",
       "2      86  29567-1452  \n",
       "3    6454  98234-1734  \n",
       "4     245  80796-1234  "
      ]
     },
     "execution_count": 353,
     "metadata": {},
     "output_type": "execute_result"
    }
   ],
   "source": [
    "# Deixando apenas o nome completo na coluna 'name'\n",
    "df1['name'] = df1['name'].apply(lambda x: f\"{eval(x)['firstname'].title()} {eval(x)['lastname'].title()}\")\n",
    "df1.head()"
   ]
  },
  {
   "cell_type": "code",
   "execution_count": 354,
   "metadata": {},
   "outputs": [],
   "source": [
    "# Removendo a coluna '__v'\n",
    "df1.drop(columns='__v', inplace=True)\n",
    "\n",
    "# Mudando a ordem das colunas no dataset\n",
    "df1 = df1[['id', 'name', 'phone', 'lat', 'long', 'city', 'street', 'number', 'zipcode', 'email', 'username', 'password']]"
   ]
  },
  {
   "cell_type": "code",
   "execution_count": 355,
   "metadata": {},
   "outputs": [
    {
     "data": {
      "text/html": [
       "<div>\n",
       "<style scoped>\n",
       "    .dataframe tbody tr th:only-of-type {\n",
       "        vertical-align: middle;\n",
       "    }\n",
       "\n",
       "    .dataframe tbody tr th {\n",
       "        vertical-align: top;\n",
       "    }\n",
       "\n",
       "    .dataframe thead th {\n",
       "        text-align: right;\n",
       "    }\n",
       "</style>\n",
       "<table border=\"1\" class=\"dataframe\">\n",
       "  <thead>\n",
       "    <tr style=\"text-align: right;\">\n",
       "      <th></th>\n",
       "      <th>id</th>\n",
       "      <th>name</th>\n",
       "      <th>phone</th>\n",
       "      <th>lat</th>\n",
       "      <th>long</th>\n",
       "      <th>city</th>\n",
       "      <th>street</th>\n",
       "      <th>number</th>\n",
       "      <th>zipcode</th>\n",
       "      <th>email</th>\n",
       "      <th>username</th>\n",
       "      <th>password</th>\n",
       "    </tr>\n",
       "  </thead>\n",
       "  <tbody>\n",
       "    <tr>\n",
       "      <th>0</th>\n",
       "      <td>1</td>\n",
       "      <td>John Doe</td>\n",
       "      <td>1-570-236-7033</td>\n",
       "      <td>-37.3159</td>\n",
       "      <td>81.1496</td>\n",
       "      <td>Kilcoole</td>\n",
       "      <td>New Road</td>\n",
       "      <td>7682</td>\n",
       "      <td>12926-3874</td>\n",
       "      <td>john@gmail.com</td>\n",
       "      <td>johnd</td>\n",
       "      <td>m38rmF$</td>\n",
       "    </tr>\n",
       "    <tr>\n",
       "      <th>1</th>\n",
       "      <td>2</td>\n",
       "      <td>David Morrison</td>\n",
       "      <td>1-570-236-7033</td>\n",
       "      <td>-37.3159</td>\n",
       "      <td>81.1496</td>\n",
       "      <td>Kilcoole</td>\n",
       "      <td>Lovers Ln</td>\n",
       "      <td>7267</td>\n",
       "      <td>12926-3874</td>\n",
       "      <td>morrison@gmail.com</td>\n",
       "      <td>mor_2314</td>\n",
       "      <td>83r5^_</td>\n",
       "    </tr>\n",
       "    <tr>\n",
       "      <th>2</th>\n",
       "      <td>3</td>\n",
       "      <td>Kevin Ryan</td>\n",
       "      <td>1-567-094-1345</td>\n",
       "      <td>40.3467</td>\n",
       "      <td>-30.1310</td>\n",
       "      <td>Cullman</td>\n",
       "      <td>Frances Ct</td>\n",
       "      <td>86</td>\n",
       "      <td>29567-1452</td>\n",
       "      <td>kevin@gmail.com</td>\n",
       "      <td>kevinryan</td>\n",
       "      <td>kev02937@</td>\n",
       "    </tr>\n",
       "    <tr>\n",
       "      <th>3</th>\n",
       "      <td>4</td>\n",
       "      <td>Don Romer</td>\n",
       "      <td>1-765-789-6734</td>\n",
       "      <td>50.3467</td>\n",
       "      <td>-20.1310</td>\n",
       "      <td>San Antonio</td>\n",
       "      <td>Hunters Creek Dr</td>\n",
       "      <td>6454</td>\n",
       "      <td>98234-1734</td>\n",
       "      <td>don@gmail.com</td>\n",
       "      <td>donero</td>\n",
       "      <td>ewedon</td>\n",
       "    </tr>\n",
       "    <tr>\n",
       "      <th>4</th>\n",
       "      <td>5</td>\n",
       "      <td>Derek Powell</td>\n",
       "      <td>1-956-001-1945</td>\n",
       "      <td>40.3467</td>\n",
       "      <td>-40.1310</td>\n",
       "      <td>San Antonio</td>\n",
       "      <td>Adams St</td>\n",
       "      <td>245</td>\n",
       "      <td>80796-1234</td>\n",
       "      <td>derek@gmail.com</td>\n",
       "      <td>derek</td>\n",
       "      <td>jklg*_56</td>\n",
       "    </tr>\n",
       "  </tbody>\n",
       "</table>\n",
       "</div>"
      ],
      "text/plain": [
       "   id            name           phone      lat     long         city  \\\n",
       "0   1        John Doe  1-570-236-7033 -37.3159  81.1496     Kilcoole   \n",
       "1   2  David Morrison  1-570-236-7033 -37.3159  81.1496     Kilcoole   \n",
       "2   3      Kevin Ryan  1-567-094-1345  40.3467 -30.1310      Cullman   \n",
       "3   4       Don Romer  1-765-789-6734  50.3467 -20.1310  San Antonio   \n",
       "4   5    Derek Powell  1-956-001-1945  40.3467 -40.1310  San Antonio   \n",
       "\n",
       "             street  number     zipcode               email   username  \\\n",
       "0          New Road    7682  12926-3874      john@gmail.com      johnd   \n",
       "1         Lovers Ln    7267  12926-3874  morrison@gmail.com   mor_2314   \n",
       "2        Frances Ct      86  29567-1452     kevin@gmail.com  kevinryan   \n",
       "3  Hunters Creek Dr    6454  98234-1734       don@gmail.com     donero   \n",
       "4          Adams St     245  80796-1234     derek@gmail.com      derek   \n",
       "\n",
       "    password  \n",
       "0    m38rmF$  \n",
       "1     83r5^_  \n",
       "2  kev02937@  \n",
       "3     ewedon  \n",
       "4   jklg*_56  "
      ]
     },
     "execution_count": 355,
     "metadata": {},
     "output_type": "execute_result"
    }
   ],
   "source": [
    "df1.head()"
   ]
  },
  {
   "cell_type": "markdown",
   "metadata": {},
   "source": [
    "### Saving cleaned dataset"
   ]
  },
  {
   "cell_type": "code",
   "execution_count": 356,
   "metadata": {},
   "outputs": [],
   "source": [
    "df1.to_csv('data/df_users_cleaned.csv', index=False)"
   ]
  },
  {
   "cell_type": "markdown",
   "metadata": {},
   "source": [
    "# **Exploratory Data Analysis** (EDA)"
   ]
  },
  {
   "cell_type": "markdown",
   "metadata": {},
   "source": [
    "*Realizar uma análise exploratória dos dados para descobrir padrões, tendências, e informações úteis. Isso deve incluir o uso de estatísticas descritivas e a criação de visualizações como gráficos de barras, linhas, e possivelmente mapas, se os dados incluírem informações geográficas.*"
   ]
  },
  {
   "cell_type": "markdown",
   "metadata": {},
   "source": [
    "## Load cleaned data"
   ]
  },
  {
   "cell_type": "code",
   "execution_count": 357,
   "metadata": {},
   "outputs": [],
   "source": [
    "df_products = pd.read_csv('data/df_products_cleaned.csv')\n",
    "df_carts = pd.read_csv('data/df_carts_cleaned.csv')\n",
    "df_users = pd.read_csv('data/df_users_cleaned.csv')"
   ]
  },
  {
   "cell_type": "markdown",
   "metadata": {},
   "source": [
    "## Descritive Statistics"
   ]
  },
  {
   "cell_type": "code",
   "execution_count": 358,
   "metadata": {},
   "outputs": [
    {
     "name": "stdout",
     "output_type": "stream",
     "text": [
      "Estatísticas Descritivas de Products: \n",
      "        price  avg_rating  count_ratings\n",
      "count   20.00       20.00          20.00\n",
      "mean   162.05        3.56         286.80\n",
      "std    272.22        0.96         162.75\n",
      "min      7.95        1.90          70.00\n",
      "25%     15.24        2.90         143.75\n",
      "50%     56.49        3.70         254.50\n",
      "75%    110.96        4.53         400.00\n",
      "max    999.99        4.80         679.00\n",
      "\n",
      "Estatísticas Descritivas de Carts:\n",
      "         id  userId  product_1  product_2  product_3  product_4  product_5  \\\n",
      "count  7.00    7.00       7.00       7.00       7.00        7.0       7.00   \n",
      "mean   4.00    3.14       2.86       0.71       0.86        0.0       0.29   \n",
      "std    2.16    2.41       3.63       1.50       2.27        0.0       0.76   \n",
      "min    1.00    1.00       0.00       0.00       0.00        0.0       0.00   \n",
      "25%    2.50    1.50       0.00       0.00       0.00        0.0       0.00   \n",
      "50%    4.00    3.00       2.00       0.00       0.00        0.0       0.00   \n",
      "75%    5.50    3.50       4.00       0.50       0.00        0.0       0.00   \n",
      "max    7.00    8.00      10.00       4.00       6.00        0.0       2.00   \n",
      "\n",
      "       product_6  product_7  product_8  ...  product_11  product_12  \\\n",
      "count        7.0       7.00       7.00  ...         7.0        7.00   \n",
      "mean         0.0       0.14       0.14  ...         0.0        0.43   \n",
      "std          0.0       0.38       0.38  ...         0.0        1.13   \n",
      "min          0.0       0.00       0.00  ...         0.0        0.00   \n",
      "25%          0.0       0.00       0.00  ...         0.0        0.00   \n",
      "50%          0.0       0.00       0.00  ...         0.0        0.00   \n",
      "75%          0.0       0.00       0.00  ...         0.0        0.00   \n",
      "max          0.0       1.00       1.00  ...         0.0        3.00   \n",
      "\n",
      "       product_13  product_14  product_15  product_16  product_17  product_18  \\\n",
      "count         7.0         7.0         7.0         7.0         7.0        7.00   \n",
      "mean          0.0         0.0         0.0         0.0         0.0        0.14   \n",
      "std           0.0         0.0         0.0         0.0         0.0        0.38   \n",
      "min           0.0         0.0         0.0         0.0         0.0        0.00   \n",
      "25%           0.0         0.0         0.0         0.0         0.0        0.00   \n",
      "50%           0.0         0.0         0.0         0.0         0.0        0.00   \n",
      "75%           0.0         0.0         0.0         0.0         0.0        0.00   \n",
      "max           0.0         0.0         0.0         0.0         0.0        1.00   \n",
      "\n",
      "       product_19  product_20  \n",
      "count         7.0         7.0  \n",
      "mean          0.0         0.0  \n",
      "std           0.0         0.0  \n",
      "min           0.0         0.0  \n",
      "25%           0.0         0.0  \n",
      "50%           0.0         0.0  \n",
      "75%           0.0         0.0  \n",
      "max           0.0         0.0  \n",
      "\n",
      "[8 rows x 22 columns]\n",
      "\n",
      "Estatísticas Descritivas de Users:\n",
      "          id    lat   long   number\n",
      "count  10.00  10.00  10.00    10.00\n",
      "mean    5.50  20.76   9.25  2541.30\n",
      "std     3.03  33.06  43.12  3214.12\n",
      "min     1.00 -37.32 -40.13    86.00\n",
      "25%     3.25  12.80 -20.44   270.00\n",
      "50%     5.50  35.19  -0.02   934.00\n",
      "75%     7.75  40.35  20.62  5176.00\n",
      "max    10.00  50.35  81.15  7682.00\n"
     ]
    }
   ],
   "source": [
    "# Estatística Descritiva das variáveis numéricas\n",
    "print('Estatísticas Descritivas de Products: ')\n",
    "print(df_products[['price', 'avg_rating', 'count_ratings']].describe().round(2))\n",
    "\n",
    "print('\\nEstatísticas Descritivas de Carts:')\n",
    "print(df_carts.describe().round(2))\n",
    "\n",
    "print('\\nEstatísticas Descritivas de Users:')\n",
    "print(df_users.describe().round(2))"
   ]
  },
  {
   "cell_type": "markdown",
   "metadata": {},
   "source": [
    "## Products Analysis"
   ]
  },
  {
   "cell_type": "markdown",
   "metadata": {},
   "source": [
    "- Price distribution\n",
    "- What is the product with highest price? And lowest?\n",
    "- What is the median price? And the median price per category?\n",
    "- Ratings distribution\n",
    "- What is the production with highest ratings? And lowest?\n",
    "- What is the median rating per category?\n",
    "- What is the producs with most ratings? And with lowest ratings?"
   ]
  },
  {
   "cell_type": "markdown",
   "metadata": {},
   "source": [
    "### Prices and Ratings Distribution"
   ]
  },
  {
   "cell_type": "code",
   "execution_count": 359,
   "metadata": {},
   "outputs": [
    {
     "data": {
      "image/png": "[encoded data removed]",
      "text/plain": [
       "<Figure size 900x500 with 2 Axes>"
      ]
     },
     "metadata": {},
     "output_type": "display_data"
    }
   ],
   "source": [
    "# Histogramas para a distribuição de preços e avaliações\n",
    "plt.figure(figsize=(9, 5))\n",
    "\n",
    "# Distribuição de Preços\n",
    "plt.subplot(1, 2, 1)\n",
    "sns.histplot(df_products['price'], kde=True, bins=20)\n",
    "plt.title('Distribuição de Preços dos Produtos')\n",
    "plt.xlabel('Preço')\n",
    "plt.ylabel('Frequência')\n",
    "\n",
    "# Distribuição das Avaliações\n",
    "plt.subplot(1, 2, 2)\n",
    "sns.histplot(df_products['avg_rating'], kde=True, bins=20)\n",
    "plt.title('Distribuição das Avaliações dos Produtos')\n",
    "plt.xlabel('Avaliação Média')\n",
    "plt.ylabel('Frequência')\n",
    "\n",
    "plt.tight_layout()\n",
    "plt.savefig('img/price_ratings_hist.png')\n",
    "plt.show()"
   ]
  },
  {
   "cell_type": "code",
   "execution_count": 377,
   "metadata": {},
   "outputs": [
    {
     "data": {
      "image/png": "[encoded data removed]",
      "text/plain": [
       "<Figure size 900x500 with 2 Axes>"
      ]
     },
     "metadata": {},
     "output_type": "display_data"
    },
    {
     "name": "stdout",
     "output_type": "stream",
     "text": [
      "Quartis dos Preços:\n",
      "25%     15.24\n",
      "50%     56.49\n",
      "75%    110.96\n",
      "Name: price, dtype: float64\n",
      "\n",
      "Quartis das Avaliações:\n",
      "25%    2.90\n",
      "50%    3.70\n",
      "75%    4.53\n",
      "Name: avg_rating, dtype: float64\n"
     ]
    }
   ],
   "source": [
    "plt.figure(figsize=(9, 5))\n",
    "\n",
    "# Boxplot da distribuição de Preços\n",
    "plt.subplot(1, 2, 1)\n",
    "sns.boxplot(y=df_products['price'])\n",
    "plt.title('Boxplot da Distribuição de Preços dos Produtos')\n",
    "plt.ylabel('Preço')\n",
    "\n",
    "# Boxplot da distribuição das Avaliações\n",
    "plt.subplot(1, 2, 2)\n",
    "sns.boxplot(y=df_products['avg_rating'])\n",
    "plt.title('Boxplot da Distribuição das Avaliações dos Produtos')\n",
    "plt.ylabel('Avaliação Média')\n",
    "\n",
    "plt.tight_layout()\n",
    "plt.savefig('img/dist_prices_ratings_boxplot1.png')\n",
    "plt.show()\n",
    "\n",
    "# Calculando os quartis para os preços\n",
    "price_quartiles = df_products['price'].describe()[['25%', '50%', '75%']]\n",
    "\n",
    "# Calculando os quartis para as avaliações\n",
    "rating_quartiles = df_products['avg_rating'].describe()[['25%', '50%', '75%']]\n",
    "\n",
    "print(\"Quartis dos Preços:\")\n",
    "print(price_quartiles.round(2))\n",
    "\n",
    "print(\"\\nQuartis das Avaliações:\")\n",
    "print(rating_quartiles.round(2))"
   ]
  },
  {
   "cell_type": "markdown",
   "metadata": {},
   "source": [
    "### What is the product with highest price? And lowest?"
   ]
  },
  {
   "cell_type": "code",
   "execution_count": 361,
   "metadata": {},
   "outputs": [
    {
     "name": "stdout",
     "output_type": "stream",
     "text": [
      "Produto com maior preço:\n",
      "id                                                              14\n",
      "title            Samsung 49-Inch CHG90 144Hz Curved Gaming Moni...\n",
      "price                                                       999.99\n",
      "category                                               electronics\n",
      "avg_rating                                                     2.2\n",
      "count_ratings                                                  140\n",
      "Name: 13, dtype: object\n",
      "\n",
      "Produto com menor preço:\n",
      "id                                               19\n",
      "title            Opna Women's Short Sleeve Moisture\n",
      "price                                          7.95\n",
      "category                           women's clothing\n",
      "avg_rating                                      4.5\n",
      "count_ratings                                   146\n",
      "Name: 18, dtype: object\n"
     ]
    }
   ],
   "source": [
    "# Encontrando o produto com maior preço\n",
    "max_price_product = df_products.loc[df_products['price'].idxmax()]\n",
    "\n",
    "# Encontrando o produto com menor preço\n",
    "min_price_product = df_products.loc[df_products['price'].idxmin()]\n",
    "\n",
    "print(\"Produto com maior preço:\")\n",
    "print(max_price_product[['id', 'title', 'price', 'category', 'avg_rating', 'count_ratings']])\n",
    "\n",
    "print(\"\\nProduto com menor preço:\")\n",
    "print(min_price_product[['id', 'title', 'price', 'category', 'avg_rating', 'count_ratings']])"
   ]
  },
  {
   "cell_type": "markdown",
   "metadata": {},
   "source": [
    "### Median price per category"
   ]
  },
  {
   "cell_type": "code",
   "execution_count": 362,
   "metadata": {},
   "outputs": [
    {
     "data": {
      "image/png": "[encoded data removed]",
      "text/plain": [
       "<Figure size 900x500 with 1 Axes>"
      ]
     },
     "metadata": {},
     "output_type": "display_data"
    }
   ],
   "source": [
    "# Calculando o preço mediano por categoria\n",
    "median_price_by_category = df_products.groupby('category')['price'].median().sort_values()\n",
    "\n",
    "# Criando o gráfico de barras\n",
    "plt.figure(figsize=(9, 5))\n",
    "ax = median_price_by_category.plot(kind='bar')\n",
    "plt.title('Preço Mediano por Categoria')\n",
    "plt.xlabel('Categoria')\n",
    "plt.ylabel('Preço Mediano')\n",
    "plt.xticks(rotation=45, ha='right')\n",
    "\n",
    "# Adicionando os valores medianos acima de cada barra\n",
    "for index, value in enumerate(median_price_by_category):\n",
    "    ax.text(index, value, f'{value:.2f}', ha='center', va='bottom')\n",
    "\n",
    "plt.tight_layout()\n",
    "plt.savefig('img/median_prices_per_category.png')\n",
    "plt.show()"
   ]
  },
  {
   "cell_type": "markdown",
   "metadata": {},
   "source": [
    "### Median rates per category"
   ]
  },
  {
   "cell_type": "code",
   "execution_count": 363,
   "metadata": {},
   "outputs": [
    {
     "data": {
      "image/png": "[encoded data removed]",
      "text/plain": [
       "<Figure size 900x500 with 1 Axes>"
      ]
     },
     "metadata": {},
     "output_type": "display_data"
    }
   ],
   "source": [
    "# Calculando a mediana dos ratings por categoria\n",
    "median_rating_by_category = df_products.groupby('category')['avg_rating'].median().sort_values()\n",
    "\n",
    "# Criando o gráfico de barras\n",
    "plt.figure(figsize=(9, 5))\n",
    "ax = median_rating_by_category.plot(kind='bar')\n",
    "plt.title('Rating Mediano por Categoria')\n",
    "plt.xlabel('Categoria')\n",
    "plt.ylabel('Rating Mediano')\n",
    "plt.xticks(rotation=45, ha='right')\n",
    "\n",
    "# Adicionando os valores medianos acima de cada barra\n",
    "for index, value in enumerate(median_rating_by_category):\n",
    "    ax.text(index, value, f'{value:.2f}', ha='center', va='bottom')\n",
    "\n",
    "plt.tight_layout()\n",
    "plt.savefig('img/median_ratings_per_category.png')\n",
    "plt.show()"
   ]
  },
  {
   "cell_type": "markdown",
   "metadata": {},
   "source": [
    "### Median number of ratings per category"
   ]
  },
  {
   "cell_type": "code",
   "execution_count": 364,
   "metadata": {},
   "outputs": [
    {
     "data": {
      "image/png": "[encoded data removed]",
      "text/plain": [
       "<Figure size 900x500 with 1 Axes>"
      ]
     },
     "metadata": {},
     "output_type": "display_data"
    }
   ],
   "source": [
    "# Calculando a mediana do número de ratings por categoria\n",
    "median_count_ratings_by_category = df_products.groupby('category')['count_ratings'].median().sort_values()\n",
    "\n",
    "# Criando o gráfico de barras\n",
    "plt.figure(figsize=(9, 5))\n",
    "ax = median_count_ratings_by_category.plot(kind='bar')\n",
    "plt.title('Número de Ratings por Categoria (mediana)')\n",
    "plt.xlabel('Categoria')\n",
    "plt.ylabel('Número de Ratings (mediana)')\n",
    "plt.xticks(rotation=45, ha='right')\n",
    "\n",
    "# Adicionando os valores medianos acima de cada barra\n",
    "for index, value in enumerate(median_count_ratings_by_category):\n",
    "    ax.text(index, value, f'{value:.0f}', ha='center', va='bottom')\n",
    "\n",
    "plt.tight_layout()\n",
    "plt.savefig('img/median_number_of_ratings_per_category.png')\n",
    "plt.show()"
   ]
  },
  {
   "cell_type": "markdown",
   "metadata": {},
   "source": [
    "### What is the product with most ratings?"
   ]
  },
  {
   "cell_type": "code",
   "execution_count": 365,
   "metadata": {},
   "outputs": [
    {
     "name": "stdout",
     "output_type": "stream",
     "text": [
      "id                                                              17\n",
      "title            Rain Jacket Women Windbreaker Striped Climbing...\n",
      "price                                                        39.99\n",
      "category                                          women's clothing\n",
      "avg_rating                                                     3.8\n",
      "count_ratings                                                  679\n",
      "Name: 16, dtype: object\n"
     ]
    }
   ],
   "source": [
    "# Encontrando o produto com o maior número de ratings\n",
    "product_with_most_ratings = df_products.loc[df_products['count_ratings'].idxmax()]\n",
    "\n",
    "print(product_with_most_ratings[['id', 'title', 'price', 'category', 'avg_rating', 'count_ratings']])"
   ]
  },
  {
   "cell_type": "markdown",
   "metadata": {},
   "source": [
    "### What are the median rating per category adjusting for number of ratings?"
   ]
  },
  {
   "cell_type": "markdown",
   "metadata": {},
   "source": [
    "**Wheighted Average Rating Metric**\n",
    "- this metric gives more wheight to product with more ratings\n",
    "- more ratings = more robust rating"
   ]
  },
  {
   "cell_type": "code",
   "execution_count": 366,
   "metadata": {},
   "outputs": [],
   "source": [
    "# Adicionando uma pequena constante para evitar problemas com zero ratings\n",
    "epsilon = 1e-10\n",
    "\n",
    "# Calculando a média ponderada das avaliações\n",
    "df_products['weighted_rating'] = (df_products['avg_rating'] * df_products['count_ratings']) / (df_products['count_ratings'] + epsilon)"
   ]
  },
  {
   "cell_type": "code",
   "execution_count": 367,
   "metadata": {},
   "outputs": [
    {
     "data": {
      "image/png": "[encoded data removed]",
      "text/plain": [
       "<Figure size 800x500 with 1 Axes>"
      ]
     },
     "metadata": {},
     "output_type": "display_data"
    }
   ],
   "source": [
    "# Calculando a média ponderada dos ratings por categoria\n",
    "weighted_rating_by_category = df_products.groupby('category')['weighted_rating'].median().sort_values()\n",
    "\n",
    "# Criando o gráfico de barras\n",
    "plt.figure(figsize=(8, 5))\n",
    "ax = weighted_rating_by_category.plot(kind='bar')\n",
    "plt.title('Rating Ponderado Mediano por Categoria')\n",
    "plt.xlabel('Categoria')\n",
    "plt.ylabel('Rating Ponderado Mediano')\n",
    "plt.xticks(rotation=45, ha='right')\n",
    "\n",
    "# Adicionando os valores medianos acima de cada barra\n",
    "for index, value in enumerate(weighted_rating_by_category):\n",
    "    ax.text(index, value, f'{value:.2f}', ha='center', va='bottom')\n",
    "\n",
    "plt.tight_layout()\n",
    "plt.savefig('img/median_wheighted_ratings_per_category.png')\n",
    "plt.show()"
   ]
  },
  {
   "cell_type": "markdown",
   "metadata": {},
   "source": [
    "### What are the 5 highest rated product adjusting for number of ratings?"
   ]
  },
  {
   "cell_type": "code",
   "execution_count": 368,
   "metadata": {},
   "outputs": [
    {
     "name": "stdout",
     "output_type": "stream",
     "text": [
      "                                                title  weighted_rating\n",
      "11  WD 4TB Gaming Drive Works with Playstation 4 P...              4.8\n",
      "10  Silicon Power 256GB SSD 3D NAND A55 SLC Cache ...              4.8\n",
      "2                                  Mens Cotton Jacket              4.7\n",
      "17        MBJ Women's Solid Short Sleeve Boat Neck V               4.7\n",
      "4   John Hardy Women's Legends Naga Gold & Silver ...              4.6\n"
     ]
    }
   ],
   "source": [
    "# Ordenando os produtos pela métrica de ratings ponderada\n",
    "top_products = df_products.sort_values(by='weighted_rating', ascending=False)\n",
    "\n",
    "print(top_products[['title', 'weighted_rating']].head())"
   ]
  },
  {
   "cell_type": "markdown",
   "metadata": {},
   "source": [
    "## Cart Analysis"
   ]
  },
  {
   "cell_type": "markdown",
   "metadata": {},
   "source": [
    "- Orders in a period = how many carts in a time period\n",
    "- Total sold by product\n",
    "- Total sold by product through time\n",
    "- Number of products per cart\n",
    "- Average ticket per cart\n",
    "- Correlation between number of products per cart and avg ticket\n",
    "- Most bought product"
   ]
  },
  {
   "cell_type": "markdown",
   "metadata": {},
   "source": [
    "### Orders through time"
   ]
  },
  {
   "cell_type": "code",
   "execution_count": 369,
   "metadata": {},
   "outputs": [
    {
     "data": {
      "image/png": "[encoded data removed]",
      "text/plain": [
       "<Figure size 900x500 with 1 Axes>"
      ]
     },
     "metadata": {},
     "output_type": "display_data"
    }
   ],
   "source": [
    "# Convertendo a coluna 'date' para datetime\n",
    "df_carts['date'] = pd.to_datetime(df_carts['date']) # o pandas converte 'datetime' para 'object' ao salvar para csv\n",
    "\n",
    "# Contando o número de vendas por data\n",
    "sales_per_day = df_carts.groupby(df_carts['date'].dt.date).size()\n",
    "\n",
    "# Criando o gráfico de barras para vendas ao longo do tempo\n",
    "plt.figure(figsize=(9, 5))\n",
    "ax = sales_per_day.plot(kind='bar')\n",
    "plt.title('Vendas ao Longo do Tempo')\n",
    "plt.xlabel('Data')\n",
    "plt.ylabel('Número de Vendas')\n",
    "plt.xticks(rotation=45)\n",
    "plt.tight_layout()\n",
    "\n",
    "# Adicionando valores acima de cada barra\n",
    "for index, value in enumerate(sales_per_day):\n",
    "    ax.text(index, value, str(value), ha='center', va='bottom')\n",
    "\n",
    "plt.tight_layout()\n",
    "plt.savefig('img/daily_sales.png')\n",
    "plt.show()"
   ]
  },
  {
   "cell_type": "markdown",
   "metadata": {},
   "source": [
    "Weekly sales:"
   ]
  },
  {
   "cell_type": "code",
   "execution_count": 370,
   "metadata": {},
   "outputs": [
    {
     "name": "stderr",
     "output_type": "stream",
     "text": [
      "/tmp/ipykernel_836/618785488.py:5: UserWarning: Converting to PeriodArray/Index representation will drop timezone information.\n",
      "  sales_per_week = df_carts.groupby(df_carts['date'].dt.to_period('W')).size()\n"
     ]
    },
    {
     "data": {
      "image/png": "[encoded data removed]",
      "text/plain": [
       "<Figure size 900x500 with 1 Axes>"
      ]
     },
     "metadata": {},
     "output_type": "display_data"
    }
   ],
   "source": [
    "# Convertendo a coluna 'date' para datetime, caso não tenha sido feito ainda\n",
    "# df_carts['date'] = pd.to_datetime(df_carts['date'])\n",
    "\n",
    "# Agrupando por semanas\n",
    "sales_per_week = df_carts.groupby(df_carts['date'].dt.to_period('W')).size()\n",
    "\n",
    "# Criando o gráfico de barras para vendas por semana\n",
    "plt.figure(figsize=(9, 5))\n",
    "ax1 = sales_per_week.plot(kind='bar')\n",
    "plt.title('Vendas por Semana')\n",
    "plt.xlabel('Semana')\n",
    "plt.ylabel('Número de Vendas')\n",
    "plt.xticks(rotation=45)\n",
    "plt.tight_layout()\n",
    "\n",
    "# Adicionando valores acima de cada barra\n",
    "for index, value in enumerate(sales_per_week):\n",
    "    ax1.text(index, value, str(value), ha='center', va='bottom')\n",
    "plt.savefig('img/weekly_sales.png')\n",
    "plt.show()"
   ]
  },
  {
   "cell_type": "markdown",
   "metadata": {},
   "source": [
    "Monthly sales:"
   ]
  },
  {
   "cell_type": "code",
   "execution_count": 371,
   "metadata": {},
   "outputs": [
    {
     "name": "stderr",
     "output_type": "stream",
     "text": [
      "/tmp/ipykernel_836/198363789.py:2: UserWarning: Converting to PeriodArray/Index representation will drop timezone information.\n",
      "  sales_per_month = df_carts.groupby(df_carts['date'].dt.to_period('M')).size()\n"
     ]
    },
    {
     "data": {
      "image/png": "[encoded data removed]",
      "text/plain": [
       "<Figure size 900x500 with 1 Axes>"
      ]
     },
     "metadata": {},
     "output_type": "display_data"
    }
   ],
   "source": [
    "# Agrupando por meses\n",
    "sales_per_month = df_carts.groupby(df_carts['date'].dt.to_period('M')).size()\n",
    "\n",
    "# Criando o gráfico de barras para vendas por mês\n",
    "plt.figure(figsize=(9, 5))\n",
    "ax2 = sales_per_month.plot(kind='bar')\n",
    "plt.title('Vendas por Mês')\n",
    "plt.xlabel('Mês')\n",
    "plt.ylabel('Número de Vendas')\n",
    "plt.xticks(rotation=45)\n",
    "plt.tight_layout()\n",
    "\n",
    "# Adicionando valores acima de cada barra\n",
    "for index, value in enumerate(sales_per_month):\n",
    "    ax2.text(index, value, str(value), ha='center', va='bottom')\n",
    "plt.savefig('img/monthly_sales.png')\n",
    "plt.show()"
   ]
  },
  {
   "cell_type": "markdown",
   "metadata": {},
   "source": [
    "### Total Sold by Category"
   ]
  },
  {
   "cell_type": "code",
   "execution_count": 372,
   "metadata": {},
   "outputs": [
    {
     "data": {
      "image/png": "[encoded data removed]",
      "text/plain": [
       "<Figure size 900x500 with 1 Axes>"
      ]
     },
     "metadata": {},
     "output_type": "display_data"
    }
   ],
   "source": [
    "# Reorganizando df_carts para um formato longo, para que cada linha corresponda a um produto vendido\n",
    "products_columns = [f'product_{i}' for i in range(1, 21)]\n",
    "df_carts_long = df_carts.melt(id_vars='date', value_vars=products_columns, var_name='product_col', value_name='product_id')\n",
    "\n",
    "# Contando o total vendido por produto\n",
    "product_sales = df_carts_long['product_id'].value_counts().reset_index()\n",
    "product_sales.columns = ['product_id', 'quantity']\n",
    "\n",
    "# Merge com df_products para obter a categoria\n",
    "df_sales_by_category = product_sales.merge(df_products[['id', 'category']], left_on='product_id', right_on='id', how='left')\n",
    "\n",
    "# Somando o total vendido por categoria\n",
    "total_sold_by_category = df_sales_by_category.groupby('category')['quantity'].sum().sort_values()\n",
    "\n",
    "# Criando o gráfico de barras para total vendido por categoria\n",
    "plt.figure(figsize=(9, 5))\n",
    "ax = total_sold_by_category.plot(kind='bar')\n",
    "plt.title('Total Vendido por Categoria')\n",
    "plt.xlabel('Categoria')\n",
    "plt.ylabel('Total Vendido')\n",
    "plt.xticks(rotation=45, ha='right')\n",
    "plt.tight_layout()\n",
    "\n",
    "# Adicionando valores acima de cada barra\n",
    "for index, value in enumerate(total_sold_by_category):\n",
    "    ax.text(index, value, str(value), ha='center', va='bottom')\n",
    "\n",
    "plt.savefig('img/total_sold_by_category.png')\n",
    "plt.show()"
   ]
  },
  {
   "cell_type": "markdown",
   "metadata": {},
   "source": [
    "### Total Sold by Category through time"
   ]
  },
  {
   "cell_type": "code",
   "execution_count": 373,
   "metadata": {},
   "outputs": [
    {
     "data": {
      "text/plain": [
       "<Figure size 900x500 with 0 Axes>"
      ]
     },
     "metadata": {},
     "output_type": "display_data"
    },
    {
     "data": {
      "image/png": "[encoded data removed]",
      "text/plain": [
       "<Figure size 640x480 with 1 Axes>"
      ]
     },
     "metadata": {},
     "output_type": "display_data"
    }
   ],
   "source": [
    "# Reorganizando df_carts para um formato longo, para que cada linha corresponda a um produto vendido\n",
    "df_carts_long = df_carts.melt(id_vars='date', value_vars=products_columns, var_name='product_col', value_name='product_id')\n",
    "\n",
    "# Merge com df_products para obter a categoria\n",
    "total_sold_by_category_date = df_carts_long.merge(df_products[['id', 'category']], left_on='product_id', right_on='id', how='left')\n",
    "total_sold_by_category_date = total_sold_by_category_date.groupby(['date', 'category']).size().unstack(fill_value=0)\n",
    "\n",
    "# Convertendo o formato do eixo X para YYYY-MM-DD\n",
    "total_sold_by_category_date.index = pd.to_datetime(total_sold_by_category_date.index).strftime('%Y-%m-%d')\n",
    "\n",
    "# Filtrando categorias com vendas > 0 em cada data específica\n",
    "filtered_data = total_sold_by_category_date.loc[\n",
    "    total_sold_by_category_date.sum(axis=1) > 0, \n",
    "    (total_sold_by_category_date != 0).any(axis=0)\n",
    "]\n",
    "\n",
    "# Criando o gráfico de barras para total vendido por categoria ao longo do tempo\n",
    "plt.figure(figsize=(9, 5))\n",
    "ax = filtered_data.plot(kind='bar', stacked=True)\n",
    "plt.title('Total Vendido por Categoria ao Longo do Tempo')\n",
    "plt.xlabel('Data')\n",
    "plt.ylabel('Total Vendido')\n",
    "plt.xticks(rotation=45, ha='right')\n",
    "plt.tight_layout()\n",
    "\n",
    "# Adicionando valores acima de cada barra\n",
    "for c in ax.containers:\n",
    "    ax.bar_label(c, label_type='edge')\n",
    "\n",
    "plt.savefig('img/total_sold_by_category_time.png')\n",
    "plt.show()"
   ]
  },
  {
   "cell_type": "markdown",
   "metadata": {},
   "source": [
    "### Number of products by cart"
   ]
  },
  {
   "cell_type": "code",
   "execution_count": 374,
   "metadata": {},
   "outputs": [
    {
     "data": {
      "image/png": "[encoded data removed]",
      "text/plain": [
       "<Figure size 900x500 with 1 Axes>"
      ]
     },
     "metadata": {},
     "output_type": "display_data"
    },
    {
     "name": "stdout",
     "output_type": "stream",
     "text": [
      "Quartis da quantidade de produtos por carrinho:\n",
      "1º Quartil (25%): 2.50\n",
      "2º Quartil (Mediana, 50%): 4.00\n",
      "3º Quartil (75%): 8.00\n"
     ]
    }
   ],
   "source": [
    "import matplotlib.pyplot as plt\n",
    "\n",
    "# Calculando a quantidade total de produtos por carrinho\n",
    "df_carts['total_items'] = df_carts[products_columns].sum(axis=1)\n",
    "\n",
    "# Criando o boxplot vertical\n",
    "plt.figure(figsize=(9, 5))\n",
    "plt.boxplot(df_carts['total_items'])\n",
    "plt.title('Distribuição da Quantidade de Produtos por Carrinho')\n",
    "plt.ylabel('Quantidade de Produtos')\n",
    "plt.xticks([1], ['Carrinho'])\n",
    "plt.tight_layout()\n",
    "plt.savefig('img/boxplot_total_items_per_cart.png')\n",
    "plt.show()\n",
    "\n",
    "# Imprimindo a quantidade em cada quartil\n",
    "quartiles = df_carts['total_items'].quantile([0.25, 0.5, 0.75])\n",
    "print(f'Quartis da quantidade de produtos por carrinho:')\n",
    "print(f'1º Quartil (25%): {quartiles[0.25]:.2f}')\n",
    "print(f'2º Quartil (Mediana, 50%): {quartiles[0.5]:.2f}')\n",
    "print(f'3º Quartil (75%): {quartiles[0.75]:.2f}')"
   ]
  },
  {
   "cell_type": "markdown",
   "metadata": {},
   "source": [
    "### Average value by cart"
   ]
  },
  {
   "cell_type": "code",
   "execution_count": 375,
   "metadata": {},
   "outputs": [
    {
     "name": "stdout",
     "output_type": "stream",
     "text": [
      "Valor médio por carrinho: 670.18\n"
     ]
    }
   ],
   "source": [
    "# Passo 1: Transformar os nomes das colunas dos produtos para obter os IDs\n",
    "# Não há coluna com ids dos produtos em 'df_carts'. Os ids estão no nome das colunas de produto. Ex: 'product_1' é o produto com id = 1\n",
    "product_columns = [col for col in df_carts.columns if col.startswith('product_')]\n",
    "product_ids = [int(col.split('_')[1]) for col in product_columns]\n",
    "\n",
    "# Passo 2: Relacionar os IDs dos produtos com a tabela 'products' para obter os preços\n",
    "product_prices = df_products[['id', 'price']].set_index('id')['price']\n",
    "\n",
    "# Passo 3: Calcular o valor total de cada carrinho\n",
    "# Criar um DataFrame com os preços dos produtos\n",
    "df_carts_prices = df_carts.copy()\n",
    "for i, prod_id in enumerate(product_ids, start=1):\n",
    "    df_carts_prices[f'product_{i}_price'] = df_carts_prices[f'product_{i}'] * product_prices[prod_id]\n",
    "\n",
    "# Calcular o total de cada carrinho\n",
    "df_carts_prices['total_value'] = df_carts_prices[[f'product_{i}_price' for i in range(1, len(product_ids) + 1)]].sum(axis=1)\n",
    "\n",
    "# Passo 4: Calcular o valor médio por carrinho\n",
    "average_value_per_cart = df_carts_prices['total_value'].mean()\n",
    "\n",
    "print(f'Valor médio por carrinho: {average_value_per_cart:.2f}')"
   ]
  },
  {
   "cell_type": "markdown",
   "metadata": {},
   "source": [
    "### Correlation between number of products x average value by chart"
   ]
  },
  {
   "cell_type": "code",
   "execution_count": 376,
   "metadata": {},
   "outputs": [
    {
     "name": "stdout",
     "output_type": "stream",
     "text": [
      "Correlação entre a quantidade total de produtos e o valor total do carrinho: 0.94\n"
     ]
    }
   ],
   "source": [
    "# Passo 1: Calcular a quantidade total de produtos no carrinho\n",
    "df_carts_prices['total_quantity'] = df_carts[product_columns].sum(axis=1)\n",
    "\n",
    "# Passo 2: Calcular a correlação entre a quantidade total de produtos e o valor total do carrinho\n",
    "correlation = df_carts_prices[['total_quantity', 'total_value']].corr().loc['total_quantity', 'total_value']\n",
    "\n",
    "print(f'Correlação entre a quantidade total de produtos e o valor total do carrinho: {correlation:.2f}')"
   ]
  },
  {
   "cell_type": "markdown",
   "metadata": {},
   "source": [
    "Regressão entre quantidade de produtos e valor do carrinho:"
   ]
  },
  {
   "cell_type": "code",
   "execution_count": 171,
   "metadata": {},
   "outputs": [
    {
     "data": {
      "image/png": "[encoded data removed]",
      "text/plain": [
       "<Figure size 700x400 with 1 Axes>"
      ]
     },
     "metadata": {},
     "output_type": "display_data"
    }
   ],
   "source": [
    "# Passo 1: Calcular a quantidade total de produtos no carrinho\n",
    "df_carts_prices['total_quantity'] = df_carts[product_columns].sum(axis=1)\n",
    "\n",
    "# Passo 2: Ajustar o modelo de regressão linear\n",
    "X = df_carts_prices[['total_quantity']]\n",
    "y = df_carts_prices['total_value']\n",
    "model = LinearRegression()\n",
    "model.fit(X, y)\n",
    "y_pred = model.predict(X)\n",
    "\n",
    "# Passo 3: Calcular o valor do R^2\n",
    "r2 = r2_score(y, y_pred)\n",
    "\n",
    "# Passo 4: Criar o gráfico de dispersão com a linha de regressão\n",
    "plt.figure(figsize=(7, 4))\n",
    "sns.scatterplot(x='total_quantity', y='total_value', data=df_carts_prices, color='blue')\n",
    "plt.plot(df_carts_prices['total_quantity'], y_pred, color='red', linewidth=2, label='Linha de Regressão')\n",
    "plt.title('Quantidade de Produtos x Valor do Carrinho')\n",
    "plt.xlabel('Quantidade Total de Produtos')\n",
    "plt.ylabel('Valor Total do Carrinho')\n",
    "plt.legend()\n",
    "\n",
    "# Exibir o valor de R^2 no gráfico\n",
    "plt.text(x=df_carts_prices['total_quantity'].max()*0.7, y=df_carts_prices['total_value'].max()*0.9, \n",
    "         s=f'$R^2 = {r2:.2f}$', fontsize=12, color='black')\n",
    "\n",
    "plt.tight_layout()\n",
    "plt.savefig('img/order_size_vs_value_regression.png')\n",
    "plt.show()"
   ]
  },
  {
   "cell_type": "markdown",
   "metadata": {},
   "source": [
    "### Most bought product"
   ]
  },
  {
   "cell_type": "code",
   "execution_count": 183,
   "metadata": {},
   "outputs": [
    {
     "name": "stdout",
     "output_type": "stream",
     "text": [
      "O produto mais vendido é \"Fjallraven - Foldsack No. 1 Backpack, Fits 15 Laptops\" com o preço de R$109.95.\n"
     ]
    }
   ],
   "source": [
    "# Passo 1: Soma a quantidade de valores em cada coluna com nome 'product' de df_carts\n",
    "product_columns = [col for col in df_carts.columns if col.startswith('product_')]\n",
    "sums = df_carts[product_columns].sum()\n",
    "\n",
    "# Passo 2: Extrai a coluna com nome 'product' com a maior soma\n",
    "max_sum_column = sums.idxmax()\n",
    "\n",
    "# Passo 3: Esse é o produto mais vendido\n",
    "# Passo 4: Extrai o id do produto a partir do nome da coluna\n",
    "product_id = int(max_sum_column.split('_')[1])\n",
    "\n",
    "# Passo 5: Busca em df_products o nome desse produto e seu preço\n",
    "product_info = df_products[df_products['id'] == product_id][['title', 'price']]\n",
    "\n",
    "# Passo 6: Imprime os dados obtidos no passo 5\n",
    "if not product_info.empty:\n",
    "    product_name = product_info['title'].values[0]\n",
    "    product_price = product_info['price'].values[0]\n",
    "    print(f'O produto mais vendido é \"{product_name}\" com o preço de R${product_price:.2f}.')\n",
    "else:\n",
    "    print('Produto não encontrado em df_products.')"
   ]
  },
  {
   "cell_type": "markdown",
   "metadata": {},
   "source": [
    "## Users Analysis"
   ]
  },
  {
   "cell_type": "markdown",
   "metadata": {},
   "source": [
    "- Geographic distribution = where are they located?\n",
    "- Number of cities with most users (ranking or map with proportional bubbles)\n",
    "- What are cities with most active users = frequent buyers"
   ]
  },
  {
   "cell_type": "markdown",
   "metadata": {},
   "source": [
    "### Where the users are located?"
   ]
  },
  {
   "cell_type": "code",
   "execution_count": 224,
   "metadata": {},
   "outputs": [],
   "source": [
    "df_users = pd.read_csv('data/df_users_cleaned.csv')"
   ]
  },
  {
   "cell_type": "code",
   "execution_count": 226,
   "metadata": {},
   "outputs": [
    {
     "data": {
      "text/html": [
       "<div style=\"width:100%;\"><div style=\"position:relative;width:100%;height:0;padding-bottom:60%;\"><span style=\"color:#565656\">Make this Notebook Trusted to load map: File -> Trust Notebook</span><iframe srcdoc=\"&lt;!DOCTYPE html&gt;\n",
       "&lt;html&gt;\n",
       "&lt;head&gt;\n",
       "    \n",
       "    &lt;meta http-equiv=&quot;content-type&quot; content=&quot;text/html; charset=UTF-8&quot; /&gt;\n",
       "    \n",
       "        &lt;script&gt;\n",
       "            L_NO_TOUCH = false;\n",
       "            L_DISABLE_3D = false;\n",
       "        &lt;/script&gt;\n",
       "    \n",
       "    &lt;style&gt;html, body {width: 100%;height: 100%;margin: 0;padding: 0;}&lt;/style&gt;\n",
       "    &lt;style&gt;#map {position:absolute;top:0;bottom:0;right:0;left:0;}&lt;/style&gt;\n",
       "    &lt;script src=&quot;https://cdn.jsdelivr.net/npm/leaflet@1.9.3/dist/leaflet.js&quot;&gt;&lt;/script&gt;\n",
       "    &lt;script src=&quot;https://code.jquery.com/jquery-1.12.4.min.js&quot;&gt;&lt;/script&gt;\n",
       "    &lt;script src=&quot;https://cdn.jsdelivr.net/npm/bootstrap@5.2.2/dist/js/bootstrap.bundle.min.js&quot;&gt;&lt;/script&gt;\n",
       "    &lt;script src=&quot;https://cdnjs.cloudflare.com/ajax/libs/Leaflet.awesome-markers/2.0.2/leaflet.awesome-markers.js&quot;&gt;&lt;/script&gt;\n",
       "    &lt;link rel=&quot;stylesheet&quot; href=&quot;https://cdn.jsdelivr.net/npm/leaflet@1.9.3/dist/leaflet.css&quot;/&gt;\n",
       "    &lt;link rel=&quot;stylesheet&quot; href=&quot;https://cdn.jsdelivr.net/npm/bootstrap@5.2.2/dist/css/bootstrap.min.css&quot;/&gt;\n",
       "    &lt;link rel=&quot;stylesheet&quot; href=&quot;https://netdna.bootstrapcdn.com/bootstrap/3.0.0/css/bootstrap.min.css&quot;/&gt;\n",
       "    &lt;link rel=&quot;stylesheet&quot; href=&quot;https://cdn.jsdelivr.net/npm/@fortawesome/fontawesome-free@6.2.0/css/all.min.css&quot;/&gt;\n",
       "    &lt;link rel=&quot;stylesheet&quot; href=&quot;https://cdnjs.cloudflare.com/ajax/libs/Leaflet.awesome-markers/2.0.2/leaflet.awesome-markers.css&quot;/&gt;\n",
       "    &lt;link rel=&quot;stylesheet&quot; href=&quot;https://cdn.jsdelivr.net/gh/python-visualization/folium/folium/templates/leaflet.awesome.rotate.min.css&quot;/&gt;\n",
       "    \n",
       "            &lt;meta name=&quot;viewport&quot; content=&quot;width=device-width,\n",
       "                initial-scale=1.0, maximum-scale=1.0, user-scalable=no&quot; /&gt;\n",
       "            &lt;style&gt;\n",
       "                #map_530a3d27e53e1157f71ae88472f9479b {\n",
       "                    position: relative;\n",
       "                    width: 100.0%;\n",
       "                    height: 100.0%;\n",
       "                    left: 0.0%;\n",
       "                    top: 0.0%;\n",
       "                }\n",
       "                .leaflet-container { font-size: 1rem; }\n",
       "            &lt;/style&gt;\n",
       "        \n",
       "&lt;/head&gt;\n",
       "&lt;body&gt;\n",
       "    \n",
       "    \n",
       "            &lt;div class=&quot;folium-map&quot; id=&quot;map_530a3d27e53e1157f71ae88472f9479b&quot; &gt;&lt;/div&gt;\n",
       "        \n",
       "&lt;/body&gt;\n",
       "&lt;script&gt;\n",
       "    \n",
       "    \n",
       "            var map_530a3d27e53e1157f71ae88472f9479b = L.map(\n",
       "                &quot;map_530a3d27e53e1157f71ae88472f9479b&quot;,\n",
       "                {\n",
       "                    center: [20.763964, 9.250758100000002],\n",
       "                    crs: L.CRS.EPSG3857,\n",
       "                    zoom: 3,\n",
       "                    zoomControl: true,\n",
       "                    preferCanvas: false,\n",
       "                }\n",
       "            );\n",
       "\n",
       "            \n",
       "\n",
       "        \n",
       "    \n",
       "            var tile_layer_4b2892496be0d3b9c62ba2b8765fc9f1 = L.tileLayer(\n",
       "                &quot;https://{s}.tile.openstreetmap.org/{z}/{x}/{y}.png&quot;,\n",
       "                {&quot;attribution&quot;: &quot;Data by \\u0026copy; \\u003ca target=\\&quot;_blank\\&quot; href=\\&quot;http://openstreetmap.org\\&quot;\\u003eOpenStreetMap\\u003c/a\\u003e, under \\u003ca target=\\&quot;_blank\\&quot; href=\\&quot;http://www.openstreetmap.org/copyright\\&quot;\\u003eODbL\\u003c/a\\u003e.&quot;, &quot;detectRetina&quot;: false, &quot;maxNativeZoom&quot;: 18, &quot;maxZoom&quot;: 18, &quot;minZoom&quot;: 0, &quot;noWrap&quot;: false, &quot;opacity&quot;: 1, &quot;subdomains&quot;: &quot;abc&quot;, &quot;tms&quot;: false}\n",
       "            ).addTo(map_530a3d27e53e1157f71ae88472f9479b);\n",
       "        \n",
       "    \n",
       "            var marker_e2b7dd110b1d8d10473c2f33b30b63d0 = L.marker(\n",
       "                [-37.3159, 81.1496],\n",
       "                {}\n",
       "            ).addTo(map_530a3d27e53e1157f71ae88472f9479b);\n",
       "        \n",
       "    \n",
       "            var icon_7f022918c996310c732ded9bba329ec2 = L.AwesomeMarkers.icon(\n",
       "                {&quot;extraClasses&quot;: &quot;fa-rotate-0&quot;, &quot;icon&quot;: &quot;info-sign&quot;, &quot;iconColor&quot;: &quot;white&quot;, &quot;markerColor&quot;: &quot;blue&quot;, &quot;prefix&quot;: &quot;glyphicon&quot;}\n",
       "            );\n",
       "            marker_e2b7dd110b1d8d10473c2f33b30b63d0.setIcon(icon_7f022918c996310c732ded9bba329ec2);\n",
       "        \n",
       "    \n",
       "        var popup_236fb1d14ce24dfb1fc322aa40d02e49 = L.popup({&quot;maxWidth&quot;: &quot;100%&quot;});\n",
       "\n",
       "        \n",
       "            \n",
       "                var html_538d9643a957bc2cf8e478c4891c3c6e = $(`&lt;div id=&quot;html_538d9643a957bc2cf8e478c4891c3c6e&quot; style=&quot;width: 100.0%; height: 100.0%;&quot;&gt;City: Kilcoole&lt;br&gt;Latitude: -37.3159&lt;br&gt;Longitude: 81.1496&lt;/div&gt;`)[0];\n",
       "                popup_236fb1d14ce24dfb1fc322aa40d02e49.setContent(html_538d9643a957bc2cf8e478c4891c3c6e);\n",
       "            \n",
       "        \n",
       "\n",
       "        marker_e2b7dd110b1d8d10473c2f33b30b63d0.bindPopup(popup_236fb1d14ce24dfb1fc322aa40d02e49)\n",
       "        ;\n",
       "\n",
       "        \n",
       "    \n",
       "    \n",
       "            var marker_9d2c76f21c1b7fa578e9c54febe0d437 = L.marker(\n",
       "                [-37.3159, 81.1496],\n",
       "                {}\n",
       "            ).addTo(map_530a3d27e53e1157f71ae88472f9479b);\n",
       "        \n",
       "    \n",
       "            var icon_3ce6b2fe379eb4d9e27b48768a722587 = L.AwesomeMarkers.icon(\n",
       "                {&quot;extraClasses&quot;: &quot;fa-rotate-0&quot;, &quot;icon&quot;: &quot;info-sign&quot;, &quot;iconColor&quot;: &quot;white&quot;, &quot;markerColor&quot;: &quot;blue&quot;, &quot;prefix&quot;: &quot;glyphicon&quot;}\n",
       "            );\n",
       "            marker_9d2c76f21c1b7fa578e9c54febe0d437.setIcon(icon_3ce6b2fe379eb4d9e27b48768a722587);\n",
       "        \n",
       "    \n",
       "        var popup_e97fc469c140d24f6df1c448f7dac6ba = L.popup({&quot;maxWidth&quot;: &quot;100%&quot;});\n",
       "\n",
       "        \n",
       "            \n",
       "                var html_87ad6c7595590d3c972c0b648576d4a3 = $(`&lt;div id=&quot;html_87ad6c7595590d3c972c0b648576d4a3&quot; style=&quot;width: 100.0%; height: 100.0%;&quot;&gt;City: Kilcoole&lt;br&gt;Latitude: -37.3159&lt;br&gt;Longitude: 81.1496&lt;/div&gt;`)[0];\n",
       "                popup_e97fc469c140d24f6df1c448f7dac6ba.setContent(html_87ad6c7595590d3c972c0b648576d4a3);\n",
       "            \n",
       "        \n",
       "\n",
       "        marker_9d2c76f21c1b7fa578e9c54febe0d437.bindPopup(popup_e97fc469c140d24f6df1c448f7dac6ba)\n",
       "        ;\n",
       "\n",
       "        \n",
       "    \n",
       "    \n",
       "            var marker_2ef7505b7f1483a4fc7b29f9cba870c2 = L.marker(\n",
       "                [40.3467, -30.131],\n",
       "                {}\n",
       "            ).addTo(map_530a3d27e53e1157f71ae88472f9479b);\n",
       "        \n",
       "    \n",
       "            var icon_b2b03edaee144d788c8e0dc82a50a0d5 = L.AwesomeMarkers.icon(\n",
       "                {&quot;extraClasses&quot;: &quot;fa-rotate-0&quot;, &quot;icon&quot;: &quot;info-sign&quot;, &quot;iconColor&quot;: &quot;white&quot;, &quot;markerColor&quot;: &quot;blue&quot;, &quot;prefix&quot;: &quot;glyphicon&quot;}\n",
       "            );\n",
       "            marker_2ef7505b7f1483a4fc7b29f9cba870c2.setIcon(icon_b2b03edaee144d788c8e0dc82a50a0d5);\n",
       "        \n",
       "    \n",
       "        var popup_d5d6d4c1c86db5fa256b360c0d298bcd = L.popup({&quot;maxWidth&quot;: &quot;100%&quot;});\n",
       "\n",
       "        \n",
       "            \n",
       "                var html_7c62c5275d89bbad5600593cf60f3cf4 = $(`&lt;div id=&quot;html_7c62c5275d89bbad5600593cf60f3cf4&quot; style=&quot;width: 100.0%; height: 100.0%;&quot;&gt;City: Cullman&lt;br&gt;Latitude: 40.3467&lt;br&gt;Longitude: -30.131&lt;/div&gt;`)[0];\n",
       "                popup_d5d6d4c1c86db5fa256b360c0d298bcd.setContent(html_7c62c5275d89bbad5600593cf60f3cf4);\n",
       "            \n",
       "        \n",
       "\n",
       "        marker_2ef7505b7f1483a4fc7b29f9cba870c2.bindPopup(popup_d5d6d4c1c86db5fa256b360c0d298bcd)\n",
       "        ;\n",
       "\n",
       "        \n",
       "    \n",
       "    \n",
       "            var marker_db337f87ec239e3dcc3a285e76f9e23c = L.marker(\n",
       "                [50.3467, -20.131],\n",
       "                {}\n",
       "            ).addTo(map_530a3d27e53e1157f71ae88472f9479b);\n",
       "        \n",
       "    \n",
       "            var icon_fa920c94b412a3e6f45e35109fda79e6 = L.AwesomeMarkers.icon(\n",
       "                {&quot;extraClasses&quot;: &quot;fa-rotate-0&quot;, &quot;icon&quot;: &quot;info-sign&quot;, &quot;iconColor&quot;: &quot;white&quot;, &quot;markerColor&quot;: &quot;blue&quot;, &quot;prefix&quot;: &quot;glyphicon&quot;}\n",
       "            );\n",
       "            marker_db337f87ec239e3dcc3a285e76f9e23c.setIcon(icon_fa920c94b412a3e6f45e35109fda79e6);\n",
       "        \n",
       "    \n",
       "        var popup_3ea0fc93b2bff2dcad58baf49f349361 = L.popup({&quot;maxWidth&quot;: &quot;100%&quot;});\n",
       "\n",
       "        \n",
       "            \n",
       "                var html_40d0098389a5808f89c98327a0cb84da = $(`&lt;div id=&quot;html_40d0098389a5808f89c98327a0cb84da&quot; style=&quot;width: 100.0%; height: 100.0%;&quot;&gt;City: San Antonio&lt;br&gt;Latitude: 50.3467&lt;br&gt;Longitude: -20.131&lt;/div&gt;`)[0];\n",
       "                popup_3ea0fc93b2bff2dcad58baf49f349361.setContent(html_40d0098389a5808f89c98327a0cb84da);\n",
       "            \n",
       "        \n",
       "\n",
       "        marker_db337f87ec239e3dcc3a285e76f9e23c.bindPopup(popup_3ea0fc93b2bff2dcad58baf49f349361)\n",
       "        ;\n",
       "\n",
       "        \n",
       "    \n",
       "    \n",
       "            var marker_6cf97d9a4812bd42a3ae1188a81ab539 = L.marker(\n",
       "                [40.3467, -40.131],\n",
       "                {}\n",
       "            ).addTo(map_530a3d27e53e1157f71ae88472f9479b);\n",
       "        \n",
       "    \n",
       "            var icon_683862e0b3900c272af40bb697b31a6c = L.AwesomeMarkers.icon(\n",
       "                {&quot;extraClasses&quot;: &quot;fa-rotate-0&quot;, &quot;icon&quot;: &quot;info-sign&quot;, &quot;iconColor&quot;: &quot;white&quot;, &quot;markerColor&quot;: &quot;blue&quot;, &quot;prefix&quot;: &quot;glyphicon&quot;}\n",
       "            );\n",
       "            marker_6cf97d9a4812bd42a3ae1188a81ab539.setIcon(icon_683862e0b3900c272af40bb697b31a6c);\n",
       "        \n",
       "    \n",
       "        var popup_5e068a635f599797fdf3dbc68bfc2ee1 = L.popup({&quot;maxWidth&quot;: &quot;100%&quot;});\n",
       "\n",
       "        \n",
       "            \n",
       "                var html_83bcfd43d0d3c7f8ae70973675f7ae3c = $(`&lt;div id=&quot;html_83bcfd43d0d3c7f8ae70973675f7ae3c&quot; style=&quot;width: 100.0%; height: 100.0%;&quot;&gt;City: San Antonio&lt;br&gt;Latitude: 40.3467&lt;br&gt;Longitude: -40.131&lt;/div&gt;`)[0];\n",
       "                popup_5e068a635f599797fdf3dbc68bfc2ee1.setContent(html_83bcfd43d0d3c7f8ae70973675f7ae3c);\n",
       "            \n",
       "        \n",
       "\n",
       "        marker_6cf97d9a4812bd42a3ae1188a81ab539.bindPopup(popup_5e068a635f599797fdf3dbc68bfc2ee1)\n",
       "        ;\n",
       "\n",
       "        \n",
       "    \n",
       "    \n",
       "            var marker_fa730c127821bbf9dd91a5a55bf69cb7 = L.marker(\n",
       "                [20.1677, -10.6789],\n",
       "                {}\n",
       "            ).addTo(map_530a3d27e53e1157f71ae88472f9479b);\n",
       "        \n",
       "    \n",
       "            var icon_2e5d72080d57bd6a0edc44f2858db1bc = L.AwesomeMarkers.icon(\n",
       "                {&quot;extraClasses&quot;: &quot;fa-rotate-0&quot;, &quot;icon&quot;: &quot;info-sign&quot;, &quot;iconColor&quot;: &quot;white&quot;, &quot;markerColor&quot;: &quot;blue&quot;, &quot;prefix&quot;: &quot;glyphicon&quot;}\n",
       "            );\n",
       "            marker_fa730c127821bbf9dd91a5a55bf69cb7.setIcon(icon_2e5d72080d57bd6a0edc44f2858db1bc);\n",
       "        \n",
       "    \n",
       "        var popup_274999f47eef1573ae5280f4acacb712 = L.popup({&quot;maxWidth&quot;: &quot;100%&quot;});\n",
       "\n",
       "        \n",
       "            \n",
       "                var html_6370c46056fccdbcbe827e157d21eb14 = $(`&lt;div id=&quot;html_6370c46056fccdbcbe827e157d21eb14&quot; style=&quot;width: 100.0%; height: 100.0%;&quot;&gt;City: El Paso&lt;br&gt;Latitude: 20.1677&lt;br&gt;Longitude: -10.6789&lt;/div&gt;`)[0];\n",
       "                popup_274999f47eef1573ae5280f4acacb712.setContent(html_6370c46056fccdbcbe827e157d21eb14);\n",
       "            \n",
       "        \n",
       "\n",
       "        marker_fa730c127821bbf9dd91a5a55bf69cb7.bindPopup(popup_274999f47eef1573ae5280f4acacb712)\n",
       "        ;\n",
       "\n",
       "        \n",
       "    \n",
       "    \n",
       "            var marker_2475cb8bfd77fd3d99cdec95c87952b4 = L.marker(\n",
       "                [10.3456, 20.6419],\n",
       "                {}\n",
       "            ).addTo(map_530a3d27e53e1157f71ae88472f9479b);\n",
       "        \n",
       "    \n",
       "            var icon_4148b293c9b3752554e0d35adaa51b0e = L.AwesomeMarkers.icon(\n",
       "                {&quot;extraClasses&quot;: &quot;fa-rotate-0&quot;, &quot;icon&quot;: &quot;info-sign&quot;, &quot;iconColor&quot;: &quot;white&quot;, &quot;markerColor&quot;: &quot;blue&quot;, &quot;prefix&quot;: &quot;glyphicon&quot;}\n",
       "            );\n",
       "            marker_2475cb8bfd77fd3d99cdec95c87952b4.setIcon(icon_4148b293c9b3752554e0d35adaa51b0e);\n",
       "        \n",
       "    \n",
       "        var popup_d25ac3acf929f33a12169c4fded596b1 = L.popup({&quot;maxWidth&quot;: &quot;100%&quot;});\n",
       "\n",
       "        \n",
       "            \n",
       "                var html_ee89c2675719168ee61e1aeddc14ba0d = $(`&lt;div id=&quot;html_ee89c2675719168ee61e1aeddc14ba0d&quot; style=&quot;width: 100.0%; height: 100.0%;&quot;&gt;City: Fresno&lt;br&gt;Latitude: 10.3456&lt;br&gt;Longitude: 20.6419&lt;/div&gt;`)[0];\n",
       "                popup_d25ac3acf929f33a12169c4fded596b1.setContent(html_ee89c2675719168ee61e1aeddc14ba0d);\n",
       "            \n",
       "        \n",
       "\n",
       "        marker_2475cb8bfd77fd3d99cdec95c87952b4.bindPopup(popup_d25ac3acf929f33a12169c4fded596b1)\n",
       "        ;\n",
       "\n",
       "        \n",
       "    \n",
       "    \n",
       "            var marker_9bdf52f65f95cc5b4d5eb34a1c5b4455 = L.marker(\n",
       "                [50.3456, 10.6419],\n",
       "                {}\n",
       "            ).addTo(map_530a3d27e53e1157f71ae88472f9479b);\n",
       "        \n",
       "    \n",
       "            var icon_5755d93635f7a18900ba3bfb0f5902f3 = L.AwesomeMarkers.icon(\n",
       "                {&quot;extraClasses&quot;: &quot;fa-rotate-0&quot;, &quot;icon&quot;: &quot;info-sign&quot;, &quot;iconColor&quot;: &quot;white&quot;, &quot;markerColor&quot;: &quot;blue&quot;, &quot;prefix&quot;: &quot;glyphicon&quot;}\n",
       "            );\n",
       "            marker_9bdf52f65f95cc5b4d5eb34a1c5b4455.setIcon(icon_5755d93635f7a18900ba3bfb0f5902f3);\n",
       "        \n",
       "    \n",
       "        var popup_f460eb44b8c06ce2ea827bc7c4dfff03 = L.popup({&quot;maxWidth&quot;: &quot;100%&quot;});\n",
       "\n",
       "        \n",
       "            \n",
       "                var html_6ba579c2565c752f7c2a4af10daca769 = $(`&lt;div id=&quot;html_6ba579c2565c752f7c2a4af10daca769&quot; style=&quot;width: 100.0%; height: 100.0%;&quot;&gt;City: Mesa&lt;br&gt;Latitude: 50.3456&lt;br&gt;Longitude: 10.6419&lt;/div&gt;`)[0];\n",
       "                popup_f460eb44b8c06ce2ea827bc7c4dfff03.setContent(html_6ba579c2565c752f7c2a4af10daca769);\n",
       "            \n",
       "        \n",
       "\n",
       "        marker_9bdf52f65f95cc5b4d5eb34a1c5b4455.bindPopup(popup_f460eb44b8c06ce2ea827bc7c4dfff03)\n",
       "        ;\n",
       "\n",
       "        \n",
       "    \n",
       "    \n",
       "            var marker_0f5dde2ef7075789fd93596d5c886cf7 = L.marker(\n",
       "                [40.12456, 20.5419],\n",
       "                {}\n",
       "            ).addTo(map_530a3d27e53e1157f71ae88472f9479b);\n",
       "        \n",
       "    \n",
       "            var icon_8e874d9fde3989a8c75762aa917396b0 = L.AwesomeMarkers.icon(\n",
       "                {&quot;extraClasses&quot;: &quot;fa-rotate-0&quot;, &quot;icon&quot;: &quot;info-sign&quot;, &quot;iconColor&quot;: &quot;white&quot;, &quot;markerColor&quot;: &quot;blue&quot;, &quot;prefix&quot;: &quot;glyphicon&quot;}\n",
       "            );\n",
       "            marker_0f5dde2ef7075789fd93596d5c886cf7.setIcon(icon_8e874d9fde3989a8c75762aa917396b0);\n",
       "        \n",
       "    \n",
       "        var popup_03ed396c6c7ebb7bcce63ed44e2d9352 = L.popup({&quot;maxWidth&quot;: &quot;100%&quot;});\n",
       "\n",
       "        \n",
       "            \n",
       "                var html_494ec5fe1a2fbb67357a1dcfdcf63895 = $(`&lt;div id=&quot;html_494ec5fe1a2fbb67357a1dcfdcf63895&quot; style=&quot;width: 100.0%; height: 100.0%;&quot;&gt;City: Miami&lt;br&gt;Latitude: 40.12456&lt;br&gt;Longitude: 20.5419&lt;/div&gt;`)[0];\n",
       "                popup_03ed396c6c7ebb7bcce63ed44e2d9352.setContent(html_494ec5fe1a2fbb67357a1dcfdcf63895);\n",
       "            \n",
       "        \n",
       "\n",
       "        marker_0f5dde2ef7075789fd93596d5c886cf7.bindPopup(popup_03ed396c6c7ebb7bcce63ed44e2d9352)\n",
       "        ;\n",
       "\n",
       "        \n",
       "    \n",
       "    \n",
       "            var marker_b6f6f0740abcbe0932ce207cb4fac2f6 = L.marker(\n",
       "                [30.24788, -20.545419],\n",
       "                {}\n",
       "            ).addTo(map_530a3d27e53e1157f71ae88472f9479b);\n",
       "        \n",
       "    \n",
       "            var icon_0471c569a76b23f8d127b746f2f589dc = L.AwesomeMarkers.icon(\n",
       "                {&quot;extraClasses&quot;: &quot;fa-rotate-0&quot;, &quot;icon&quot;: &quot;info-sign&quot;, &quot;iconColor&quot;: &quot;white&quot;, &quot;markerColor&quot;: &quot;blue&quot;, &quot;prefix&quot;: &quot;glyphicon&quot;}\n",
       "            );\n",
       "            marker_b6f6f0740abcbe0932ce207cb4fac2f6.setIcon(icon_0471c569a76b23f8d127b746f2f589dc);\n",
       "        \n",
       "    \n",
       "        var popup_c022fa030c872ca3b1b384164161f417 = L.popup({&quot;maxWidth&quot;: &quot;100%&quot;});\n",
       "\n",
       "        \n",
       "            \n",
       "                var html_444a27fd310b7715be252881587db4b8 = $(`&lt;div id=&quot;html_444a27fd310b7715be252881587db4b8&quot; style=&quot;width: 100.0%; height: 100.0%;&quot;&gt;City: Fort Wayne&lt;br&gt;Latitude: 30.24788&lt;br&gt;Longitude: -20.545419&lt;/div&gt;`)[0];\n",
       "                popup_c022fa030c872ca3b1b384164161f417.setContent(html_444a27fd310b7715be252881587db4b8);\n",
       "            \n",
       "        \n",
       "\n",
       "        marker_b6f6f0740abcbe0932ce207cb4fac2f6.bindPopup(popup_c022fa030c872ca3b1b384164161f417)\n",
       "        ;\n",
       "\n",
       "        \n",
       "    \n",
       "&lt;/script&gt;\n",
       "&lt;/html&gt;\" style=\"position:absolute;width:100%;height:100%;left:0;top:0;border:none !important;\" allowfullscreen webkitallowfullscreen mozallowfullscreen></iframe></div></div>"
      ],
      "text/plain": [
       "<folium.folium.Map at 0x7fe10ca2be00>"
      ]
     },
     "execution_count": 226,
     "metadata": {},
     "output_type": "execute_result"
    }
   ],
   "source": [
    "import folium\n",
    "\n",
    "# Criar um mapa base centrado na média das coordenadas\n",
    "map_center = [df_users['lat'].mean(), df_users['long'].mean()]\n",
    "m = folium.Map(location=map_center, zoom_start=3)\n",
    "\n",
    "# Adicionar marcadores para cada usuário\n",
    "for idx, row in df_users.iterrows():\n",
    "    popup_text = f\"City: {row['city']}<br>Latitude: {row['lat']}<br>Longitude: {row['long']}\"\n",
    "    folium.Marker(\n",
    "        location=[row['lat'], row['long']],\n",
    "        popup=popup_text,  # Exibindo a cidade, lat e long ao clicar no marcador\n",
    "        icon=folium.Icon(color='blue', icon='info-sign')\n",
    "    ).add_to(m)\n",
    "\n",
    "# Salvar e exibir o mapa\n",
    "#m.save('img/users_location_map_with_details.html')\n",
    "m"
   ]
  },
  {
   "cell_type": "markdown",
   "metadata": {},
   "source": [
    "#### Adjusting maps\n",
    "- Apparently, the geographic coordinates from the API are incorrect. We won't be able to use them in our analysis.\n",
    "- Let's try to proceed with the analysis using the **zipcode.**\n",
    "- Even the zipcodes are incorrect. \n",
    "- We will try to proceed **converting the address to a lat/long code** using geopy and then make the maps.\n",
    "- Some **street names** and numbers are incorrect. So we should **use only the cities** to make the maps."
   ]
  },
  {
   "cell_type": "code",
   "execution_count": null,
   "metadata": {},
   "outputs": [],
   "source": [
    "# Obtendo coordenadas corretas a partir do nome da cidade\n",
    "# Inicializar o geolocalizador\n",
    "geolocator = Nominatim(user_agent=\"joaomj\") # é importante utilizar um user_agent específico para evitar bloqueios pela API de mapas.\n",
    "\n",
    "# Fazendo a cópia para não modificar o df original\n",
    "df1 = df_users.copy()\n",
    "\n",
    "# Corrigir as coordenadas do dataframe usando a função 'get_coordinates'\n",
    "df1[['lat', 'long']] = df1['city'].apply(lambda city: pd.Series(get_coordinates(city)))"
   ]
  },
  {
   "cell_type": "code",
   "execution_count": 257,
   "metadata": {},
   "outputs": [
    {
     "name": "stdout",
     "output_type": "stream",
     "text": [
      "   id            name           phone        lat       long         city  \\\n",
      "0   1        John Doe  1-570-236-7033  34.802243 -87.549346     Kilcoole   \n",
      "1   2  David Morrison  1-570-236-7033  34.802243 -87.549346     Kilcoole   \n",
      "2   3      Kevin Ryan  1-567-094-1345  34.133533 -86.877927      Cullman   \n",
      "3   4       Don Romer  1-765-789-6734  29.424600 -98.495141  San Antonio   \n",
      "4   5    Derek Powell  1-956-001-1945  29.424600 -98.495141  San Antonio   \n",
      "\n",
      "             street  number     zipcode               email   username  \\\n",
      "0          New Road    7682  12926-3874      john@gmail.com      johnd   \n",
      "1         Lovers Ln    7267  12926-3874  morrison@gmail.com   mor_2314   \n",
      "2        Frances Ct      86  29567-1452     kevin@gmail.com  kevinryan   \n",
      "3  Hunters Creek Dr    6454  98234-1734       don@gmail.com     donero   \n",
      "4          Adams St     245  80796-1234     derek@gmail.com      derek   \n",
      "\n",
      "    password  \n",
      "0    m38rmF$  \n",
      "1     83r5^_  \n",
      "2  kev02937@  \n",
      "3     ewedon  \n",
      "4   jklg*_56  \n"
     ]
    }
   ],
   "source": [
    "# Substituir as coordenadas incorretas de 'df_users' pelas corretas de 'df1'\n",
    "\n",
    "# Passo 1: Mesclar df_users com df1 usando a coluna 'id' para obter as coordenadas corretas\n",
    "df_merged = df_users.merge(df1[['id', 'lat', 'long']], on='id', suffixes=('', '_new'))\n",
    "\n",
    "# Passo 2: Substituir as coordenadas antigas pelas novas\n",
    "df_merged['lat'] = df_merged['lat_new']\n",
    "df_merged['long'] = df_merged['long_new']\n",
    "\n",
    "# Passo 3: Remover as colunas desnecessárias\n",
    "df_users = df_merged.drop(columns=['lat_new', 'long_new'])\n",
    "\n",
    "# Exibir os primeiros registros para verificação\n",
    "print(df_users.head())\n",
    "\n",
    "# Salvar df_users com as coordenadas corretas\n",
    "df_users.to_csv('data/df_users_coord_corrected.csv', index=False)"
   ]
  },
  {
   "cell_type": "code",
   "execution_count": 231,
   "metadata": {},
   "outputs": [
    {
     "data": {
      "text/html": [
       "<div style=\"width:100%;\"><div style=\"position:relative;width:100%;height:0;padding-bottom:60%;\"><span style=\"color:#565656\">Make this Notebook Trusted to load map: File -> Trust Notebook</span><iframe srcdoc=\"&lt;!DOCTYPE html&gt;\n",
       "&lt;html&gt;\n",
       "&lt;head&gt;\n",
       "    \n",
       "    &lt;meta http-equiv=&quot;content-type&quot; content=&quot;text/html; charset=UTF-8&quot; /&gt;\n",
       "    \n",
       "        &lt;script&gt;\n",
       "            L_NO_TOUCH = false;\n",
       "            L_DISABLE_3D = false;\n",
       "        &lt;/script&gt;\n",
       "    \n",
       "    &lt;style&gt;html, body {width: 100%;height: 100%;margin: 0;padding: 0;}&lt;/style&gt;\n",
       "    &lt;style&gt;#map {position:absolute;top:0;bottom:0;right:0;left:0;}&lt;/style&gt;\n",
       "    &lt;script src=&quot;https://cdn.jsdelivr.net/npm/leaflet@1.9.3/dist/leaflet.js&quot;&gt;&lt;/script&gt;\n",
       "    &lt;script src=&quot;https://code.jquery.com/jquery-1.12.4.min.js&quot;&gt;&lt;/script&gt;\n",
       "    &lt;script src=&quot;https://cdn.jsdelivr.net/npm/bootstrap@5.2.2/dist/js/bootstrap.bundle.min.js&quot;&gt;&lt;/script&gt;\n",
       "    &lt;script src=&quot;https://cdnjs.cloudflare.com/ajax/libs/Leaflet.awesome-markers/2.0.2/leaflet.awesome-markers.js&quot;&gt;&lt;/script&gt;\n",
       "    &lt;link rel=&quot;stylesheet&quot; href=&quot;https://cdn.jsdelivr.net/npm/leaflet@1.9.3/dist/leaflet.css&quot;/&gt;\n",
       "    &lt;link rel=&quot;stylesheet&quot; href=&quot;https://cdn.jsdelivr.net/npm/bootstrap@5.2.2/dist/css/bootstrap.min.css&quot;/&gt;\n",
       "    &lt;link rel=&quot;stylesheet&quot; href=&quot;https://netdna.bootstrapcdn.com/bootstrap/3.0.0/css/bootstrap.min.css&quot;/&gt;\n",
       "    &lt;link rel=&quot;stylesheet&quot; href=&quot;https://cdn.jsdelivr.net/npm/@fortawesome/fontawesome-free@6.2.0/css/all.min.css&quot;/&gt;\n",
       "    &lt;link rel=&quot;stylesheet&quot; href=&quot;https://cdnjs.cloudflare.com/ajax/libs/Leaflet.awesome-markers/2.0.2/leaflet.awesome-markers.css&quot;/&gt;\n",
       "    &lt;link rel=&quot;stylesheet&quot; href=&quot;https://cdn.jsdelivr.net/gh/python-visualization/folium/folium/templates/leaflet.awesome.rotate.min.css&quot;/&gt;\n",
       "    \n",
       "            &lt;meta name=&quot;viewport&quot; content=&quot;width=device-width,\n",
       "                initial-scale=1.0, maximum-scale=1.0, user-scalable=no&quot; /&gt;\n",
       "            &lt;style&gt;\n",
       "                #map_6ff594b730b16585e536d467d0a27d8a {\n",
       "                    position: relative;\n",
       "                    width: 100.0%;\n",
       "                    height: 100.0%;\n",
       "                    left: 0.0%;\n",
       "                    top: 0.0%;\n",
       "                }\n",
       "                .leaflet-container { font-size: 1rem; }\n",
       "            &lt;/style&gt;\n",
       "        \n",
       "&lt;/head&gt;\n",
       "&lt;body&gt;\n",
       "    \n",
       "    \n",
       "            &lt;div class=&quot;folium-map&quot; id=&quot;map_6ff594b730b16585e536d467d0a27d8a&quot; &gt;&lt;/div&gt;\n",
       "        \n",
       "&lt;/body&gt;\n",
       "&lt;script&gt;\n",
       "    \n",
       "    \n",
       "            var map_6ff594b730b16585e536d467d0a27d8a = L.map(\n",
       "                &quot;map_6ff594b730b16585e536d467d0a27d8a&quot;,\n",
       "                {\n",
       "                    center: [33.135604119999996, -96.24024467000001],\n",
       "                    crs: L.CRS.EPSG3857,\n",
       "                    zoom: 4,\n",
       "                    zoomControl: true,\n",
       "                    preferCanvas: false,\n",
       "                }\n",
       "            );\n",
       "\n",
       "            \n",
       "\n",
       "        \n",
       "    \n",
       "            var tile_layer_edb8d3887bb32a079e574b4fcb2c59da = L.tileLayer(\n",
       "                &quot;https://{s}.tile.openstreetmap.org/{z}/{x}/{y}.png&quot;,\n",
       "                {&quot;attribution&quot;: &quot;Data by \\u0026copy; \\u003ca target=\\&quot;_blank\\&quot; href=\\&quot;http://openstreetmap.org\\&quot;\\u003eOpenStreetMap\\u003c/a\\u003e, under \\u003ca target=\\&quot;_blank\\&quot; href=\\&quot;http://www.openstreetmap.org/copyright\\&quot;\\u003eODbL\\u003c/a\\u003e.&quot;, &quot;detectRetina&quot;: false, &quot;maxNativeZoom&quot;: 18, &quot;maxZoom&quot;: 18, &quot;minZoom&quot;: 0, &quot;noWrap&quot;: false, &quot;opacity&quot;: 1, &quot;subdomains&quot;: &quot;abc&quot;, &quot;tms&quot;: false}\n",
       "            ).addTo(map_6ff594b730b16585e536d467d0a27d8a);\n",
       "        \n",
       "    \n",
       "            var marker_8960e3d9634fb66800dae307e48a4501 = L.marker(\n",
       "                [34.802243, -87.549346],\n",
       "                {}\n",
       "            ).addTo(map_6ff594b730b16585e536d467d0a27d8a);\n",
       "        \n",
       "    \n",
       "        var popup_b990a81b9576abc4eb2987068bd1b46d = L.popup({&quot;maxWidth&quot;: &quot;100%&quot;});\n",
       "\n",
       "        \n",
       "            \n",
       "                var html_14635a769bf02c3e297338feb4e95611 = $(`&lt;div id=&quot;html_14635a769bf02c3e297338feb4e95611&quot; style=&quot;width: 100.0%; height: 100.0%;&quot;&gt;City: Kilcoole&lt;br&gt;Latitude: 34.802243&lt;br&gt;Longitude: -87.549346&lt;/div&gt;`)[0];\n",
       "                popup_b990a81b9576abc4eb2987068bd1b46d.setContent(html_14635a769bf02c3e297338feb4e95611);\n",
       "            \n",
       "        \n",
       "\n",
       "        marker_8960e3d9634fb66800dae307e48a4501.bindPopup(popup_b990a81b9576abc4eb2987068bd1b46d)\n",
       "        ;\n",
       "\n",
       "        \n",
       "    \n",
       "    \n",
       "            var marker_7a85d42781185926ae390bca7d4718b1 = L.marker(\n",
       "                [34.802243, -87.549346],\n",
       "                {}\n",
       "            ).addTo(map_6ff594b730b16585e536d467d0a27d8a);\n",
       "        \n",
       "    \n",
       "        var popup_4376da24d0cf949b78462f4100f97824 = L.popup({&quot;maxWidth&quot;: &quot;100%&quot;});\n",
       "\n",
       "        \n",
       "            \n",
       "                var html_19a1bf68714460fb2ac443813e6d6c29 = $(`&lt;div id=&quot;html_19a1bf68714460fb2ac443813e6d6c29&quot; style=&quot;width: 100.0%; height: 100.0%;&quot;&gt;City: Kilcoole&lt;br&gt;Latitude: 34.802243&lt;br&gt;Longitude: -87.549346&lt;/div&gt;`)[0];\n",
       "                popup_4376da24d0cf949b78462f4100f97824.setContent(html_19a1bf68714460fb2ac443813e6d6c29);\n",
       "            \n",
       "        \n",
       "\n",
       "        marker_7a85d42781185926ae390bca7d4718b1.bindPopup(popup_4376da24d0cf949b78462f4100f97824)\n",
       "        ;\n",
       "\n",
       "        \n",
       "    \n",
       "    \n",
       "            var marker_20c05fb173373c678c8e4a36f0d8042d = L.marker(\n",
       "                [34.1335332, -86.8779268],\n",
       "                {}\n",
       "            ).addTo(map_6ff594b730b16585e536d467d0a27d8a);\n",
       "        \n",
       "    \n",
       "        var popup_cf3ecd41af0ff9714f04e431c785e678 = L.popup({&quot;maxWidth&quot;: &quot;100%&quot;});\n",
       "\n",
       "        \n",
       "            \n",
       "                var html_09da1a32fce9d02f260813ae1abdedab = $(`&lt;div id=&quot;html_09da1a32fce9d02f260813ae1abdedab&quot; style=&quot;width: 100.0%; height: 100.0%;&quot;&gt;City: Cullman&lt;br&gt;Latitude: 34.1335332&lt;br&gt;Longitude: -86.8779268&lt;/div&gt;`)[0];\n",
       "                popup_cf3ecd41af0ff9714f04e431c785e678.setContent(html_09da1a32fce9d02f260813ae1abdedab);\n",
       "            \n",
       "        \n",
       "\n",
       "        marker_20c05fb173373c678c8e4a36f0d8042d.bindPopup(popup_cf3ecd41af0ff9714f04e431c785e678)\n",
       "        ;\n",
       "\n",
       "        \n",
       "    \n",
       "    \n",
       "            var marker_3a4c3bcb43f7108f41d852d85adb6473 = L.marker(\n",
       "                [29.4246002, -98.4951405],\n",
       "                {}\n",
       "            ).addTo(map_6ff594b730b16585e536d467d0a27d8a);\n",
       "        \n",
       "    \n",
       "        var popup_2898ed6c1b9320e30f08b3ceb5825f3c = L.popup({&quot;maxWidth&quot;: &quot;100%&quot;});\n",
       "\n",
       "        \n",
       "            \n",
       "                var html_02e9f71b11fcbfd215f0b27af7a95e56 = $(`&lt;div id=&quot;html_02e9f71b11fcbfd215f0b27af7a95e56&quot; style=&quot;width: 100.0%; height: 100.0%;&quot;&gt;City: San Antonio&lt;br&gt;Latitude: 29.4246002&lt;br&gt;Longitude: -98.4951405&lt;/div&gt;`)[0];\n",
       "                popup_2898ed6c1b9320e30f08b3ceb5825f3c.setContent(html_02e9f71b11fcbfd215f0b27af7a95e56);\n",
       "            \n",
       "        \n",
       "\n",
       "        marker_3a4c3bcb43f7108f41d852d85adb6473.bindPopup(popup_2898ed6c1b9320e30f08b3ceb5825f3c)\n",
       "        ;\n",
       "\n",
       "        \n",
       "    \n",
       "    \n",
       "            var marker_d78818ce1e8a0e09d14b57c76b878d49 = L.marker(\n",
       "                [29.4246002, -98.4951405],\n",
       "                {}\n",
       "            ).addTo(map_6ff594b730b16585e536d467d0a27d8a);\n",
       "        \n",
       "    \n",
       "        var popup_45f21df4925610e5bd9a019860ef4ff6 = L.popup({&quot;maxWidth&quot;: &quot;100%&quot;});\n",
       "\n",
       "        \n",
       "            \n",
       "                var html_cf252a5943879c57ad87852e76bc6ee9 = $(`&lt;div id=&quot;html_cf252a5943879c57ad87852e76bc6ee9&quot; style=&quot;width: 100.0%; height: 100.0%;&quot;&gt;City: San Antonio&lt;br&gt;Latitude: 29.4246002&lt;br&gt;Longitude: -98.4951405&lt;/div&gt;`)[0];\n",
       "                popup_45f21df4925610e5bd9a019860ef4ff6.setContent(html_cf252a5943879c57ad87852e76bc6ee9);\n",
       "            \n",
       "        \n",
       "\n",
       "        marker_d78818ce1e8a0e09d14b57c76b878d49.bindPopup(popup_45f21df4925610e5bd9a019860ef4ff6)\n",
       "        ;\n",
       "\n",
       "        \n",
       "    \n",
       "    \n",
       "            var marker_4656cc6a2e6c3ce790a1a2612d8118a7 = L.marker(\n",
       "                [31.7601164, -106.4870404],\n",
       "                {}\n",
       "            ).addTo(map_6ff594b730b16585e536d467d0a27d8a);\n",
       "        \n",
       "    \n",
       "        var popup_b5cbf1e47918443ea41474dbc7728159 = L.popup({&quot;maxWidth&quot;: &quot;100%&quot;});\n",
       "\n",
       "        \n",
       "            \n",
       "                var html_c91106ab1d472360da16c015c3cdb387 = $(`&lt;div id=&quot;html_c91106ab1d472360da16c015c3cdb387&quot; style=&quot;width: 100.0%; height: 100.0%;&quot;&gt;City: El Paso&lt;br&gt;Latitude: 31.7601164&lt;br&gt;Longitude: -106.4870404&lt;/div&gt;`)[0];\n",
       "                popup_b5cbf1e47918443ea41474dbc7728159.setContent(html_c91106ab1d472360da16c015c3cdb387);\n",
       "            \n",
       "        \n",
       "\n",
       "        marker_4656cc6a2e6c3ce790a1a2612d8118a7.bindPopup(popup_b5cbf1e47918443ea41474dbc7728159)\n",
       "        ;\n",
       "\n",
       "        \n",
       "    \n",
       "    \n",
       "            var marker_52fb91a9548f4ddbf3a420b33f39e9a6 = L.marker(\n",
       "                [36.7394421, -119.78483],\n",
       "                {}\n",
       "            ).addTo(map_6ff594b730b16585e536d467d0a27d8a);\n",
       "        \n",
       "    \n",
       "        var popup_acea19fbf46ce4aa4535ec76cc935499 = L.popup({&quot;maxWidth&quot;: &quot;100%&quot;});\n",
       "\n",
       "        \n",
       "            \n",
       "                var html_33a3d8ba714a19b242b8ac9a4f36e3ca = $(`&lt;div id=&quot;html_33a3d8ba714a19b242b8ac9a4f36e3ca&quot; style=&quot;width: 100.0%; height: 100.0%;&quot;&gt;City: Fresno&lt;br&gt;Latitude: 36.7394421&lt;br&gt;Longitude: -119.78483&lt;/div&gt;`)[0];\n",
       "                popup_acea19fbf46ce4aa4535ec76cc935499.setContent(html_33a3d8ba714a19b242b8ac9a4f36e3ca);\n",
       "            \n",
       "        \n",
       "\n",
       "        marker_52fb91a9548f4ddbf3a420b33f39e9a6.bindPopup(popup_acea19fbf46ce4aa4535ec76cc935499)\n",
       "        ;\n",
       "\n",
       "        \n",
       "    \n",
       "    \n",
       "            var marker_52b5bcfa54631d8d92c3ab9c1c860b22 = L.marker(\n",
       "                [33.4151005, -111.831455],\n",
       "                {}\n",
       "            ).addTo(map_6ff594b730b16585e536d467d0a27d8a);\n",
       "        \n",
       "    \n",
       "        var popup_d9b7b636fd1c9d8c7024d28d934c8bf8 = L.popup({&quot;maxWidth&quot;: &quot;100%&quot;});\n",
       "\n",
       "        \n",
       "            \n",
       "                var html_23a1cb99b2e73f96212eac8c7ea23740 = $(`&lt;div id=&quot;html_23a1cb99b2e73f96212eac8c7ea23740&quot; style=&quot;width: 100.0%; height: 100.0%;&quot;&gt;City: Mesa&lt;br&gt;Latitude: 33.4151005&lt;br&gt;Longitude: -111.831455&lt;/div&gt;`)[0];\n",
       "                popup_d9b7b636fd1c9d8c7024d28d934c8bf8.setContent(html_23a1cb99b2e73f96212eac8c7ea23740);\n",
       "            \n",
       "        \n",
       "\n",
       "        marker_52b5bcfa54631d8d92c3ab9c1c860b22.bindPopup(popup_d9b7b636fd1c9d8c7024d28d934c8bf8)\n",
       "        ;\n",
       "\n",
       "        \n",
       "    \n",
       "    \n",
       "            var marker_5adb76874b954feb3d252eee65b0113e = L.marker(\n",
       "                [25.7741728, -80.19362],\n",
       "                {}\n",
       "            ).addTo(map_6ff594b730b16585e536d467d0a27d8a);\n",
       "        \n",
       "    \n",
       "        var popup_7d77db0ac55326ec1153d3e5c354c6a4 = L.popup({&quot;maxWidth&quot;: &quot;100%&quot;});\n",
       "\n",
       "        \n",
       "            \n",
       "                var html_6d3c2868284f6f554bd5ce50b6256d92 = $(`&lt;div id=&quot;html_6d3c2868284f6f554bd5ce50b6256d92&quot; style=&quot;width: 100.0%; height: 100.0%;&quot;&gt;City: Miami&lt;br&gt;Latitude: 25.7741728&lt;br&gt;Longitude: -80.19362&lt;/div&gt;`)[0];\n",
       "                popup_7d77db0ac55326ec1153d3e5c354c6a4.setContent(html_6d3c2868284f6f554bd5ce50b6256d92);\n",
       "            \n",
       "        \n",
       "\n",
       "        marker_5adb76874b954feb3d252eee65b0113e.bindPopup(popup_7d77db0ac55326ec1153d3e5c354c6a4)\n",
       "        ;\n",
       "\n",
       "        \n",
       "    \n",
       "    \n",
       "            var marker_3bc9127d126c0b7ecd18856b9fb68c4b = L.marker(\n",
       "                [41.0799898, -85.1386015],\n",
       "                {}\n",
       "            ).addTo(map_6ff594b730b16585e536d467d0a27d8a);\n",
       "        \n",
       "    \n",
       "        var popup_c1342be9b234c671546d5a0ae0ae2910 = L.popup({&quot;maxWidth&quot;: &quot;100%&quot;});\n",
       "\n",
       "        \n",
       "            \n",
       "                var html_e55419af82135497234fd0445146fb2d = $(`&lt;div id=&quot;html_e55419af82135497234fd0445146fb2d&quot; style=&quot;width: 100.0%; height: 100.0%;&quot;&gt;City: Fort Wayne&lt;br&gt;Latitude: 41.0799898&lt;br&gt;Longitude: -85.1386015&lt;/div&gt;`)[0];\n",
       "                popup_c1342be9b234c671546d5a0ae0ae2910.setContent(html_e55419af82135497234fd0445146fb2d);\n",
       "            \n",
       "        \n",
       "\n",
       "        marker_3bc9127d126c0b7ecd18856b9fb68c4b.bindPopup(popup_c1342be9b234c671546d5a0ae0ae2910)\n",
       "        ;\n",
       "\n",
       "        \n",
       "    \n",
       "&lt;/script&gt;\n",
       "&lt;/html&gt;\" style=\"position:absolute;width:100%;height:100%;left:0;top:0;border:none !important;\" allowfullscreen webkitallowfullscreen mozallowfullscreen></iframe></div></div>"
      ],
      "text/plain": [
       "<folium.folium.Map at 0x7fe0fae82fc0>"
      ]
     },
     "execution_count": 231,
     "metadata": {},
     "output_type": "execute_result"
    }
   ],
   "source": [
    "# Criar o mapa centralizado na média das coordenadas\n",
    "map_center = [df1['lat'].mean(), df1['long'].mean()]\n",
    "user_map = folium.Map(location=map_center, zoom_start=4)\n",
    "\n",
    "# Adicionar pontos ao mapa\n",
    "for _, row in df1.iterrows():\n",
    "    if pd.notna(row['lat']) and pd.notna(row['long']):\n",
    "        popup_text = f\"City: {row['city']}<br>Latitude: {row['lat']}<br>Longitude: {row['long']}\"\n",
    "        folium.Marker(\n",
    "            location=[row['lat'], row['long']],\n",
    "            popup=popup_text\n",
    "        ).add_to(user_map)\n",
    "\n",
    "# Salvar e exibir o mapa\n",
    "user_map.save('img/users_location_map.html')\n",
    "user_map"
   ]
  },
  {
   "cell_type": "markdown",
   "metadata": {},
   "source": [
    "### Number of users per city"
   ]
  },
  {
   "cell_type": "code",
   "execution_count": 237,
   "metadata": {},
   "outputs": [
    {
     "data": {
      "text/html": [
       "<div style=\"width:100%;\"><div style=\"position:relative;width:100%;height:0;padding-bottom:60%;\"><span style=\"color:#565656\">Make this Notebook Trusted to load map: File -> Trust Notebook</span><iframe srcdoc=\"&lt;!DOCTYPE html&gt;\n",
       "&lt;html&gt;\n",
       "&lt;head&gt;\n",
       "    \n",
       "    &lt;meta http-equiv=&quot;content-type&quot; content=&quot;text/html; charset=UTF-8&quot; /&gt;\n",
       "    \n",
       "        &lt;script&gt;\n",
       "            L_NO_TOUCH = false;\n",
       "            L_DISABLE_3D = false;\n",
       "        &lt;/script&gt;\n",
       "    \n",
       "    &lt;style&gt;html, body {width: 100%;height: 100%;margin: 0;padding: 0;}&lt;/style&gt;\n",
       "    &lt;style&gt;#map {position:absolute;top:0;bottom:0;right:0;left:0;}&lt;/style&gt;\n",
       "    &lt;script src=&quot;https://cdn.jsdelivr.net/npm/leaflet@1.9.3/dist/leaflet.js&quot;&gt;&lt;/script&gt;\n",
       "    &lt;script src=&quot;https://code.jquery.com/jquery-1.12.4.min.js&quot;&gt;&lt;/script&gt;\n",
       "    &lt;script src=&quot;https://cdn.jsdelivr.net/npm/bootstrap@5.2.2/dist/js/bootstrap.bundle.min.js&quot;&gt;&lt;/script&gt;\n",
       "    &lt;script src=&quot;https://cdnjs.cloudflare.com/ajax/libs/Leaflet.awesome-markers/2.0.2/leaflet.awesome-markers.js&quot;&gt;&lt;/script&gt;\n",
       "    &lt;link rel=&quot;stylesheet&quot; href=&quot;https://cdn.jsdelivr.net/npm/leaflet@1.9.3/dist/leaflet.css&quot;/&gt;\n",
       "    &lt;link rel=&quot;stylesheet&quot; href=&quot;https://cdn.jsdelivr.net/npm/bootstrap@5.2.2/dist/css/bootstrap.min.css&quot;/&gt;\n",
       "    &lt;link rel=&quot;stylesheet&quot; href=&quot;https://netdna.bootstrapcdn.com/bootstrap/3.0.0/css/bootstrap.min.css&quot;/&gt;\n",
       "    &lt;link rel=&quot;stylesheet&quot; href=&quot;https://cdn.jsdelivr.net/npm/@fortawesome/fontawesome-free@6.2.0/css/all.min.css&quot;/&gt;\n",
       "    &lt;link rel=&quot;stylesheet&quot; href=&quot;https://cdnjs.cloudflare.com/ajax/libs/Leaflet.awesome-markers/2.0.2/leaflet.awesome-markers.css&quot;/&gt;\n",
       "    &lt;link rel=&quot;stylesheet&quot; href=&quot;https://cdn.jsdelivr.net/gh/python-visualization/folium/folium/templates/leaflet.awesome.rotate.min.css&quot;/&gt;\n",
       "    \n",
       "            &lt;meta name=&quot;viewport&quot; content=&quot;width=device-width,\n",
       "                initial-scale=1.0, maximum-scale=1.0, user-scalable=no&quot; /&gt;\n",
       "            &lt;style&gt;\n",
       "                #map_13413ac0afeca95fd978dbf9a985e69f {\n",
       "                    position: relative;\n",
       "                    width: 100.0%;\n",
       "                    height: 100.0%;\n",
       "                    left: 0.0%;\n",
       "                    top: 0.0%;\n",
       "                }\n",
       "                .leaflet-container { font-size: 1rem; }\n",
       "            &lt;/style&gt;\n",
       "        \n",
       "&lt;/head&gt;\n",
       "&lt;body&gt;\n",
       "    \n",
       "    \n",
       "            &lt;div class=&quot;folium-map&quot; id=&quot;map_13413ac0afeca95fd978dbf9a985e69f&quot; &gt;&lt;/div&gt;\n",
       "        \n",
       "&lt;/body&gt;\n",
       "&lt;script&gt;\n",
       "    \n",
       "    \n",
       "            var map_13413ac0afeca95fd978dbf9a985e69f = L.map(\n",
       "                &quot;map_13413ac0afeca95fd978dbf9a985e69f&quot;,\n",
       "                {\n",
       "                    center: [33.135604119999996, -96.24024467000001],\n",
       "                    crs: L.CRS.EPSG3857,\n",
       "                    zoom: 4,\n",
       "                    zoomControl: true,\n",
       "                    preferCanvas: false,\n",
       "                }\n",
       "            );\n",
       "\n",
       "            \n",
       "\n",
       "        \n",
       "    \n",
       "            var tile_layer_65deaf955db47aa468a681ee715296bc = L.tileLayer(\n",
       "                &quot;https://{s}.tile.openstreetmap.org/{z}/{x}/{y}.png&quot;,\n",
       "                {&quot;attribution&quot;: &quot;Data by \\u0026copy; \\u003ca target=\\&quot;_blank\\&quot; href=\\&quot;http://openstreetmap.org\\&quot;\\u003eOpenStreetMap\\u003c/a\\u003e, under \\u003ca target=\\&quot;_blank\\&quot; href=\\&quot;http://www.openstreetmap.org/copyright\\&quot;\\u003eODbL\\u003c/a\\u003e.&quot;, &quot;detectRetina&quot;: false, &quot;maxNativeZoom&quot;: 18, &quot;maxZoom&quot;: 18, &quot;minZoom&quot;: 0, &quot;noWrap&quot;: false, &quot;opacity&quot;: 1, &quot;subdomains&quot;: &quot;abc&quot;, &quot;tms&quot;: false}\n",
       "            ).addTo(map_13413ac0afeca95fd978dbf9a985e69f);\n",
       "        \n",
       "    \n",
       "            var circle_marker_f7ae3705db4d8e72f27db0fb7baf1041 = L.circleMarker(\n",
       "                [34.802243, -87.549346],\n",
       "                {&quot;bubblingMouseEvents&quot;: true, &quot;color&quot;: &quot;blue&quot;, &quot;dashArray&quot;: null, &quot;dashOffset&quot;: null, &quot;fill&quot;: true, &quot;fillColor&quot;: &quot;blue&quot;, &quot;fillOpacity&quot;: 0.6, &quot;fillRule&quot;: &quot;evenodd&quot;, &quot;lineCap&quot;: &quot;round&quot;, &quot;lineJoin&quot;: &quot;round&quot;, &quot;opacity&quot;: 1.0, &quot;radius&quot;: 10, &quot;stroke&quot;: true, &quot;weight&quot;: 3}\n",
       "            ).addTo(map_13413ac0afeca95fd978dbf9a985e69f);\n",
       "        \n",
       "    \n",
       "        var popup_b4299a5be50f01b1204ae2788497e9bb = L.popup({&quot;maxWidth&quot;: &quot;100%&quot;});\n",
       "\n",
       "        \n",
       "            \n",
       "                var html_af2f56c9b3b0d2ac9f843ccf4a141dae = $(`&lt;div id=&quot;html_af2f56c9b3b0d2ac9f843ccf4a141dae&quot; style=&quot;width: 100.0%; height: 100.0%;&quot;&gt;City: Kilcoole&lt;br&gt;Number of Users: 2&lt;br&gt;&lt;/div&gt;`)[0];\n",
       "                popup_b4299a5be50f01b1204ae2788497e9bb.setContent(html_af2f56c9b3b0d2ac9f843ccf4a141dae);\n",
       "            \n",
       "        \n",
       "\n",
       "        circle_marker_f7ae3705db4d8e72f27db0fb7baf1041.bindPopup(popup_b4299a5be50f01b1204ae2788497e9bb)\n",
       "        ;\n",
       "\n",
       "        \n",
       "    \n",
       "    \n",
       "            var circle_marker_1d1c8f0c2c25f2e6135d868a4cde5ad6 = L.circleMarker(\n",
       "                [29.4246002, -98.4951405],\n",
       "                {&quot;bubblingMouseEvents&quot;: true, &quot;color&quot;: &quot;blue&quot;, &quot;dashArray&quot;: null, &quot;dashOffset&quot;: null, &quot;fill&quot;: true, &quot;fillColor&quot;: &quot;blue&quot;, &quot;fillOpacity&quot;: 0.6, &quot;fillRule&quot;: &quot;evenodd&quot;, &quot;lineCap&quot;: &quot;round&quot;, &quot;lineJoin&quot;: &quot;round&quot;, &quot;opacity&quot;: 1.0, &quot;radius&quot;: 10, &quot;stroke&quot;: true, &quot;weight&quot;: 3}\n",
       "            ).addTo(map_13413ac0afeca95fd978dbf9a985e69f);\n",
       "        \n",
       "    \n",
       "        var popup_57ece8a0ba9f9c030c664fd07cf59eee = L.popup({&quot;maxWidth&quot;: &quot;100%&quot;});\n",
       "\n",
       "        \n",
       "            \n",
       "                var html_c39e5b933fc5034e756d602ee2332113 = $(`&lt;div id=&quot;html_c39e5b933fc5034e756d602ee2332113&quot; style=&quot;width: 100.0%; height: 100.0%;&quot;&gt;City: San Antonio&lt;br&gt;Number of Users: 2&lt;br&gt;&lt;/div&gt;`)[0];\n",
       "                popup_57ece8a0ba9f9c030c664fd07cf59eee.setContent(html_c39e5b933fc5034e756d602ee2332113);\n",
       "            \n",
       "        \n",
       "\n",
       "        circle_marker_1d1c8f0c2c25f2e6135d868a4cde5ad6.bindPopup(popup_57ece8a0ba9f9c030c664fd07cf59eee)\n",
       "        ;\n",
       "\n",
       "        \n",
       "    \n",
       "    \n",
       "            var circle_marker_d90fedf2e46fd3854189873ecb8abc19 = L.circleMarker(\n",
       "                [34.1335332, -86.8779268],\n",
       "                {&quot;bubblingMouseEvents&quot;: true, &quot;color&quot;: &quot;blue&quot;, &quot;dashArray&quot;: null, &quot;dashOffset&quot;: null, &quot;fill&quot;: true, &quot;fillColor&quot;: &quot;blue&quot;, &quot;fillOpacity&quot;: 0.6, &quot;fillRule&quot;: &quot;evenodd&quot;, &quot;lineCap&quot;: &quot;round&quot;, &quot;lineJoin&quot;: &quot;round&quot;, &quot;opacity&quot;: 1.0, &quot;radius&quot;: 5, &quot;stroke&quot;: true, &quot;weight&quot;: 3}\n",
       "            ).addTo(map_13413ac0afeca95fd978dbf9a985e69f);\n",
       "        \n",
       "    \n",
       "        var popup_730d951252a75019f5415f1b49466330 = L.popup({&quot;maxWidth&quot;: &quot;100%&quot;});\n",
       "\n",
       "        \n",
       "            \n",
       "                var html_b7fd22ab0294c7d836d16037708e3dd4 = $(`&lt;div id=&quot;html_b7fd22ab0294c7d836d16037708e3dd4&quot; style=&quot;width: 100.0%; height: 100.0%;&quot;&gt;City: Cullman&lt;br&gt;Number of Users: 1&lt;br&gt;&lt;/div&gt;`)[0];\n",
       "                popup_730d951252a75019f5415f1b49466330.setContent(html_b7fd22ab0294c7d836d16037708e3dd4);\n",
       "            \n",
       "        \n",
       "\n",
       "        circle_marker_d90fedf2e46fd3854189873ecb8abc19.bindPopup(popup_730d951252a75019f5415f1b49466330)\n",
       "        ;\n",
       "\n",
       "        \n",
       "    \n",
       "    \n",
       "            var circle_marker_be73f58eaa857a9b7697a1177b40f47d = L.circleMarker(\n",
       "                [31.7601164, -106.4870404],\n",
       "                {&quot;bubblingMouseEvents&quot;: true, &quot;color&quot;: &quot;blue&quot;, &quot;dashArray&quot;: null, &quot;dashOffset&quot;: null, &quot;fill&quot;: true, &quot;fillColor&quot;: &quot;blue&quot;, &quot;fillOpacity&quot;: 0.6, &quot;fillRule&quot;: &quot;evenodd&quot;, &quot;lineCap&quot;: &quot;round&quot;, &quot;lineJoin&quot;: &quot;round&quot;, &quot;opacity&quot;: 1.0, &quot;radius&quot;: 5, &quot;stroke&quot;: true, &quot;weight&quot;: 3}\n",
       "            ).addTo(map_13413ac0afeca95fd978dbf9a985e69f);\n",
       "        \n",
       "    \n",
       "        var popup_6050a05831c352011f2a78d1a84c9ca1 = L.popup({&quot;maxWidth&quot;: &quot;100%&quot;});\n",
       "\n",
       "        \n",
       "            \n",
       "                var html_8dc258bb8426038465744f0f7d86dff3 = $(`&lt;div id=&quot;html_8dc258bb8426038465744f0f7d86dff3&quot; style=&quot;width: 100.0%; height: 100.0%;&quot;&gt;City: El Paso&lt;br&gt;Number of Users: 1&lt;br&gt;&lt;/div&gt;`)[0];\n",
       "                popup_6050a05831c352011f2a78d1a84c9ca1.setContent(html_8dc258bb8426038465744f0f7d86dff3);\n",
       "            \n",
       "        \n",
       "\n",
       "        circle_marker_be73f58eaa857a9b7697a1177b40f47d.bindPopup(popup_6050a05831c352011f2a78d1a84c9ca1)\n",
       "        ;\n",
       "\n",
       "        \n",
       "    \n",
       "    \n",
       "            var circle_marker_da992c793e2a47dcf0e5180b51ed8219 = L.circleMarker(\n",
       "                [36.7394421, -119.78483],\n",
       "                {&quot;bubblingMouseEvents&quot;: true, &quot;color&quot;: &quot;blue&quot;, &quot;dashArray&quot;: null, &quot;dashOffset&quot;: null, &quot;fill&quot;: true, &quot;fillColor&quot;: &quot;blue&quot;, &quot;fillOpacity&quot;: 0.6, &quot;fillRule&quot;: &quot;evenodd&quot;, &quot;lineCap&quot;: &quot;round&quot;, &quot;lineJoin&quot;: &quot;round&quot;, &quot;opacity&quot;: 1.0, &quot;radius&quot;: 5, &quot;stroke&quot;: true, &quot;weight&quot;: 3}\n",
       "            ).addTo(map_13413ac0afeca95fd978dbf9a985e69f);\n",
       "        \n",
       "    \n",
       "        var popup_471d2caf0db909be9b7cc85c91d1c92f = L.popup({&quot;maxWidth&quot;: &quot;100%&quot;});\n",
       "\n",
       "        \n",
       "            \n",
       "                var html_2bdddc34540b7d2f0e9a5a925ee7e0ec = $(`&lt;div id=&quot;html_2bdddc34540b7d2f0e9a5a925ee7e0ec&quot; style=&quot;width: 100.0%; height: 100.0%;&quot;&gt;City: Fresno&lt;br&gt;Number of Users: 1&lt;br&gt;&lt;/div&gt;`)[0];\n",
       "                popup_471d2caf0db909be9b7cc85c91d1c92f.setContent(html_2bdddc34540b7d2f0e9a5a925ee7e0ec);\n",
       "            \n",
       "        \n",
       "\n",
       "        circle_marker_da992c793e2a47dcf0e5180b51ed8219.bindPopup(popup_471d2caf0db909be9b7cc85c91d1c92f)\n",
       "        ;\n",
       "\n",
       "        \n",
       "    \n",
       "    \n",
       "            var circle_marker_32db78150c2f26cf394d9361a0ccc53c = L.circleMarker(\n",
       "                [33.4151005, -111.831455],\n",
       "                {&quot;bubblingMouseEvents&quot;: true, &quot;color&quot;: &quot;blue&quot;, &quot;dashArray&quot;: null, &quot;dashOffset&quot;: null, &quot;fill&quot;: true, &quot;fillColor&quot;: &quot;blue&quot;, &quot;fillOpacity&quot;: 0.6, &quot;fillRule&quot;: &quot;evenodd&quot;, &quot;lineCap&quot;: &quot;round&quot;, &quot;lineJoin&quot;: &quot;round&quot;, &quot;opacity&quot;: 1.0, &quot;radius&quot;: 5, &quot;stroke&quot;: true, &quot;weight&quot;: 3}\n",
       "            ).addTo(map_13413ac0afeca95fd978dbf9a985e69f);\n",
       "        \n",
       "    \n",
       "        var popup_e4e506148bb2d0da778f75bbd58a94fb = L.popup({&quot;maxWidth&quot;: &quot;100%&quot;});\n",
       "\n",
       "        \n",
       "            \n",
       "                var html_d7c61dcc0ce83c406e0b160b3b8fbf64 = $(`&lt;div id=&quot;html_d7c61dcc0ce83c406e0b160b3b8fbf64&quot; style=&quot;width: 100.0%; height: 100.0%;&quot;&gt;City: Mesa&lt;br&gt;Number of Users: 1&lt;br&gt;&lt;/div&gt;`)[0];\n",
       "                popup_e4e506148bb2d0da778f75bbd58a94fb.setContent(html_d7c61dcc0ce83c406e0b160b3b8fbf64);\n",
       "            \n",
       "        \n",
       "\n",
       "        circle_marker_32db78150c2f26cf394d9361a0ccc53c.bindPopup(popup_e4e506148bb2d0da778f75bbd58a94fb)\n",
       "        ;\n",
       "\n",
       "        \n",
       "    \n",
       "    \n",
       "            var circle_marker_3c921e6ce39d9b9c6a268e17ed15ba7b = L.circleMarker(\n",
       "                [25.7741728, -80.19362],\n",
       "                {&quot;bubblingMouseEvents&quot;: true, &quot;color&quot;: &quot;blue&quot;, &quot;dashArray&quot;: null, &quot;dashOffset&quot;: null, &quot;fill&quot;: true, &quot;fillColor&quot;: &quot;blue&quot;, &quot;fillOpacity&quot;: 0.6, &quot;fillRule&quot;: &quot;evenodd&quot;, &quot;lineCap&quot;: &quot;round&quot;, &quot;lineJoin&quot;: &quot;round&quot;, &quot;opacity&quot;: 1.0, &quot;radius&quot;: 5, &quot;stroke&quot;: true, &quot;weight&quot;: 3}\n",
       "            ).addTo(map_13413ac0afeca95fd978dbf9a985e69f);\n",
       "        \n",
       "    \n",
       "        var popup_19dfdfe12d14bb02c4138664cad73b73 = L.popup({&quot;maxWidth&quot;: &quot;100%&quot;});\n",
       "\n",
       "        \n",
       "            \n",
       "                var html_497041b0985b8505a2e6fbbe64d364b3 = $(`&lt;div id=&quot;html_497041b0985b8505a2e6fbbe64d364b3&quot; style=&quot;width: 100.0%; height: 100.0%;&quot;&gt;City: Miami&lt;br&gt;Number of Users: 1&lt;br&gt;&lt;/div&gt;`)[0];\n",
       "                popup_19dfdfe12d14bb02c4138664cad73b73.setContent(html_497041b0985b8505a2e6fbbe64d364b3);\n",
       "            \n",
       "        \n",
       "\n",
       "        circle_marker_3c921e6ce39d9b9c6a268e17ed15ba7b.bindPopup(popup_19dfdfe12d14bb02c4138664cad73b73)\n",
       "        ;\n",
       "\n",
       "        \n",
       "    \n",
       "    \n",
       "            var circle_marker_bbbbb93e98b75d6ecf096e1532ac5ff5 = L.circleMarker(\n",
       "                [41.0799898, -85.1386015],\n",
       "                {&quot;bubblingMouseEvents&quot;: true, &quot;color&quot;: &quot;blue&quot;, &quot;dashArray&quot;: null, &quot;dashOffset&quot;: null, &quot;fill&quot;: true, &quot;fillColor&quot;: &quot;blue&quot;, &quot;fillOpacity&quot;: 0.6, &quot;fillRule&quot;: &quot;evenodd&quot;, &quot;lineCap&quot;: &quot;round&quot;, &quot;lineJoin&quot;: &quot;round&quot;, &quot;opacity&quot;: 1.0, &quot;radius&quot;: 5, &quot;stroke&quot;: true, &quot;weight&quot;: 3}\n",
       "            ).addTo(map_13413ac0afeca95fd978dbf9a985e69f);\n",
       "        \n",
       "    \n",
       "        var popup_7706fa31511cda59b89958ef23ee411b = L.popup({&quot;maxWidth&quot;: &quot;100%&quot;});\n",
       "\n",
       "        \n",
       "            \n",
       "                var html_08775e96d746a7e2034ffc5b01f42ca5 = $(`&lt;div id=&quot;html_08775e96d746a7e2034ffc5b01f42ca5&quot; style=&quot;width: 100.0%; height: 100.0%;&quot;&gt;City: Fort Wayne&lt;br&gt;Number of Users: 1&lt;br&gt;&lt;/div&gt;`)[0];\n",
       "                popup_7706fa31511cda59b89958ef23ee411b.setContent(html_08775e96d746a7e2034ffc5b01f42ca5);\n",
       "            \n",
       "        \n",
       "\n",
       "        circle_marker_bbbbb93e98b75d6ecf096e1532ac5ff5.bindPopup(popup_7706fa31511cda59b89958ef23ee411b)\n",
       "        ;\n",
       "\n",
       "        \n",
       "    \n",
       "&lt;/script&gt;\n",
       "&lt;/html&gt;\" style=\"position:absolute;width:100%;height:100%;left:0;top:0;border:none !important;\" allowfullscreen webkitallowfullscreen mozallowfullscreen></iframe></div></div>"
      ],
      "text/plain": [
       "<folium.folium.Map at 0x7fe0fae897f0>"
      ]
     },
     "execution_count": 237,
     "metadata": {},
     "output_type": "execute_result"
    }
   ],
   "source": [
    "# Contar o número de usuários por cidade\n",
    "city_counts = df1['city'].value_counts()\n",
    "\n",
    "# Criar o mapa centralizado na média das coordenadas das cidades\n",
    "map_center = [df1['lat'].mean(), df1['long'].mean()]\n",
    "bubble_map = folium.Map(location=map_center, zoom_start=4)\n",
    "\n",
    "# Definir um fator de escala para aumentar as bolhas\n",
    "scale_factor = 5\n",
    "\n",
    "# Adicionar bolhas proporcionais ao número de usuários\n",
    "for city, count in city_counts.items():\n",
    "    # Obter coordenadas da cidade\n",
    "    city_data = df1[df1['city'] == city].iloc[0]\n",
    "    location = [city_data['lat'], city_data['long']]\n",
    "    \n",
    "    # Adicionar bolha no mapa\n",
    "    folium.CircleMarker(\n",
    "        location=location,\n",
    "        radius=(count*scale_factor),  # Ajuste o divisor para tamanho adequado das bolhas\n",
    "        color='blue',\n",
    "        fill=True,\n",
    "        fill_color='blue',\n",
    "        fill_opacity=0.6,\n",
    "        popup=f\"City: {city}<br>Number of Users: {count}<br>\"\n",
    "    ).add_to(bubble_map)\n",
    "\n",
    "# Salvar e exibir o mapa\n",
    "bubble_map.save('img/users_bubble_map.html')\n",
    "\n",
    "bubble_map"
   ]
  },
  {
   "cell_type": "markdown",
   "metadata": {},
   "source": [
    "### Where is the most engaged user?"
   ]
  },
  {
   "cell_type": "code",
   "execution_count": 238,
   "metadata": {},
   "outputs": [
    {
     "name": "stdout",
     "output_type": "stream",
     "text": [
      "O usuário que fez mais compras (ID: 1) está na cidade: Kilcoole\n"
     ]
    }
   ],
   "source": [
    "# Passo 1: Encontrar o usuário que fez o maior número de compras\n",
    "# Somar o número total de compras por usuário\n",
    "user_purchase_counts = df_carts.groupby('userId')['num_products'].sum()\n",
    "\n",
    "# Encontrar o usuário com o maior número de compras\n",
    "top_user_id = user_purchase_counts.idxmax()\n",
    "top_user_purchases = user_purchase_counts.max()\n",
    "\n",
    "# Passo 2: Localizar a cidade desse usuário\n",
    "top_user_city = df_users[df_users['id'] == top_user_id]['city'].values[0]\n",
    "\n",
    "# Exibir o resultado\n",
    "print(f\"O usuário que fez mais compras (ID: {top_user_id}) está na cidade: {top_user_city}\")"
   ]
  },
  {
   "cell_type": "markdown",
   "metadata": {},
   "source": [
    "# **References**"
   ]
  },
  {
   "cell_type": "markdown",
   "metadata": {},
   "source": [
    "- **FakeStore API:** https://fakestoreapi.com/\n",
    "- **Nominatim usage policy:** https://operations.osmfoundation.org/policies/nominatim/"
   ]
  }
 ],
 "metadata": {
  "kernelspec": {
   "display_name": "base",
   "language": "python",
   "name": "python3"
  },
  "language_info": {
   "codemirror_mode": {
    "name": "ipython",
    "version": 3
   },
   "file_extension": ".py",
   "mimetype": "text/x-python",
   "name": "python",
   "nbconvert_exporter": "python",
   "pygments_lexer": "ipython3",
   "version": "3.12.2"
  }
 },
 "nbformat": 4,
 "nbformat_minor": 2
}
