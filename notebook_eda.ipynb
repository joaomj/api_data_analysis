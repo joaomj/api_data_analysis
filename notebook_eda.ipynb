{
 "cells": [
  {
   "cell_type": "markdown",
   "metadata": {},
   "source": [
    "# **Functions**"
   ]
  },
  {
   "cell_type": "code",
   "execution_count": 1,
   "metadata": {},
   "outputs": [],
   "source": [
    "# Função para obter os dados da API\n",
    "def get_data(url):\n",
    "    try:\n",
    "        # Fazendo a requisição GET\n",
    "        response = requests.get(url)\n",
    "        response.raise_for_status()  # Levanta um HTTPError para status de resposta de erro\n",
    "        # Convertendo a resposta em JSON\n",
    "        data = response.json()\n",
    "        # Carregando os dados em um DataFrame do pandas\n",
    "        df = pd.DataFrame(data)\n",
    "        return df\n",
    "    except requests.exceptions.HTTPError as http_err:\n",
    "        print(f\"HTTP error occurred: {http_err}\")\n",
    "    except Exception as err:\n",
    "        print(f\"Other error occurred: {err}\")\n",
    "    return None"
   ]
  },
  {
   "cell_type": "markdown",
   "metadata": {},
   "source": [
    "# **Libraries**"
   ]
  },
  {
   "cell_type": "code",
   "execution_count": 53,
   "metadata": {},
   "outputs": [],
   "source": [
    "import requests\n",
    "import pandas as pd\n",
    "import ast\n",
    "import seaborn as sns\n",
    "import matplotlib.pyplot as plt"
   ]
  },
  {
   "cell_type": "markdown",
   "metadata": {},
   "source": [
    "# **Loading Data**"
   ]
  },
  {
   "cell_type": "markdown",
   "metadata": {},
   "source": [
    "## Products"
   ]
  },
  {
   "cell_type": "code",
   "execution_count": 151,
   "metadata": {},
   "outputs": [
    {
     "data": {
      "text/html": [
       "<div>\n",
       "<style scoped>\n",
       "    .dataframe tbody tr th:only-of-type {\n",
       "        vertical-align: middle;\n",
       "    }\n",
       "\n",
       "    .dataframe tbody tr th {\n",
       "        vertical-align: top;\n",
       "    }\n",
       "\n",
       "    .dataframe thead th {\n",
       "        text-align: right;\n",
       "    }\n",
       "</style>\n",
       "<table border=\"1\" class=\"dataframe\">\n",
       "  <thead>\n",
       "    <tr style=\"text-align: right;\">\n",
       "      <th></th>\n",
       "      <th>id</th>\n",
       "      <th>title</th>\n",
       "      <th>price</th>\n",
       "      <th>description</th>\n",
       "      <th>category</th>\n",
       "      <th>image</th>\n",
       "      <th>rating</th>\n",
       "    </tr>\n",
       "  </thead>\n",
       "  <tbody>\n",
       "    <tr>\n",
       "      <th>0</th>\n",
       "      <td>1</td>\n",
       "      <td>Fjallraven - Foldsack No. 1 Backpack, Fits 15 ...</td>\n",
       "      <td>109.95</td>\n",
       "      <td>Your perfect pack for everyday use and walks i...</td>\n",
       "      <td>men's clothing</td>\n",
       "      <td>https://fakestoreapi.com/img/81fPKd-2AYL._AC_S...</td>\n",
       "      <td>{'rate': 3.9, 'count': 120}</td>\n",
       "    </tr>\n",
       "    <tr>\n",
       "      <th>1</th>\n",
       "      <td>2</td>\n",
       "      <td>Mens Casual Premium Slim Fit T-Shirts</td>\n",
       "      <td>22.30</td>\n",
       "      <td>Slim-fitting style, contrast raglan long sleev...</td>\n",
       "      <td>men's clothing</td>\n",
       "      <td>https://fakestoreapi.com/img/71-3HjGNDUL._AC_S...</td>\n",
       "      <td>{'rate': 4.1, 'count': 259}</td>\n",
       "    </tr>\n",
       "    <tr>\n",
       "      <th>2</th>\n",
       "      <td>3</td>\n",
       "      <td>Mens Cotton Jacket</td>\n",
       "      <td>55.99</td>\n",
       "      <td>great outerwear jackets for Spring/Autumn/Wint...</td>\n",
       "      <td>men's clothing</td>\n",
       "      <td>https://fakestoreapi.com/img/71li-ujtlUL._AC_U...</td>\n",
       "      <td>{'rate': 4.7, 'count': 500}</td>\n",
       "    </tr>\n",
       "    <tr>\n",
       "      <th>3</th>\n",
       "      <td>4</td>\n",
       "      <td>Mens Casual Slim Fit</td>\n",
       "      <td>15.99</td>\n",
       "      <td>The color could be slightly different between ...</td>\n",
       "      <td>men's clothing</td>\n",
       "      <td>https://fakestoreapi.com/img/71YXzeOuslL._AC_U...</td>\n",
       "      <td>{'rate': 2.1, 'count': 430}</td>\n",
       "    </tr>\n",
       "    <tr>\n",
       "      <th>4</th>\n",
       "      <td>5</td>\n",
       "      <td>John Hardy Women's Legends Naga Gold &amp; Silver ...</td>\n",
       "      <td>695.00</td>\n",
       "      <td>From our Legends Collection, the Naga was insp...</td>\n",
       "      <td>jewelery</td>\n",
       "      <td>https://fakestoreapi.com/img/71pWzhdJNwL._AC_U...</td>\n",
       "      <td>{'rate': 4.6, 'count': 400}</td>\n",
       "    </tr>\n",
       "  </tbody>\n",
       "</table>\n",
       "</div>"
      ],
      "text/plain": [
       "   id                                              title   price  \\\n",
       "0   1  Fjallraven - Foldsack No. 1 Backpack, Fits 15 ...  109.95   \n",
       "1   2             Mens Casual Premium Slim Fit T-Shirts    22.30   \n",
       "2   3                                 Mens Cotton Jacket   55.99   \n",
       "3   4                               Mens Casual Slim Fit   15.99   \n",
       "4   5  John Hardy Women's Legends Naga Gold & Silver ...  695.00   \n",
       "\n",
       "                                         description        category  \\\n",
       "0  Your perfect pack for everyday use and walks i...  men's clothing   \n",
       "1  Slim-fitting style, contrast raglan long sleev...  men's clothing   \n",
       "2  great outerwear jackets for Spring/Autumn/Wint...  men's clothing   \n",
       "3  The color could be slightly different between ...  men's clothing   \n",
       "4  From our Legends Collection, the Naga was insp...        jewelery   \n",
       "\n",
       "                                               image  \\\n",
       "0  https://fakestoreapi.com/img/81fPKd-2AYL._AC_S...   \n",
       "1  https://fakestoreapi.com/img/71-3HjGNDUL._AC_S...   \n",
       "2  https://fakestoreapi.com/img/71li-ujtlUL._AC_U...   \n",
       "3  https://fakestoreapi.com/img/71YXzeOuslL._AC_U...   \n",
       "4  https://fakestoreapi.com/img/71pWzhdJNwL._AC_U...   \n",
       "\n",
       "                        rating  \n",
       "0  {'rate': 3.9, 'count': 120}  \n",
       "1  {'rate': 4.1, 'count': 259}  \n",
       "2  {'rate': 4.7, 'count': 500}  \n",
       "3  {'rate': 2.1, 'count': 430}  \n",
       "4  {'rate': 4.6, 'count': 400}  "
      ]
     },
     "execution_count": 151,
     "metadata": {},
     "output_type": "execute_result"
    }
   ],
   "source": [
    "# URL da API para obter todos os produtos\n",
    "url_products = 'https://fakestoreapi.com/products'\n",
    "\n",
    "df_products = get_data(url_products)\n",
    "df_products.head()"
   ]
  },
  {
   "cell_type": "code",
   "execution_count": 152,
   "metadata": {},
   "outputs": [
    {
     "name": "stdout",
     "output_type": "stream",
     "text": [
      "<class 'pandas.core.frame.DataFrame'>\n",
      "RangeIndex: 20 entries, 0 to 19\n",
      "Data columns (total 7 columns):\n",
      " #   Column       Non-Null Count  Dtype  \n",
      "---  ------       --------------  -----  \n",
      " 0   id           20 non-null     int64  \n",
      " 1   title        20 non-null     object \n",
      " 2   price        20 non-null     float64\n",
      " 3   description  20 non-null     object \n",
      " 4   category     20 non-null     object \n",
      " 5   image        20 non-null     object \n",
      " 6   rating       20 non-null     object \n",
      "dtypes: float64(1), int64(1), object(5)\n",
      "memory usage: 1.2+ KB\n"
     ]
    }
   ],
   "source": [
    "df_products.info()"
   ]
  },
  {
   "cell_type": "code",
   "execution_count": 157,
   "metadata": {},
   "outputs": [
    {
     "name": "stdout",
     "output_type": "stream",
     "text": [
      "df_products salvo!\n"
     ]
    }
   ],
   "source": [
    "df_products.to_csv('data/df_products.csv')\n",
    "print('df_products salvo!')"
   ]
  },
  {
   "cell_type": "markdown",
   "metadata": {},
   "source": [
    "## Carts"
   ]
  },
  {
   "cell_type": "code",
   "execution_count": 153,
   "metadata": {},
   "outputs": [
    {
     "data": {
      "text/html": [
       "<div>\n",
       "<style scoped>\n",
       "    .dataframe tbody tr th:only-of-type {\n",
       "        vertical-align: middle;\n",
       "    }\n",
       "\n",
       "    .dataframe tbody tr th {\n",
       "        vertical-align: top;\n",
       "    }\n",
       "\n",
       "    .dataframe thead th {\n",
       "        text-align: right;\n",
       "    }\n",
       "</style>\n",
       "<table border=\"1\" class=\"dataframe\">\n",
       "  <thead>\n",
       "    <tr style=\"text-align: right;\">\n",
       "      <th></th>\n",
       "      <th>id</th>\n",
       "      <th>userId</th>\n",
       "      <th>date</th>\n",
       "      <th>products</th>\n",
       "      <th>__v</th>\n",
       "    </tr>\n",
       "  </thead>\n",
       "  <tbody>\n",
       "    <tr>\n",
       "      <th>0</th>\n",
       "      <td>1</td>\n",
       "      <td>1</td>\n",
       "      <td>2020-03-02T00:00:00.000Z</td>\n",
       "      <td>[{'productId': 1, 'quantity': 4}, {'productId'...</td>\n",
       "      <td>0</td>\n",
       "    </tr>\n",
       "    <tr>\n",
       "      <th>1</th>\n",
       "      <td>2</td>\n",
       "      <td>1</td>\n",
       "      <td>2020-01-02T00:00:00.000Z</td>\n",
       "      <td>[{'productId': 2, 'quantity': 4}, {'productId'...</td>\n",
       "      <td>0</td>\n",
       "    </tr>\n",
       "    <tr>\n",
       "      <th>2</th>\n",
       "      <td>3</td>\n",
       "      <td>2</td>\n",
       "      <td>2020-03-01T00:00:00.000Z</td>\n",
       "      <td>[{'productId': 1, 'quantity': 2}, {'productId'...</td>\n",
       "      <td>0</td>\n",
       "    </tr>\n",
       "    <tr>\n",
       "      <th>3</th>\n",
       "      <td>4</td>\n",
       "      <td>3</td>\n",
       "      <td>2020-01-01T00:00:00.000Z</td>\n",
       "      <td>[{'productId': 1, 'quantity': 4}]</td>\n",
       "      <td>0</td>\n",
       "    </tr>\n",
       "    <tr>\n",
       "      <th>4</th>\n",
       "      <td>5</td>\n",
       "      <td>3</td>\n",
       "      <td>2020-03-01T00:00:00.000Z</td>\n",
       "      <td>[{'productId': 7, 'quantity': 1}, {'productId'...</td>\n",
       "      <td>0</td>\n",
       "    </tr>\n",
       "  </tbody>\n",
       "</table>\n",
       "</div>"
      ],
      "text/plain": [
       "   id  userId                      date  \\\n",
       "0   1       1  2020-03-02T00:00:00.000Z   \n",
       "1   2       1  2020-01-02T00:00:00.000Z   \n",
       "2   3       2  2020-03-01T00:00:00.000Z   \n",
       "3   4       3  2020-01-01T00:00:00.000Z   \n",
       "4   5       3  2020-03-01T00:00:00.000Z   \n",
       "\n",
       "                                            products  __v  \n",
       "0  [{'productId': 1, 'quantity': 4}, {'productId'...    0  \n",
       "1  [{'productId': 2, 'quantity': 4}, {'productId'...    0  \n",
       "2  [{'productId': 1, 'quantity': 2}, {'productId'...    0  \n",
       "3                  [{'productId': 1, 'quantity': 4}]    0  \n",
       "4  [{'productId': 7, 'quantity': 1}, {'productId'...    0  "
      ]
     },
     "execution_count": 153,
     "metadata": {},
     "output_type": "execute_result"
    }
   ],
   "source": [
    "# URL da API para obter todos os carrinhos\n",
    "url_carts = 'https://fakestoreapi.com/carts'\n",
    "\n",
    "df_carts = get_data(url_carts)\n",
    "df_carts.head()"
   ]
  },
  {
   "cell_type": "code",
   "execution_count": 154,
   "metadata": {},
   "outputs": [
    {
     "name": "stdout",
     "output_type": "stream",
     "text": [
      "<class 'pandas.core.frame.DataFrame'>\n",
      "RangeIndex: 7 entries, 0 to 6\n",
      "Data columns (total 5 columns):\n",
      " #   Column    Non-Null Count  Dtype \n",
      "---  ------    --------------  ----- \n",
      " 0   id        7 non-null      int64 \n",
      " 1   userId    7 non-null      int64 \n",
      " 2   date      7 non-null      object\n",
      " 3   products  7 non-null      object\n",
      " 4   __v       7 non-null      int64 \n",
      "dtypes: int64(3), object(2)\n",
      "memory usage: 412.0+ bytes\n"
     ]
    }
   ],
   "source": [
    "df_carts.info()"
   ]
  },
  {
   "cell_type": "code",
   "execution_count": 158,
   "metadata": {},
   "outputs": [
    {
     "name": "stdout",
     "output_type": "stream",
     "text": [
      "df_carts salvo!\n"
     ]
    }
   ],
   "source": [
    "df_carts.to_csv('data/df_carts.csv')\n",
    "print('df_carts salvo!')"
   ]
  },
  {
   "cell_type": "markdown",
   "metadata": {},
   "source": [
    "## Users"
   ]
  },
  {
   "cell_type": "code",
   "execution_count": 155,
   "metadata": {},
   "outputs": [
    {
     "data": {
      "text/html": [
       "<div>\n",
       "<style scoped>\n",
       "    .dataframe tbody tr th:only-of-type {\n",
       "        vertical-align: middle;\n",
       "    }\n",
       "\n",
       "    .dataframe tbody tr th {\n",
       "        vertical-align: top;\n",
       "    }\n",
       "\n",
       "    .dataframe thead th {\n",
       "        text-align: right;\n",
       "    }\n",
       "</style>\n",
       "<table border=\"1\" class=\"dataframe\">\n",
       "  <thead>\n",
       "    <tr style=\"text-align: right;\">\n",
       "      <th></th>\n",
       "      <th>address</th>\n",
       "      <th>id</th>\n",
       "      <th>email</th>\n",
       "      <th>username</th>\n",
       "      <th>password</th>\n",
       "      <th>name</th>\n",
       "      <th>phone</th>\n",
       "      <th>__v</th>\n",
       "    </tr>\n",
       "  </thead>\n",
       "  <tbody>\n",
       "    <tr>\n",
       "      <th>0</th>\n",
       "      <td>{'geolocation': {'lat': '-37.3159', 'long': '8...</td>\n",
       "      <td>1</td>\n",
       "      <td>john@gmail.com</td>\n",
       "      <td>johnd</td>\n",
       "      <td>m38rmF$</td>\n",
       "      <td>{'firstname': 'john', 'lastname': 'doe'}</td>\n",
       "      <td>1-570-236-7033</td>\n",
       "      <td>0</td>\n",
       "    </tr>\n",
       "    <tr>\n",
       "      <th>1</th>\n",
       "      <td>{'geolocation': {'lat': '-37.3159', 'long': '8...</td>\n",
       "      <td>2</td>\n",
       "      <td>morrison@gmail.com</td>\n",
       "      <td>mor_2314</td>\n",
       "      <td>83r5^_</td>\n",
       "      <td>{'firstname': 'david', 'lastname': 'morrison'}</td>\n",
       "      <td>1-570-236-7033</td>\n",
       "      <td>0</td>\n",
       "    </tr>\n",
       "    <tr>\n",
       "      <th>2</th>\n",
       "      <td>{'geolocation': {'lat': '40.3467', 'long': '-3...</td>\n",
       "      <td>3</td>\n",
       "      <td>kevin@gmail.com</td>\n",
       "      <td>kevinryan</td>\n",
       "      <td>kev02937@</td>\n",
       "      <td>{'firstname': 'kevin', 'lastname': 'ryan'}</td>\n",
       "      <td>1-567-094-1345</td>\n",
       "      <td>0</td>\n",
       "    </tr>\n",
       "    <tr>\n",
       "      <th>3</th>\n",
       "      <td>{'geolocation': {'lat': '50.3467', 'long': '-2...</td>\n",
       "      <td>4</td>\n",
       "      <td>don@gmail.com</td>\n",
       "      <td>donero</td>\n",
       "      <td>ewedon</td>\n",
       "      <td>{'firstname': 'don', 'lastname': 'romer'}</td>\n",
       "      <td>1-765-789-6734</td>\n",
       "      <td>0</td>\n",
       "    </tr>\n",
       "    <tr>\n",
       "      <th>4</th>\n",
       "      <td>{'geolocation': {'lat': '40.3467', 'long': '-4...</td>\n",
       "      <td>5</td>\n",
       "      <td>derek@gmail.com</td>\n",
       "      <td>derek</td>\n",
       "      <td>jklg*_56</td>\n",
       "      <td>{'firstname': 'derek', 'lastname': 'powell'}</td>\n",
       "      <td>1-956-001-1945</td>\n",
       "      <td>0</td>\n",
       "    </tr>\n",
       "  </tbody>\n",
       "</table>\n",
       "</div>"
      ],
      "text/plain": [
       "                                             address  id               email  \\\n",
       "0  {'geolocation': {'lat': '-37.3159', 'long': '8...   1      john@gmail.com   \n",
       "1  {'geolocation': {'lat': '-37.3159', 'long': '8...   2  morrison@gmail.com   \n",
       "2  {'geolocation': {'lat': '40.3467', 'long': '-3...   3     kevin@gmail.com   \n",
       "3  {'geolocation': {'lat': '50.3467', 'long': '-2...   4       don@gmail.com   \n",
       "4  {'geolocation': {'lat': '40.3467', 'long': '-4...   5     derek@gmail.com   \n",
       "\n",
       "    username   password                                            name  \\\n",
       "0      johnd    m38rmF$        {'firstname': 'john', 'lastname': 'doe'}   \n",
       "1   mor_2314     83r5^_  {'firstname': 'david', 'lastname': 'morrison'}   \n",
       "2  kevinryan  kev02937@      {'firstname': 'kevin', 'lastname': 'ryan'}   \n",
       "3     donero     ewedon       {'firstname': 'don', 'lastname': 'romer'}   \n",
       "4      derek   jklg*_56    {'firstname': 'derek', 'lastname': 'powell'}   \n",
       "\n",
       "            phone  __v  \n",
       "0  1-570-236-7033    0  \n",
       "1  1-570-236-7033    0  \n",
       "2  1-567-094-1345    0  \n",
       "3  1-765-789-6734    0  \n",
       "4  1-956-001-1945    0  "
      ]
     },
     "execution_count": 155,
     "metadata": {},
     "output_type": "execute_result"
    }
   ],
   "source": [
    "url_users = 'https://fakestoreapi.com/users'\n",
    "df_users = get_data(url_users)\n",
    "df_users.head()"
   ]
  },
  {
   "cell_type": "code",
   "execution_count": 156,
   "metadata": {},
   "outputs": [
    {
     "name": "stdout",
     "output_type": "stream",
     "text": [
      "<class 'pandas.core.frame.DataFrame'>\n",
      "RangeIndex: 10 entries, 0 to 9\n",
      "Data columns (total 8 columns):\n",
      " #   Column    Non-Null Count  Dtype \n",
      "---  ------    --------------  ----- \n",
      " 0   address   10 non-null     object\n",
      " 1   id        10 non-null     int64 \n",
      " 2   email     10 non-null     object\n",
      " 3   username  10 non-null     object\n",
      " 4   password  10 non-null     object\n",
      " 5   name      10 non-null     object\n",
      " 6   phone     10 non-null     object\n",
      " 7   __v       10 non-null     int64 \n",
      "dtypes: int64(2), object(6)\n",
      "memory usage: 772.0+ bytes\n"
     ]
    }
   ],
   "source": [
    "df_users.info()"
   ]
  },
  {
   "cell_type": "code",
   "execution_count": 159,
   "metadata": {},
   "outputs": [
    {
     "name": "stdout",
     "output_type": "stream",
     "text": [
      "df_users salvo!\n"
     ]
    }
   ],
   "source": [
    "df_users.to_csv('data/df_users.csv')\n",
    "print('df_users salvo!')"
   ]
  },
  {
   "cell_type": "markdown",
   "metadata": {},
   "source": [
    "# **Data Cleaning**"
   ]
  },
  {
   "cell_type": "markdown",
   "metadata": {},
   "source": [
    "- Check column types (esp. datetime)\n",
    "- Check for nulls and duplicates\n",
    "- Split columns if necessary"
   ]
  },
  {
   "cell_type": "code",
   "execution_count": 12,
   "metadata": {},
   "outputs": [],
   "source": [
    "# Load saved data\n",
    "df_products = pd.read_csv('data/df_products.csv', index_col=0)\n",
    "df_carts = pd.read_csv('data/df_carts.csv', index_col=0)\n",
    "df_users = pd.read_csv('data/df_users.csv', index_col=0)"
   ]
  },
  {
   "cell_type": "markdown",
   "metadata": {},
   "source": [
    "## Data Cleaning - Products"
   ]
  },
  {
   "cell_type": "code",
   "execution_count": 13,
   "metadata": {},
   "outputs": [
    {
     "data": {
      "text/html": [
       "<div>\n",
       "<style scoped>\n",
       "    .dataframe tbody tr th:only-of-type {\n",
       "        vertical-align: middle;\n",
       "    }\n",
       "\n",
       "    .dataframe tbody tr th {\n",
       "        vertical-align: top;\n",
       "    }\n",
       "\n",
       "    .dataframe thead th {\n",
       "        text-align: right;\n",
       "    }\n",
       "</style>\n",
       "<table border=\"1\" class=\"dataframe\">\n",
       "  <thead>\n",
       "    <tr style=\"text-align: right;\">\n",
       "      <th></th>\n",
       "      <th>id</th>\n",
       "      <th>title</th>\n",
       "      <th>price</th>\n",
       "      <th>description</th>\n",
       "      <th>category</th>\n",
       "      <th>image</th>\n",
       "      <th>rating</th>\n",
       "    </tr>\n",
       "  </thead>\n",
       "  <tbody>\n",
       "    <tr>\n",
       "      <th>0</th>\n",
       "      <td>1</td>\n",
       "      <td>Fjallraven - Foldsack No. 1 Backpack, Fits 15 ...</td>\n",
       "      <td>109.95</td>\n",
       "      <td>Your perfect pack for everyday use and walks i...</td>\n",
       "      <td>men's clothing</td>\n",
       "      <td>https://fakestoreapi.com/img/81fPKd-2AYL._AC_S...</td>\n",
       "      <td>{'rate': 3.9, 'count': 120}</td>\n",
       "    </tr>\n",
       "    <tr>\n",
       "      <th>1</th>\n",
       "      <td>2</td>\n",
       "      <td>Mens Casual Premium Slim Fit T-Shirts</td>\n",
       "      <td>22.30</td>\n",
       "      <td>Slim-fitting style, contrast raglan long sleev...</td>\n",
       "      <td>men's clothing</td>\n",
       "      <td>https://fakestoreapi.com/img/71-3HjGNDUL._AC_S...</td>\n",
       "      <td>{'rate': 4.1, 'count': 259}</td>\n",
       "    </tr>\n",
       "    <tr>\n",
       "      <th>2</th>\n",
       "      <td>3</td>\n",
       "      <td>Mens Cotton Jacket</td>\n",
       "      <td>55.99</td>\n",
       "      <td>great outerwear jackets for Spring/Autumn/Wint...</td>\n",
       "      <td>men's clothing</td>\n",
       "      <td>https://fakestoreapi.com/img/71li-ujtlUL._AC_U...</td>\n",
       "      <td>{'rate': 4.7, 'count': 500}</td>\n",
       "    </tr>\n",
       "    <tr>\n",
       "      <th>3</th>\n",
       "      <td>4</td>\n",
       "      <td>Mens Casual Slim Fit</td>\n",
       "      <td>15.99</td>\n",
       "      <td>The color could be slightly different between ...</td>\n",
       "      <td>men's clothing</td>\n",
       "      <td>https://fakestoreapi.com/img/71YXzeOuslL._AC_U...</td>\n",
       "      <td>{'rate': 2.1, 'count': 430}</td>\n",
       "    </tr>\n",
       "    <tr>\n",
       "      <th>4</th>\n",
       "      <td>5</td>\n",
       "      <td>John Hardy Women's Legends Naga Gold &amp; Silver ...</td>\n",
       "      <td>695.00</td>\n",
       "      <td>From our Legends Collection, the Naga was insp...</td>\n",
       "      <td>jewelery</td>\n",
       "      <td>https://fakestoreapi.com/img/71pWzhdJNwL._AC_U...</td>\n",
       "      <td>{'rate': 4.6, 'count': 400}</td>\n",
       "    </tr>\n",
       "  </tbody>\n",
       "</table>\n",
       "</div>"
      ],
      "text/plain": [
       "   id                                              title   price  \\\n",
       "0   1  Fjallraven - Foldsack No. 1 Backpack, Fits 15 ...  109.95   \n",
       "1   2             Mens Casual Premium Slim Fit T-Shirts    22.30   \n",
       "2   3                                 Mens Cotton Jacket   55.99   \n",
       "3   4                               Mens Casual Slim Fit   15.99   \n",
       "4   5  John Hardy Women's Legends Naga Gold & Silver ...  695.00   \n",
       "\n",
       "                                         description        category  \\\n",
       "0  Your perfect pack for everyday use and walks i...  men's clothing   \n",
       "1  Slim-fitting style, contrast raglan long sleev...  men's clothing   \n",
       "2  great outerwear jackets for Spring/Autumn/Wint...  men's clothing   \n",
       "3  The color could be slightly different between ...  men's clothing   \n",
       "4  From our Legends Collection, the Naga was insp...        jewelery   \n",
       "\n",
       "                                               image  \\\n",
       "0  https://fakestoreapi.com/img/81fPKd-2AYL._AC_S...   \n",
       "1  https://fakestoreapi.com/img/71-3HjGNDUL._AC_S...   \n",
       "2  https://fakestoreapi.com/img/71li-ujtlUL._AC_U...   \n",
       "3  https://fakestoreapi.com/img/71YXzeOuslL._AC_U...   \n",
       "4  https://fakestoreapi.com/img/71pWzhdJNwL._AC_U...   \n",
       "\n",
       "                        rating  \n",
       "0  {'rate': 3.9, 'count': 120}  \n",
       "1  {'rate': 4.1, 'count': 259}  \n",
       "2  {'rate': 4.7, 'count': 500}  \n",
       "3  {'rate': 2.1, 'count': 430}  \n",
       "4  {'rate': 4.6, 'count': 400}  "
      ]
     },
     "execution_count": 13,
     "metadata": {},
     "output_type": "execute_result"
    }
   ],
   "source": [
    "df_products.head()"
   ]
  },
  {
   "cell_type": "markdown",
   "metadata": {},
   "source": [
    "### Checking column types"
   ]
  },
  {
   "cell_type": "code",
   "execution_count": 14,
   "metadata": {},
   "outputs": [
    {
     "data": {
      "text/plain": [
       "id               int64\n",
       "title           object\n",
       "price          float64\n",
       "description     object\n",
       "category        object\n",
       "image           object\n",
       "rating          object\n",
       "dtype: object"
      ]
     },
     "execution_count": 14,
     "metadata": {},
     "output_type": "execute_result"
    }
   ],
   "source": [
    "df_products.dtypes"
   ]
  },
  {
   "cell_type": "markdown",
   "metadata": {},
   "source": [
    "### Checking sizes"
   ]
  },
  {
   "cell_type": "code",
   "execution_count": 15,
   "metadata": {},
   "outputs": [
    {
     "name": "stdout",
     "output_type": "stream",
     "text": [
      "<class 'pandas.core.frame.DataFrame'>\n",
      "Index: 20 entries, 0 to 19\n",
      "Data columns (total 7 columns):\n",
      " #   Column       Non-Null Count  Dtype  \n",
      "---  ------       --------------  -----  \n",
      " 0   id           20 non-null     int64  \n",
      " 1   title        20 non-null     object \n",
      " 2   price        20 non-null     float64\n",
      " 3   description  20 non-null     object \n",
      " 4   category     20 non-null     object \n",
      " 5   image        20 non-null     object \n",
      " 6   rating       20 non-null     object \n",
      "dtypes: float64(1), int64(1), object(5)\n",
      "memory usage: 1.2+ KB\n"
     ]
    }
   ],
   "source": [
    "df_products.info()"
   ]
  },
  {
   "cell_type": "markdown",
   "metadata": {},
   "source": [
    "### Checking null values and duplicated rows"
   ]
  },
  {
   "cell_type": "code",
   "execution_count": 16,
   "metadata": {},
   "outputs": [
    {
     "data": {
      "text/plain": [
       "id             0\n",
       "title          0\n",
       "price          0\n",
       "description    0\n",
       "category       0\n",
       "image          0\n",
       "rating         0\n",
       "dtype: int64"
      ]
     },
     "execution_count": 16,
     "metadata": {},
     "output_type": "execute_result"
    }
   ],
   "source": [
    "df_products.isnull().sum()"
   ]
  },
  {
   "cell_type": "code",
   "execution_count": 17,
   "metadata": {},
   "outputs": [
    {
     "name": "stdout",
     "output_type": "stream",
     "text": [
      "O número de linhas duplicadas é: 0\n"
     ]
    }
   ],
   "source": [
    "print(f\"O número de linhas duplicadas é: {df_products.duplicated().sum()}\")"
   ]
  },
  {
   "cell_type": "markdown",
   "metadata": {},
   "source": [
    "### Split columns"
   ]
  },
  {
   "cell_type": "markdown",
   "metadata": {},
   "source": [
    "- split 'rating' column into 2 new columns: avg_rating and count_ratings\n",
    "- delete old 'rating' column\n",
    "- its easier to perform calculations with those 2 metrics separated."
   ]
  },
  {
   "cell_type": "code",
   "execution_count": 18,
   "metadata": {},
   "outputs": [
    {
     "data": {
      "text/html": [
       "<div>\n",
       "<style scoped>\n",
       "    .dataframe tbody tr th:only-of-type {\n",
       "        vertical-align: middle;\n",
       "    }\n",
       "\n",
       "    .dataframe tbody tr th {\n",
       "        vertical-align: top;\n",
       "    }\n",
       "\n",
       "    .dataframe thead th {\n",
       "        text-align: right;\n",
       "    }\n",
       "</style>\n",
       "<table border=\"1\" class=\"dataframe\">\n",
       "  <thead>\n",
       "    <tr style=\"text-align: right;\">\n",
       "      <th></th>\n",
       "      <th>id</th>\n",
       "      <th>title</th>\n",
       "      <th>price</th>\n",
       "      <th>description</th>\n",
       "      <th>category</th>\n",
       "      <th>image</th>\n",
       "      <th>avg_rating</th>\n",
       "      <th>count_ratings</th>\n",
       "    </tr>\n",
       "  </thead>\n",
       "  <tbody>\n",
       "    <tr>\n",
       "      <th>0</th>\n",
       "      <td>1</td>\n",
       "      <td>Fjallraven - Foldsack No. 1 Backpack, Fits 15 ...</td>\n",
       "      <td>109.95</td>\n",
       "      <td>Your perfect pack for everyday use and walks i...</td>\n",
       "      <td>men's clothing</td>\n",
       "      <td>https://fakestoreapi.com/img/81fPKd-2AYL._AC_S...</td>\n",
       "      <td>3.9</td>\n",
       "      <td>120</td>\n",
       "    </tr>\n",
       "    <tr>\n",
       "      <th>1</th>\n",
       "      <td>2</td>\n",
       "      <td>Mens Casual Premium Slim Fit T-Shirts</td>\n",
       "      <td>22.30</td>\n",
       "      <td>Slim-fitting style, contrast raglan long sleev...</td>\n",
       "      <td>men's clothing</td>\n",
       "      <td>https://fakestoreapi.com/img/71-3HjGNDUL._AC_S...</td>\n",
       "      <td>4.1</td>\n",
       "      <td>259</td>\n",
       "    </tr>\n",
       "    <tr>\n",
       "      <th>2</th>\n",
       "      <td>3</td>\n",
       "      <td>Mens Cotton Jacket</td>\n",
       "      <td>55.99</td>\n",
       "      <td>great outerwear jackets for Spring/Autumn/Wint...</td>\n",
       "      <td>men's clothing</td>\n",
       "      <td>https://fakestoreapi.com/img/71li-ujtlUL._AC_U...</td>\n",
       "      <td>4.7</td>\n",
       "      <td>500</td>\n",
       "    </tr>\n",
       "    <tr>\n",
       "      <th>3</th>\n",
       "      <td>4</td>\n",
       "      <td>Mens Casual Slim Fit</td>\n",
       "      <td>15.99</td>\n",
       "      <td>The color could be slightly different between ...</td>\n",
       "      <td>men's clothing</td>\n",
       "      <td>https://fakestoreapi.com/img/71YXzeOuslL._AC_U...</td>\n",
       "      <td>2.1</td>\n",
       "      <td>430</td>\n",
       "    </tr>\n",
       "    <tr>\n",
       "      <th>4</th>\n",
       "      <td>5</td>\n",
       "      <td>John Hardy Women's Legends Naga Gold &amp; Silver ...</td>\n",
       "      <td>695.00</td>\n",
       "      <td>From our Legends Collection, the Naga was insp...</td>\n",
       "      <td>jewelery</td>\n",
       "      <td>https://fakestoreapi.com/img/71pWzhdJNwL._AC_U...</td>\n",
       "      <td>4.6</td>\n",
       "      <td>400</td>\n",
       "    </tr>\n",
       "  </tbody>\n",
       "</table>\n",
       "</div>"
      ],
      "text/plain": [
       "   id                                              title   price  \\\n",
       "0   1  Fjallraven - Foldsack No. 1 Backpack, Fits 15 ...  109.95   \n",
       "1   2             Mens Casual Premium Slim Fit T-Shirts    22.30   \n",
       "2   3                                 Mens Cotton Jacket   55.99   \n",
       "3   4                               Mens Casual Slim Fit   15.99   \n",
       "4   5  John Hardy Women's Legends Naga Gold & Silver ...  695.00   \n",
       "\n",
       "                                         description        category  \\\n",
       "0  Your perfect pack for everyday use and walks i...  men's clothing   \n",
       "1  Slim-fitting style, contrast raglan long sleev...  men's clothing   \n",
       "2  great outerwear jackets for Spring/Autumn/Wint...  men's clothing   \n",
       "3  The color could be slightly different between ...  men's clothing   \n",
       "4  From our Legends Collection, the Naga was insp...        jewelery   \n",
       "\n",
       "                                               image  avg_rating  \\\n",
       "0  https://fakestoreapi.com/img/81fPKd-2AYL._AC_S...         3.9   \n",
       "1  https://fakestoreapi.com/img/71-3HjGNDUL._AC_S...         4.1   \n",
       "2  https://fakestoreapi.com/img/71li-ujtlUL._AC_U...         4.7   \n",
       "3  https://fakestoreapi.com/img/71YXzeOuslL._AC_U...         2.1   \n",
       "4  https://fakestoreapi.com/img/71pWzhdJNwL._AC_U...         4.6   \n",
       "\n",
       "   count_ratings  \n",
       "0            120  \n",
       "1            259  \n",
       "2            500  \n",
       "3            430  \n",
       "4            400  "
      ]
     },
     "execution_count": 18,
     "metadata": {},
     "output_type": "execute_result"
    }
   ],
   "source": [
    "# Garantindo que a coluna 'rating' seja convertida para dicionário p/poder aplicar lambda\n",
    "df_products['rating'] = df_products['rating'].apply(eval)\n",
    "\n",
    "# Extraindo valores da coluna 'rating' e criando novas colunas\n",
    "df_products['avg_rating'] = df_products['rating'].apply(lambda x: x['rate'])\n",
    "df_products['count_ratings'] = df_products['rating'].apply(lambda x: x['count'])\n",
    "\n",
    "# Removendo a coluna antiga 'rating'\n",
    "df_products = df_products.drop(columns=['rating'])\n",
    "\n",
    "# Exibindo as primeiras linhas do DataFrame para verificar\n",
    "df_products.head()"
   ]
  },
  {
   "cell_type": "markdown",
   "metadata": {},
   "source": [
    "### Saving cleaned dataset"
   ]
  },
  {
   "cell_type": "code",
   "execution_count": 19,
   "metadata": {},
   "outputs": [],
   "source": [
    "df_products.to_csv('data/df_products_cleaned.csv', index=False)"
   ]
  },
  {
   "cell_type": "markdown",
   "metadata": {},
   "source": [
    "## Data Cleaning - Carts"
   ]
  },
  {
   "cell_type": "code",
   "execution_count": 20,
   "metadata": {},
   "outputs": [
    {
     "data": {
      "text/html": [
       "<div>\n",
       "<style scoped>\n",
       "    .dataframe tbody tr th:only-of-type {\n",
       "        vertical-align: middle;\n",
       "    }\n",
       "\n",
       "    .dataframe tbody tr th {\n",
       "        vertical-align: top;\n",
       "    }\n",
       "\n",
       "    .dataframe thead th {\n",
       "        text-align: right;\n",
       "    }\n",
       "</style>\n",
       "<table border=\"1\" class=\"dataframe\">\n",
       "  <thead>\n",
       "    <tr style=\"text-align: right;\">\n",
       "      <th></th>\n",
       "      <th>id</th>\n",
       "      <th>userId</th>\n",
       "      <th>date</th>\n",
       "      <th>products</th>\n",
       "      <th>__v</th>\n",
       "    </tr>\n",
       "  </thead>\n",
       "  <tbody>\n",
       "    <tr>\n",
       "      <th>0</th>\n",
       "      <td>1</td>\n",
       "      <td>1</td>\n",
       "      <td>2020-03-02T00:00:00.000Z</td>\n",
       "      <td>[{'productId': 1, 'quantity': 4}, {'productId'...</td>\n",
       "      <td>0</td>\n",
       "    </tr>\n",
       "    <tr>\n",
       "      <th>1</th>\n",
       "      <td>2</td>\n",
       "      <td>1</td>\n",
       "      <td>2020-01-02T00:00:00.000Z</td>\n",
       "      <td>[{'productId': 2, 'quantity': 4}, {'productId'...</td>\n",
       "      <td>0</td>\n",
       "    </tr>\n",
       "    <tr>\n",
       "      <th>2</th>\n",
       "      <td>3</td>\n",
       "      <td>2</td>\n",
       "      <td>2020-03-01T00:00:00.000Z</td>\n",
       "      <td>[{'productId': 1, 'quantity': 2}, {'productId'...</td>\n",
       "      <td>0</td>\n",
       "    </tr>\n",
       "    <tr>\n",
       "      <th>3</th>\n",
       "      <td>4</td>\n",
       "      <td>3</td>\n",
       "      <td>2020-01-01T00:00:00.000Z</td>\n",
       "      <td>[{'productId': 1, 'quantity': 4}]</td>\n",
       "      <td>0</td>\n",
       "    </tr>\n",
       "    <tr>\n",
       "      <th>4</th>\n",
       "      <td>5</td>\n",
       "      <td>3</td>\n",
       "      <td>2020-03-01T00:00:00.000Z</td>\n",
       "      <td>[{'productId': 7, 'quantity': 1}, {'productId'...</td>\n",
       "      <td>0</td>\n",
       "    </tr>\n",
       "  </tbody>\n",
       "</table>\n",
       "</div>"
      ],
      "text/plain": [
       "   id  userId                      date  \\\n",
       "0   1       1  2020-03-02T00:00:00.000Z   \n",
       "1   2       1  2020-01-02T00:00:00.000Z   \n",
       "2   3       2  2020-03-01T00:00:00.000Z   \n",
       "3   4       3  2020-01-01T00:00:00.000Z   \n",
       "4   5       3  2020-03-01T00:00:00.000Z   \n",
       "\n",
       "                                            products  __v  \n",
       "0  [{'productId': 1, 'quantity': 4}, {'productId'...    0  \n",
       "1  [{'productId': 2, 'quantity': 4}, {'productId'...    0  \n",
       "2  [{'productId': 1, 'quantity': 2}, {'productId'...    0  \n",
       "3                  [{'productId': 1, 'quantity': 4}]    0  \n",
       "4  [{'productId': 7, 'quantity': 1}, {'productId'...    0  "
      ]
     },
     "execution_count": 20,
     "metadata": {},
     "output_type": "execute_result"
    }
   ],
   "source": [
    "df_carts.head()"
   ]
  },
  {
   "cell_type": "markdown",
   "metadata": {},
   "source": [
    "### Checking types"
   ]
  },
  {
   "cell_type": "code",
   "execution_count": 21,
   "metadata": {},
   "outputs": [
    {
     "data": {
      "text/plain": [
       "id           int64\n",
       "userId       int64\n",
       "date        object\n",
       "products    object\n",
       "__v          int64\n",
       "dtype: object"
      ]
     },
     "execution_count": 21,
     "metadata": {},
     "output_type": "execute_result"
    }
   ],
   "source": [
    "df_carts.dtypes"
   ]
  },
  {
   "cell_type": "code",
   "execution_count": 22,
   "metadata": {},
   "outputs": [],
   "source": [
    "# Alterando coluna 'date' para formato 'datetime'\n",
    "df_carts['date'] = pd.to_datetime(df_carts['date']).dt.strftime('%Y-%m-%d')"
   ]
  },
  {
   "cell_type": "markdown",
   "metadata": {},
   "source": [
    "### Checking null values and duplicated rows"
   ]
  },
  {
   "cell_type": "code",
   "execution_count": 23,
   "metadata": {},
   "outputs": [
    {
     "data": {
      "text/plain": [
       "id          0\n",
       "userId      0\n",
       "date        0\n",
       "products    0\n",
       "__v         0\n",
       "dtype: int64"
      ]
     },
     "execution_count": 23,
     "metadata": {},
     "output_type": "execute_result"
    }
   ],
   "source": [
    "# Contando valores nulos por coluna\n",
    "df_carts.isnull().sum()"
   ]
  },
  {
   "cell_type": "code",
   "execution_count": 24,
   "metadata": {},
   "outputs": [
    {
     "name": "stdout",
     "output_type": "stream",
     "text": [
      "O número de linhas duplicadas é: 0\n"
     ]
    }
   ],
   "source": [
    "print(f\"O número de linhas duplicadas é: {df_carts.duplicated().sum()}\")"
   ]
  },
  {
   "cell_type": "markdown",
   "metadata": {},
   "source": [
    "### Columns transformations"
   ]
  },
  {
   "cell_type": "code",
   "execution_count": 25,
   "metadata": {},
   "outputs": [
    {
     "data": {
      "text/plain": [
       "array([0])"
      ]
     },
     "execution_count": 25,
     "metadata": {},
     "output_type": "execute_result"
    }
   ],
   "source": [
    "# Verificando se a coluna '__v' tem algum valor diferente\n",
    "df_carts['__v'].unique()"
   ]
  },
  {
   "cell_type": "code",
   "execution_count": 26,
   "metadata": {},
   "outputs": [
    {
     "data": {
      "text/plain": [
       "Index(['id', 'userId', 'date', 'products'], dtype='object')"
      ]
     },
     "execution_count": 26,
     "metadata": {},
     "output_type": "execute_result"
    }
   ],
   "source": [
    "# Como ela não tem, será descartada\n",
    "df_carts.drop(columns='__v', inplace=True)\n",
    "df_carts.columns"
   ]
  },
  {
   "cell_type": "code",
   "execution_count": 27,
   "metadata": {},
   "outputs": [
    {
     "data": {
      "text/html": [
       "<div>\n",
       "<style scoped>\n",
       "    .dataframe tbody tr th:only-of-type {\n",
       "        vertical-align: middle;\n",
       "    }\n",
       "\n",
       "    .dataframe tbody tr th {\n",
       "        vertical-align: top;\n",
       "    }\n",
       "\n",
       "    .dataframe thead th {\n",
       "        text-align: right;\n",
       "    }\n",
       "</style>\n",
       "<table border=\"1\" class=\"dataframe\">\n",
       "  <thead>\n",
       "    <tr style=\"text-align: right;\">\n",
       "      <th></th>\n",
       "      <th>id</th>\n",
       "      <th>userId</th>\n",
       "      <th>date</th>\n",
       "      <th>product_1</th>\n",
       "      <th>product_2</th>\n",
       "      <th>product_3</th>\n",
       "      <th>product_4</th>\n",
       "      <th>product_5</th>\n",
       "      <th>product_6</th>\n",
       "      <th>product_7</th>\n",
       "      <th>...</th>\n",
       "      <th>product_11</th>\n",
       "      <th>product_12</th>\n",
       "      <th>product_13</th>\n",
       "      <th>product_14</th>\n",
       "      <th>product_15</th>\n",
       "      <th>product_16</th>\n",
       "      <th>product_17</th>\n",
       "      <th>product_18</th>\n",
       "      <th>product_19</th>\n",
       "      <th>product_20</th>\n",
       "    </tr>\n",
       "  </thead>\n",
       "  <tbody>\n",
       "    <tr>\n",
       "      <th>0</th>\n",
       "      <td>1</td>\n",
       "      <td>1</td>\n",
       "      <td>2020-03-02</td>\n",
       "      <td>4</td>\n",
       "      <td>1</td>\n",
       "      <td>6</td>\n",
       "      <td>0</td>\n",
       "      <td>0</td>\n",
       "      <td>0</td>\n",
       "      <td>0</td>\n",
       "      <td>...</td>\n",
       "      <td>0</td>\n",
       "      <td>0</td>\n",
       "      <td>0</td>\n",
       "      <td>0</td>\n",
       "      <td>0</td>\n",
       "      <td>0</td>\n",
       "      <td>0</td>\n",
       "      <td>0</td>\n",
       "      <td>0</td>\n",
       "      <td>0</td>\n",
       "    </tr>\n",
       "    <tr>\n",
       "      <th>1</th>\n",
       "      <td>2</td>\n",
       "      <td>1</td>\n",
       "      <td>2020-01-02</td>\n",
       "      <td>10</td>\n",
       "      <td>4</td>\n",
       "      <td>0</td>\n",
       "      <td>0</td>\n",
       "      <td>2</td>\n",
       "      <td>0</td>\n",
       "      <td>0</td>\n",
       "      <td>...</td>\n",
       "      <td>0</td>\n",
       "      <td>0</td>\n",
       "      <td>0</td>\n",
       "      <td>0</td>\n",
       "      <td>0</td>\n",
       "      <td>0</td>\n",
       "      <td>0</td>\n",
       "      <td>0</td>\n",
       "      <td>0</td>\n",
       "      <td>0</td>\n",
       "    </tr>\n",
       "    <tr>\n",
       "      <th>2</th>\n",
       "      <td>3</td>\n",
       "      <td>2</td>\n",
       "      <td>2020-03-01</td>\n",
       "      <td>2</td>\n",
       "      <td>0</td>\n",
       "      <td>0</td>\n",
       "      <td>0</td>\n",
       "      <td>0</td>\n",
       "      <td>0</td>\n",
       "      <td>0</td>\n",
       "      <td>...</td>\n",
       "      <td>0</td>\n",
       "      <td>0</td>\n",
       "      <td>0</td>\n",
       "      <td>0</td>\n",
       "      <td>0</td>\n",
       "      <td>0</td>\n",
       "      <td>0</td>\n",
       "      <td>0</td>\n",
       "      <td>0</td>\n",
       "      <td>0</td>\n",
       "    </tr>\n",
       "    <tr>\n",
       "      <th>3</th>\n",
       "      <td>4</td>\n",
       "      <td>3</td>\n",
       "      <td>2020-01-01</td>\n",
       "      <td>4</td>\n",
       "      <td>0</td>\n",
       "      <td>0</td>\n",
       "      <td>0</td>\n",
       "      <td>0</td>\n",
       "      <td>0</td>\n",
       "      <td>0</td>\n",
       "      <td>...</td>\n",
       "      <td>0</td>\n",
       "      <td>0</td>\n",
       "      <td>0</td>\n",
       "      <td>0</td>\n",
       "      <td>0</td>\n",
       "      <td>0</td>\n",
       "      <td>0</td>\n",
       "      <td>0</td>\n",
       "      <td>0</td>\n",
       "      <td>0</td>\n",
       "    </tr>\n",
       "    <tr>\n",
       "      <th>4</th>\n",
       "      <td>5</td>\n",
       "      <td>3</td>\n",
       "      <td>2020-03-01</td>\n",
       "      <td>0</td>\n",
       "      <td>0</td>\n",
       "      <td>0</td>\n",
       "      <td>0</td>\n",
       "      <td>0</td>\n",
       "      <td>0</td>\n",
       "      <td>1</td>\n",
       "      <td>...</td>\n",
       "      <td>0</td>\n",
       "      <td>0</td>\n",
       "      <td>0</td>\n",
       "      <td>0</td>\n",
       "      <td>0</td>\n",
       "      <td>0</td>\n",
       "      <td>0</td>\n",
       "      <td>0</td>\n",
       "      <td>0</td>\n",
       "      <td>0</td>\n",
       "    </tr>\n",
       "  </tbody>\n",
       "</table>\n",
       "<p>5 rows × 23 columns</p>\n",
       "</div>"
      ],
      "text/plain": [
       "   id  userId        date  product_1  product_2  product_3  product_4  \\\n",
       "0   1       1  2020-03-02          4          1          6          0   \n",
       "1   2       1  2020-01-02         10          4          0          0   \n",
       "2   3       2  2020-03-01          2          0          0          0   \n",
       "3   4       3  2020-01-01          4          0          0          0   \n",
       "4   5       3  2020-03-01          0          0          0          0   \n",
       "\n",
       "   product_5  product_6  product_7  ...  product_11  product_12  product_13  \\\n",
       "0          0          0          0  ...           0           0           0   \n",
       "1          2          0          0  ...           0           0           0   \n",
       "2          0          0          0  ...           0           0           0   \n",
       "3          0          0          0  ...           0           0           0   \n",
       "4          0          0          1  ...           0           0           0   \n",
       "\n",
       "   product_14  product_15  product_16  product_17  product_18  product_19  \\\n",
       "0           0           0           0           0           0           0   \n",
       "1           0           0           0           0           0           0   \n",
       "2           0           0           0           0           0           0   \n",
       "3           0           0           0           0           0           0   \n",
       "4           0           0           0           0           0           0   \n",
       "\n",
       "   product_20  \n",
       "0           0  \n",
       "1           0  \n",
       "2           0  \n",
       "3           0  \n",
       "4           0  \n",
       "\n",
       "[5 rows x 23 columns]"
      ]
     },
     "execution_count": 27,
     "metadata": {},
     "output_type": "execute_result"
    }
   ],
   "source": [
    "df1 = df_carts.copy()\n",
    "\n",
    "# Garantindo que a coluna 'products' seja convertida para listas de dicionários\n",
    "df1['products'] = df1['products'].apply(ast.literal_eval)\n",
    "\n",
    "# Criando colunas para cada produto de 1 a 20\n",
    "for product_id in range(1, 21):\n",
    "    df1[f'product_{product_id}'] = df1['products'].apply(\n",
    "        lambda products_list: sum(product['quantity'] for product in products_list if product['productId'] == product_id)\n",
    "    )\n",
    "\n",
    "# Removendo a coluna original 'products'\n",
    "df1 = df1.drop(columns=['products'])\n",
    "\n",
    "# Exibindo as primeiras linhas do DataFrame para verificar\n",
    "df1.head()"
   ]
  },
  {
   "cell_type": "markdown",
   "metadata": {},
   "source": [
    "### Saving cleaned dataset"
   ]
  },
  {
   "cell_type": "code",
   "execution_count": 28,
   "metadata": {},
   "outputs": [],
   "source": [
    "df1.to_csv('data/df_carts_cleaned.csv', index=False)"
   ]
  },
  {
   "cell_type": "markdown",
   "metadata": {},
   "source": [
    "## Data Cleaning - Users"
   ]
  },
  {
   "cell_type": "code",
   "execution_count": 29,
   "metadata": {},
   "outputs": [
    {
     "name": "stdout",
     "output_type": "stream",
     "text": [
      "<class 'pandas.core.frame.DataFrame'>\n",
      "Index: 10 entries, 0 to 9\n",
      "Data columns (total 8 columns):\n",
      " #   Column    Non-Null Count  Dtype \n",
      "---  ------    --------------  ----- \n",
      " 0   address   10 non-null     object\n",
      " 1   id        10 non-null     int64 \n",
      " 2   email     10 non-null     object\n",
      " 3   username  10 non-null     object\n",
      " 4   password  10 non-null     object\n",
      " 5   name      10 non-null     object\n",
      " 6   phone     10 non-null     object\n",
      " 7   __v       10 non-null     int64 \n",
      "dtypes: int64(2), object(6)\n",
      "memory usage: 720.0+ bytes\n"
     ]
    }
   ],
   "source": [
    "df_users.info()"
   ]
  },
  {
   "cell_type": "code",
   "execution_count": 30,
   "metadata": {},
   "outputs": [
    {
     "data": {
      "text/html": [
       "<div>\n",
       "<style scoped>\n",
       "    .dataframe tbody tr th:only-of-type {\n",
       "        vertical-align: middle;\n",
       "    }\n",
       "\n",
       "    .dataframe tbody tr th {\n",
       "        vertical-align: top;\n",
       "    }\n",
       "\n",
       "    .dataframe thead th {\n",
       "        text-align: right;\n",
       "    }\n",
       "</style>\n",
       "<table border=\"1\" class=\"dataframe\">\n",
       "  <thead>\n",
       "    <tr style=\"text-align: right;\">\n",
       "      <th></th>\n",
       "      <th>address</th>\n",
       "      <th>id</th>\n",
       "      <th>email</th>\n",
       "      <th>username</th>\n",
       "      <th>password</th>\n",
       "      <th>name</th>\n",
       "      <th>phone</th>\n",
       "      <th>__v</th>\n",
       "    </tr>\n",
       "  </thead>\n",
       "  <tbody>\n",
       "    <tr>\n",
       "      <th>0</th>\n",
       "      <td>{'geolocation': {'lat': '-37.3159', 'long': '8...</td>\n",
       "      <td>1</td>\n",
       "      <td>john@gmail.com</td>\n",
       "      <td>johnd</td>\n",
       "      <td>m38rmF$</td>\n",
       "      <td>{'firstname': 'john', 'lastname': 'doe'}</td>\n",
       "      <td>1-570-236-7033</td>\n",
       "      <td>0</td>\n",
       "    </tr>\n",
       "    <tr>\n",
       "      <th>1</th>\n",
       "      <td>{'geolocation': {'lat': '-37.3159', 'long': '8...</td>\n",
       "      <td>2</td>\n",
       "      <td>morrison@gmail.com</td>\n",
       "      <td>mor_2314</td>\n",
       "      <td>83r5^_</td>\n",
       "      <td>{'firstname': 'david', 'lastname': 'morrison'}</td>\n",
       "      <td>1-570-236-7033</td>\n",
       "      <td>0</td>\n",
       "    </tr>\n",
       "    <tr>\n",
       "      <th>2</th>\n",
       "      <td>{'geolocation': {'lat': '40.3467', 'long': '-3...</td>\n",
       "      <td>3</td>\n",
       "      <td>kevin@gmail.com</td>\n",
       "      <td>kevinryan</td>\n",
       "      <td>kev02937@</td>\n",
       "      <td>{'firstname': 'kevin', 'lastname': 'ryan'}</td>\n",
       "      <td>1-567-094-1345</td>\n",
       "      <td>0</td>\n",
       "    </tr>\n",
       "    <tr>\n",
       "      <th>3</th>\n",
       "      <td>{'geolocation': {'lat': '50.3467', 'long': '-2...</td>\n",
       "      <td>4</td>\n",
       "      <td>don@gmail.com</td>\n",
       "      <td>donero</td>\n",
       "      <td>ewedon</td>\n",
       "      <td>{'firstname': 'don', 'lastname': 'romer'}</td>\n",
       "      <td>1-765-789-6734</td>\n",
       "      <td>0</td>\n",
       "    </tr>\n",
       "    <tr>\n",
       "      <th>4</th>\n",
       "      <td>{'geolocation': {'lat': '40.3467', 'long': '-4...</td>\n",
       "      <td>5</td>\n",
       "      <td>derek@gmail.com</td>\n",
       "      <td>derek</td>\n",
       "      <td>jklg*_56</td>\n",
       "      <td>{'firstname': 'derek', 'lastname': 'powell'}</td>\n",
       "      <td>1-956-001-1945</td>\n",
       "      <td>0</td>\n",
       "    </tr>\n",
       "  </tbody>\n",
       "</table>\n",
       "</div>"
      ],
      "text/plain": [
       "                                             address  id               email  \\\n",
       "0  {'geolocation': {'lat': '-37.3159', 'long': '8...   1      john@gmail.com   \n",
       "1  {'geolocation': {'lat': '-37.3159', 'long': '8...   2  morrison@gmail.com   \n",
       "2  {'geolocation': {'lat': '40.3467', 'long': '-3...   3     kevin@gmail.com   \n",
       "3  {'geolocation': {'lat': '50.3467', 'long': '-2...   4       don@gmail.com   \n",
       "4  {'geolocation': {'lat': '40.3467', 'long': '-4...   5     derek@gmail.com   \n",
       "\n",
       "    username   password                                            name  \\\n",
       "0      johnd    m38rmF$        {'firstname': 'john', 'lastname': 'doe'}   \n",
       "1   mor_2314     83r5^_  {'firstname': 'david', 'lastname': 'morrison'}   \n",
       "2  kevinryan  kev02937@      {'firstname': 'kevin', 'lastname': 'ryan'}   \n",
       "3     donero     ewedon       {'firstname': 'don', 'lastname': 'romer'}   \n",
       "4      derek   jklg*_56    {'firstname': 'derek', 'lastname': 'powell'}   \n",
       "\n",
       "            phone  __v  \n",
       "0  1-570-236-7033    0  \n",
       "1  1-570-236-7033    0  \n",
       "2  1-567-094-1345    0  \n",
       "3  1-765-789-6734    0  \n",
       "4  1-956-001-1945    0  "
      ]
     },
     "execution_count": 30,
     "metadata": {},
     "output_type": "execute_result"
    }
   ],
   "source": [
    "df_users.head()"
   ]
  },
  {
   "cell_type": "markdown",
   "metadata": {},
   "source": [
    "### Checking types"
   ]
  },
  {
   "cell_type": "code",
   "execution_count": 31,
   "metadata": {},
   "outputs": [
    {
     "data": {
      "text/plain": [
       "address     object\n",
       "id           int64\n",
       "email       object\n",
       "username    object\n",
       "password    object\n",
       "name        object\n",
       "phone       object\n",
       "__v          int64\n",
       "dtype: object"
      ]
     },
     "execution_count": 31,
     "metadata": {},
     "output_type": "execute_result"
    }
   ],
   "source": [
    "df_users.dtypes"
   ]
  },
  {
   "cell_type": "markdown",
   "metadata": {},
   "source": [
    "### Checking null values and duplicated rows"
   ]
  },
  {
   "cell_type": "code",
   "execution_count": 32,
   "metadata": {},
   "outputs": [
    {
     "data": {
      "text/plain": [
       "address     0\n",
       "id          0\n",
       "email       0\n",
       "username    0\n",
       "password    0\n",
       "name        0\n",
       "phone       0\n",
       "__v         0\n",
       "dtype: int64"
      ]
     },
     "execution_count": 32,
     "metadata": {},
     "output_type": "execute_result"
    }
   ],
   "source": [
    "# Contando valores nulos por coluna\n",
    "df_users.isnull().sum()"
   ]
  },
  {
   "cell_type": "code",
   "execution_count": 33,
   "metadata": {},
   "outputs": [
    {
     "name": "stdout",
     "output_type": "stream",
     "text": [
      "O número de linhas duplicadas é: 0\n"
     ]
    }
   ],
   "source": [
    "print(f\"O número de linhas duplicadas é: {df_users.duplicated().sum()}\")"
   ]
  },
  {
   "cell_type": "markdown",
   "metadata": {},
   "source": [
    "### Column transformations"
   ]
  },
  {
   "cell_type": "markdown",
   "metadata": {},
   "source": [
    "- Split 'address' column to extract 'lat' and 'long' data, as well other geolocation data\n",
    "- Transform column 'name' to show only the complete name\n",
    "- Delete '__v' column"
   ]
  },
  {
   "cell_type": "code",
   "execution_count": 34,
   "metadata": {},
   "outputs": [
    {
     "data": {
      "text/html": [
       "<div>\n",
       "<style scoped>\n",
       "    .dataframe tbody tr th:only-of-type {\n",
       "        vertical-align: middle;\n",
       "    }\n",
       "\n",
       "    .dataframe tbody tr th {\n",
       "        vertical-align: top;\n",
       "    }\n",
       "\n",
       "    .dataframe thead th {\n",
       "        text-align: right;\n",
       "    }\n",
       "</style>\n",
       "<table border=\"1\" class=\"dataframe\">\n",
       "  <thead>\n",
       "    <tr style=\"text-align: right;\">\n",
       "      <th></th>\n",
       "      <th>id</th>\n",
       "      <th>email</th>\n",
       "      <th>username</th>\n",
       "      <th>password</th>\n",
       "      <th>name</th>\n",
       "      <th>phone</th>\n",
       "      <th>__v</th>\n",
       "      <th>lat</th>\n",
       "      <th>long</th>\n",
       "      <th>city</th>\n",
       "      <th>street</th>\n",
       "      <th>number</th>\n",
       "      <th>zipcode</th>\n",
       "    </tr>\n",
       "  </thead>\n",
       "  <tbody>\n",
       "    <tr>\n",
       "      <th>0</th>\n",
       "      <td>1</td>\n",
       "      <td>john@gmail.com</td>\n",
       "      <td>johnd</td>\n",
       "      <td>m38rmF$</td>\n",
       "      <td>{'firstname': 'john', 'lastname': 'doe'}</td>\n",
       "      <td>1-570-236-7033</td>\n",
       "      <td>0</td>\n",
       "      <td>-37.3159</td>\n",
       "      <td>81.1496</td>\n",
       "      <td>Kilcoole</td>\n",
       "      <td>New Road</td>\n",
       "      <td>7682</td>\n",
       "      <td>12926-3874</td>\n",
       "    </tr>\n",
       "    <tr>\n",
       "      <th>1</th>\n",
       "      <td>2</td>\n",
       "      <td>morrison@gmail.com</td>\n",
       "      <td>mor_2314</td>\n",
       "      <td>83r5^_</td>\n",
       "      <td>{'firstname': 'david', 'lastname': 'morrison'}</td>\n",
       "      <td>1-570-236-7033</td>\n",
       "      <td>0</td>\n",
       "      <td>-37.3159</td>\n",
       "      <td>81.1496</td>\n",
       "      <td>Kilcoole</td>\n",
       "      <td>Lovers Ln</td>\n",
       "      <td>7267</td>\n",
       "      <td>12926-3874</td>\n",
       "    </tr>\n",
       "    <tr>\n",
       "      <th>2</th>\n",
       "      <td>3</td>\n",
       "      <td>kevin@gmail.com</td>\n",
       "      <td>kevinryan</td>\n",
       "      <td>kev02937@</td>\n",
       "      <td>{'firstname': 'kevin', 'lastname': 'ryan'}</td>\n",
       "      <td>1-567-094-1345</td>\n",
       "      <td>0</td>\n",
       "      <td>40.3467</td>\n",
       "      <td>-30.1310</td>\n",
       "      <td>Cullman</td>\n",
       "      <td>Frances Ct</td>\n",
       "      <td>86</td>\n",
       "      <td>29567-1452</td>\n",
       "    </tr>\n",
       "    <tr>\n",
       "      <th>3</th>\n",
       "      <td>4</td>\n",
       "      <td>don@gmail.com</td>\n",
       "      <td>donero</td>\n",
       "      <td>ewedon</td>\n",
       "      <td>{'firstname': 'don', 'lastname': 'romer'}</td>\n",
       "      <td>1-765-789-6734</td>\n",
       "      <td>0</td>\n",
       "      <td>50.3467</td>\n",
       "      <td>-20.1310</td>\n",
       "      <td>San Antonio</td>\n",
       "      <td>Hunters Creek Dr</td>\n",
       "      <td>6454</td>\n",
       "      <td>98234-1734</td>\n",
       "    </tr>\n",
       "    <tr>\n",
       "      <th>4</th>\n",
       "      <td>5</td>\n",
       "      <td>derek@gmail.com</td>\n",
       "      <td>derek</td>\n",
       "      <td>jklg*_56</td>\n",
       "      <td>{'firstname': 'derek', 'lastname': 'powell'}</td>\n",
       "      <td>1-956-001-1945</td>\n",
       "      <td>0</td>\n",
       "      <td>40.3467</td>\n",
       "      <td>-40.1310</td>\n",
       "      <td>San Antonio</td>\n",
       "      <td>Adams St</td>\n",
       "      <td>245</td>\n",
       "      <td>80796-1234</td>\n",
       "    </tr>\n",
       "  </tbody>\n",
       "</table>\n",
       "</div>"
      ],
      "text/plain": [
       "   id               email   username   password  \\\n",
       "0   1      john@gmail.com      johnd    m38rmF$   \n",
       "1   2  morrison@gmail.com   mor_2314     83r5^_   \n",
       "2   3     kevin@gmail.com  kevinryan  kev02937@   \n",
       "3   4       don@gmail.com     donero     ewedon   \n",
       "4   5     derek@gmail.com      derek   jklg*_56   \n",
       "\n",
       "                                             name           phone  __v  \\\n",
       "0        {'firstname': 'john', 'lastname': 'doe'}  1-570-236-7033    0   \n",
       "1  {'firstname': 'david', 'lastname': 'morrison'}  1-570-236-7033    0   \n",
       "2      {'firstname': 'kevin', 'lastname': 'ryan'}  1-567-094-1345    0   \n",
       "3       {'firstname': 'don', 'lastname': 'romer'}  1-765-789-6734    0   \n",
       "4    {'firstname': 'derek', 'lastname': 'powell'}  1-956-001-1945    0   \n",
       "\n",
       "       lat     long         city            street  number     zipcode  \n",
       "0 -37.3159  81.1496     Kilcoole          New Road    7682  12926-3874  \n",
       "1 -37.3159  81.1496     Kilcoole         Lovers Ln    7267  12926-3874  \n",
       "2  40.3467 -30.1310      Cullman        Frances Ct      86  29567-1452  \n",
       "3  50.3467 -20.1310  San Antonio  Hunters Creek Dr    6454  98234-1734  \n",
       "4  40.3467 -40.1310  San Antonio          Adams St     245  80796-1234  "
      ]
     },
     "execution_count": 34,
     "metadata": {},
     "output_type": "execute_result"
    }
   ],
   "source": [
    "df1 = df_users.copy()\n",
    "\n",
    "# Convertendo a coluna 'address' de string para dicionário\n",
    "df1['address'] = df1['address'].apply(ast.literal_eval)\n",
    "\n",
    "# Extraindo e criando as novas colunas\n",
    "df1['lat'] = df1['address'].apply(lambda x: float(x['geolocation']['lat']))\n",
    "df1['long'] = df1['address'].apply(lambda x: float(x['geolocation']['long']))\n",
    "df1['city'] = df1['address'].apply(lambda x: x['city'])\n",
    "df1['street'] = df1['address'].apply(lambda x: x['street'])\n",
    "df1['number'] = df1['address'].apply(lambda x: int(x['number']))\n",
    "df1['zipcode'] = df1['address'].apply(lambda x: x['zipcode'])\n",
    "\n",
    "# Removendo a coluna original 'address'\n",
    "df1 = df1.drop(columns=['address'])\n",
    "\n",
    "# Ajustando as colunas 'city' e 'street' para ter a primeira letra de cada palavra em maiúscula\n",
    "df1['city'] = df1['city'].str.title()\n",
    "df1['street'] = df1['street'].str.title()\n",
    "\n",
    "# Exibindo as primeiras linhas do DataFrame para verificar\n",
    "df1.head()"
   ]
  },
  {
   "cell_type": "code",
   "execution_count": 35,
   "metadata": {},
   "outputs": [
    {
     "data": {
      "text/html": [
       "<div>\n",
       "<style scoped>\n",
       "    .dataframe tbody tr th:only-of-type {\n",
       "        vertical-align: middle;\n",
       "    }\n",
       "\n",
       "    .dataframe tbody tr th {\n",
       "        vertical-align: top;\n",
       "    }\n",
       "\n",
       "    .dataframe thead th {\n",
       "        text-align: right;\n",
       "    }\n",
       "</style>\n",
       "<table border=\"1\" class=\"dataframe\">\n",
       "  <thead>\n",
       "    <tr style=\"text-align: right;\">\n",
       "      <th></th>\n",
       "      <th>id</th>\n",
       "      <th>email</th>\n",
       "      <th>username</th>\n",
       "      <th>password</th>\n",
       "      <th>name</th>\n",
       "      <th>phone</th>\n",
       "      <th>__v</th>\n",
       "      <th>lat</th>\n",
       "      <th>long</th>\n",
       "      <th>city</th>\n",
       "      <th>street</th>\n",
       "      <th>number</th>\n",
       "      <th>zipcode</th>\n",
       "    </tr>\n",
       "  </thead>\n",
       "  <tbody>\n",
       "    <tr>\n",
       "      <th>0</th>\n",
       "      <td>1</td>\n",
       "      <td>john@gmail.com</td>\n",
       "      <td>johnd</td>\n",
       "      <td>m38rmF$</td>\n",
       "      <td>John Doe</td>\n",
       "      <td>1-570-236-7033</td>\n",
       "      <td>0</td>\n",
       "      <td>-37.3159</td>\n",
       "      <td>81.1496</td>\n",
       "      <td>Kilcoole</td>\n",
       "      <td>New Road</td>\n",
       "      <td>7682</td>\n",
       "      <td>12926-3874</td>\n",
       "    </tr>\n",
       "    <tr>\n",
       "      <th>1</th>\n",
       "      <td>2</td>\n",
       "      <td>morrison@gmail.com</td>\n",
       "      <td>mor_2314</td>\n",
       "      <td>83r5^_</td>\n",
       "      <td>David Morrison</td>\n",
       "      <td>1-570-236-7033</td>\n",
       "      <td>0</td>\n",
       "      <td>-37.3159</td>\n",
       "      <td>81.1496</td>\n",
       "      <td>Kilcoole</td>\n",
       "      <td>Lovers Ln</td>\n",
       "      <td>7267</td>\n",
       "      <td>12926-3874</td>\n",
       "    </tr>\n",
       "    <tr>\n",
       "      <th>2</th>\n",
       "      <td>3</td>\n",
       "      <td>kevin@gmail.com</td>\n",
       "      <td>kevinryan</td>\n",
       "      <td>kev02937@</td>\n",
       "      <td>Kevin Ryan</td>\n",
       "      <td>1-567-094-1345</td>\n",
       "      <td>0</td>\n",
       "      <td>40.3467</td>\n",
       "      <td>-30.1310</td>\n",
       "      <td>Cullman</td>\n",
       "      <td>Frances Ct</td>\n",
       "      <td>86</td>\n",
       "      <td>29567-1452</td>\n",
       "    </tr>\n",
       "    <tr>\n",
       "      <th>3</th>\n",
       "      <td>4</td>\n",
       "      <td>don@gmail.com</td>\n",
       "      <td>donero</td>\n",
       "      <td>ewedon</td>\n",
       "      <td>Don Romer</td>\n",
       "      <td>1-765-789-6734</td>\n",
       "      <td>0</td>\n",
       "      <td>50.3467</td>\n",
       "      <td>-20.1310</td>\n",
       "      <td>San Antonio</td>\n",
       "      <td>Hunters Creek Dr</td>\n",
       "      <td>6454</td>\n",
       "      <td>98234-1734</td>\n",
       "    </tr>\n",
       "    <tr>\n",
       "      <th>4</th>\n",
       "      <td>5</td>\n",
       "      <td>derek@gmail.com</td>\n",
       "      <td>derek</td>\n",
       "      <td>jklg*_56</td>\n",
       "      <td>Derek Powell</td>\n",
       "      <td>1-956-001-1945</td>\n",
       "      <td>0</td>\n",
       "      <td>40.3467</td>\n",
       "      <td>-40.1310</td>\n",
       "      <td>San Antonio</td>\n",
       "      <td>Adams St</td>\n",
       "      <td>245</td>\n",
       "      <td>80796-1234</td>\n",
       "    </tr>\n",
       "  </tbody>\n",
       "</table>\n",
       "</div>"
      ],
      "text/plain": [
       "   id               email   username   password            name  \\\n",
       "0   1      john@gmail.com      johnd    m38rmF$        John Doe   \n",
       "1   2  morrison@gmail.com   mor_2314     83r5^_  David Morrison   \n",
       "2   3     kevin@gmail.com  kevinryan  kev02937@      Kevin Ryan   \n",
       "3   4       don@gmail.com     donero     ewedon       Don Romer   \n",
       "4   5     derek@gmail.com      derek   jklg*_56    Derek Powell   \n",
       "\n",
       "            phone  __v      lat     long         city            street  \\\n",
       "0  1-570-236-7033    0 -37.3159  81.1496     Kilcoole          New Road   \n",
       "1  1-570-236-7033    0 -37.3159  81.1496     Kilcoole         Lovers Ln   \n",
       "2  1-567-094-1345    0  40.3467 -30.1310      Cullman        Frances Ct   \n",
       "3  1-765-789-6734    0  50.3467 -20.1310  San Antonio  Hunters Creek Dr   \n",
       "4  1-956-001-1945    0  40.3467 -40.1310  San Antonio          Adams St   \n",
       "\n",
       "   number     zipcode  \n",
       "0    7682  12926-3874  \n",
       "1    7267  12926-3874  \n",
       "2      86  29567-1452  \n",
       "3    6454  98234-1734  \n",
       "4     245  80796-1234  "
      ]
     },
     "execution_count": 35,
     "metadata": {},
     "output_type": "execute_result"
    }
   ],
   "source": [
    "# Deixando apenas o nome completo na coluna 'name'\n",
    "df1['name'] = df1['name'].apply(lambda x: f\"{eval(x)['firstname'].title()} {eval(x)['lastname'].title()}\")\n",
    "df1.head()"
   ]
  },
  {
   "cell_type": "code",
   "execution_count": 36,
   "metadata": {},
   "outputs": [],
   "source": [
    "# Removendo a coluna '__v'\n",
    "df1.drop(columns='__v', inplace=True)\n",
    "\n",
    "# Mudando a ordem das colunas no dataset\n",
    "df1 = df1[['id', 'name', 'phone', 'lat', 'long', 'city', 'street', 'number', 'zipcode', 'email', 'username', 'password']]"
   ]
  },
  {
   "cell_type": "code",
   "execution_count": 37,
   "metadata": {},
   "outputs": [
    {
     "data": {
      "text/html": [
       "<div>\n",
       "<style scoped>\n",
       "    .dataframe tbody tr th:only-of-type {\n",
       "        vertical-align: middle;\n",
       "    }\n",
       "\n",
       "    .dataframe tbody tr th {\n",
       "        vertical-align: top;\n",
       "    }\n",
       "\n",
       "    .dataframe thead th {\n",
       "        text-align: right;\n",
       "    }\n",
       "</style>\n",
       "<table border=\"1\" class=\"dataframe\">\n",
       "  <thead>\n",
       "    <tr style=\"text-align: right;\">\n",
       "      <th></th>\n",
       "      <th>id</th>\n",
       "      <th>name</th>\n",
       "      <th>phone</th>\n",
       "      <th>lat</th>\n",
       "      <th>long</th>\n",
       "      <th>city</th>\n",
       "      <th>street</th>\n",
       "      <th>number</th>\n",
       "      <th>zipcode</th>\n",
       "      <th>email</th>\n",
       "      <th>username</th>\n",
       "      <th>password</th>\n",
       "    </tr>\n",
       "  </thead>\n",
       "  <tbody>\n",
       "    <tr>\n",
       "      <th>0</th>\n",
       "      <td>1</td>\n",
       "      <td>John Doe</td>\n",
       "      <td>1-570-236-7033</td>\n",
       "      <td>-37.3159</td>\n",
       "      <td>81.1496</td>\n",
       "      <td>Kilcoole</td>\n",
       "      <td>New Road</td>\n",
       "      <td>7682</td>\n",
       "      <td>12926-3874</td>\n",
       "      <td>john@gmail.com</td>\n",
       "      <td>johnd</td>\n",
       "      <td>m38rmF$</td>\n",
       "    </tr>\n",
       "    <tr>\n",
       "      <th>1</th>\n",
       "      <td>2</td>\n",
       "      <td>David Morrison</td>\n",
       "      <td>1-570-236-7033</td>\n",
       "      <td>-37.3159</td>\n",
       "      <td>81.1496</td>\n",
       "      <td>Kilcoole</td>\n",
       "      <td>Lovers Ln</td>\n",
       "      <td>7267</td>\n",
       "      <td>12926-3874</td>\n",
       "      <td>morrison@gmail.com</td>\n",
       "      <td>mor_2314</td>\n",
       "      <td>83r5^_</td>\n",
       "    </tr>\n",
       "    <tr>\n",
       "      <th>2</th>\n",
       "      <td>3</td>\n",
       "      <td>Kevin Ryan</td>\n",
       "      <td>1-567-094-1345</td>\n",
       "      <td>40.3467</td>\n",
       "      <td>-30.1310</td>\n",
       "      <td>Cullman</td>\n",
       "      <td>Frances Ct</td>\n",
       "      <td>86</td>\n",
       "      <td>29567-1452</td>\n",
       "      <td>kevin@gmail.com</td>\n",
       "      <td>kevinryan</td>\n",
       "      <td>kev02937@</td>\n",
       "    </tr>\n",
       "    <tr>\n",
       "      <th>3</th>\n",
       "      <td>4</td>\n",
       "      <td>Don Romer</td>\n",
       "      <td>1-765-789-6734</td>\n",
       "      <td>50.3467</td>\n",
       "      <td>-20.1310</td>\n",
       "      <td>San Antonio</td>\n",
       "      <td>Hunters Creek Dr</td>\n",
       "      <td>6454</td>\n",
       "      <td>98234-1734</td>\n",
       "      <td>don@gmail.com</td>\n",
       "      <td>donero</td>\n",
       "      <td>ewedon</td>\n",
       "    </tr>\n",
       "    <tr>\n",
       "      <th>4</th>\n",
       "      <td>5</td>\n",
       "      <td>Derek Powell</td>\n",
       "      <td>1-956-001-1945</td>\n",
       "      <td>40.3467</td>\n",
       "      <td>-40.1310</td>\n",
       "      <td>San Antonio</td>\n",
       "      <td>Adams St</td>\n",
       "      <td>245</td>\n",
       "      <td>80796-1234</td>\n",
       "      <td>derek@gmail.com</td>\n",
       "      <td>derek</td>\n",
       "      <td>jklg*_56</td>\n",
       "    </tr>\n",
       "  </tbody>\n",
       "</table>\n",
       "</div>"
      ],
      "text/plain": [
       "   id            name           phone      lat     long         city  \\\n",
       "0   1        John Doe  1-570-236-7033 -37.3159  81.1496     Kilcoole   \n",
       "1   2  David Morrison  1-570-236-7033 -37.3159  81.1496     Kilcoole   \n",
       "2   3      Kevin Ryan  1-567-094-1345  40.3467 -30.1310      Cullman   \n",
       "3   4       Don Romer  1-765-789-6734  50.3467 -20.1310  San Antonio   \n",
       "4   5    Derek Powell  1-956-001-1945  40.3467 -40.1310  San Antonio   \n",
       "\n",
       "             street  number     zipcode               email   username  \\\n",
       "0          New Road    7682  12926-3874      john@gmail.com      johnd   \n",
       "1         Lovers Ln    7267  12926-3874  morrison@gmail.com   mor_2314   \n",
       "2        Frances Ct      86  29567-1452     kevin@gmail.com  kevinryan   \n",
       "3  Hunters Creek Dr    6454  98234-1734       don@gmail.com     donero   \n",
       "4          Adams St     245  80796-1234     derek@gmail.com      derek   \n",
       "\n",
       "    password  \n",
       "0    m38rmF$  \n",
       "1     83r5^_  \n",
       "2  kev02937@  \n",
       "3     ewedon  \n",
       "4   jklg*_56  "
      ]
     },
     "execution_count": 37,
     "metadata": {},
     "output_type": "execute_result"
    }
   ],
   "source": [
    "df1.head()"
   ]
  },
  {
   "cell_type": "markdown",
   "metadata": {},
   "source": [
    "### Saving cleaned dataset"
   ]
  },
  {
   "cell_type": "code",
   "execution_count": 38,
   "metadata": {},
   "outputs": [],
   "source": [
    "df1.to_csv('data/df_users_cleaned.csv', index=False)"
   ]
  },
  {
   "cell_type": "markdown",
   "metadata": {},
   "source": [
    "# **Exploratory Data Analysis** (EDA)"
   ]
  },
  {
   "cell_type": "markdown",
   "metadata": {},
   "source": [
    "*Realizar uma análise exploratória dos dados para descobrir padrões, tendências, e informações úteis. Isso deve incluir o uso de estatísticas descritivas e a criação de visualizações como gráficos de barras, linhas, e possivelmente mapas, se os dados incluírem informações geográficas.*"
   ]
  },
  {
   "cell_type": "markdown",
   "metadata": {},
   "source": [
    "## Load cleaned data"
   ]
  },
  {
   "cell_type": "code",
   "execution_count": 42,
   "metadata": {},
   "outputs": [],
   "source": [
    "df_products = pd.read_csv('data/df_products_cleaned.csv')\n",
    "df_carts = pd.read_csv('data/df_carts_cleaned.csv')\n",
    "df_users = pd.read_csv('data/df_users_cleaned.csv')"
   ]
  },
  {
   "cell_type": "markdown",
   "metadata": {},
   "source": [
    "## Descritive Statistics"
   ]
  },
  {
   "cell_type": "code",
   "execution_count": 52,
   "metadata": {},
   "outputs": [
    {
     "name": "stdout",
     "output_type": "stream",
     "text": [
      "Estatísticas Descritivas de Products: \n",
      "        price  avg_rating  count_ratings\n",
      "count   20.00       20.00          20.00\n",
      "mean   162.05        3.56         286.80\n",
      "std    272.22        0.96         162.75\n",
      "min      7.95        1.90          70.00\n",
      "25%     15.24        2.90         143.75\n",
      "50%     56.49        3.70         254.50\n",
      "75%    110.96        4.53         400.00\n",
      "max    999.99        4.80         679.00\n",
      "\n",
      "Estatísticas Descritivas de Carts:\n",
      "         id  userId  product_1  product_2  product_3  product_4  product_5  \\\n",
      "count  7.00    7.00       7.00       7.00       7.00        7.0       7.00   \n",
      "mean   4.00    3.14       2.86       0.71       0.86        0.0       0.29   \n",
      "std    2.16    2.41       3.63       1.50       2.27        0.0       0.76   \n",
      "min    1.00    1.00       0.00       0.00       0.00        0.0       0.00   \n",
      "25%    2.50    1.50       0.00       0.00       0.00        0.0       0.00   \n",
      "50%    4.00    3.00       2.00       0.00       0.00        0.0       0.00   \n",
      "75%    5.50    3.50       4.00       0.50       0.00        0.0       0.00   \n",
      "max    7.00    8.00      10.00       4.00       6.00        0.0       2.00   \n",
      "\n",
      "       product_6  product_7  product_8  ...  product_11  product_12  \\\n",
      "count        7.0       7.00       7.00  ...         7.0        7.00   \n",
      "mean         0.0       0.14       0.14  ...         0.0        0.43   \n",
      "std          0.0       0.38       0.38  ...         0.0        1.13   \n",
      "min          0.0       0.00       0.00  ...         0.0        0.00   \n",
      "25%          0.0       0.00       0.00  ...         0.0        0.00   \n",
      "50%          0.0       0.00       0.00  ...         0.0        0.00   \n",
      "75%          0.0       0.00       0.00  ...         0.0        0.00   \n",
      "max          0.0       1.00       1.00  ...         0.0        3.00   \n",
      "\n",
      "       product_13  product_14  product_15  product_16  product_17  product_18  \\\n",
      "count         7.0         7.0         7.0         7.0         7.0        7.00   \n",
      "mean          0.0         0.0         0.0         0.0         0.0        0.14   \n",
      "std           0.0         0.0         0.0         0.0         0.0        0.38   \n",
      "min           0.0         0.0         0.0         0.0         0.0        0.00   \n",
      "25%           0.0         0.0         0.0         0.0         0.0        0.00   \n",
      "50%           0.0         0.0         0.0         0.0         0.0        0.00   \n",
      "75%           0.0         0.0         0.0         0.0         0.0        0.00   \n",
      "max           0.0         0.0         0.0         0.0         0.0        1.00   \n",
      "\n",
      "       product_19  product_20  \n",
      "count         7.0         7.0  \n",
      "mean          0.0         0.0  \n",
      "std           0.0         0.0  \n",
      "min           0.0         0.0  \n",
      "25%           0.0         0.0  \n",
      "50%           0.0         0.0  \n",
      "75%           0.0         0.0  \n",
      "max           0.0         0.0  \n",
      "\n",
      "[8 rows x 22 columns]\n",
      "\n",
      "Estatísticas Descritivas de Users:\n",
      "          id    lat   long   number\n",
      "count  10.00  10.00  10.00    10.00\n",
      "mean    5.50  20.76   9.25  2541.30\n",
      "std     3.03  33.06  43.12  3214.12\n",
      "min     1.00 -37.32 -40.13    86.00\n",
      "25%     3.25  12.80 -20.44   270.00\n",
      "50%     5.50  35.19  -0.02   934.00\n",
      "75%     7.75  40.35  20.62  5176.00\n",
      "max    10.00  50.35  81.15  7682.00\n"
     ]
    }
   ],
   "source": [
    "# Estatística Descritiva das variáveis numéricas\n",
    "print('Estatísticas Descritivas de Products: ')\n",
    "print(df_products[['price', 'avg_rating', 'count_ratings']].describe().round(2))\n",
    "\n",
    "print('\\nEstatísticas Descritivas de Carts:')\n",
    "print(df_carts.describe().round(2))\n",
    "\n",
    "print('\\nEstatísticas Descritivas de Users:')\n",
    "print(df_users.describe().round(2))"
   ]
  },
  {
   "cell_type": "markdown",
   "metadata": {},
   "source": [
    "## Products Analysis"
   ]
  },
  {
   "cell_type": "markdown",
   "metadata": {},
   "source": [
    "- Price distribution\n",
    "- What is the product with highest price? And lowest?\n",
    "- What is the median price? And the median price per category?\n",
    "- Ratings distribution\n",
    "- What is the production with highest ratings? And lowest?\n",
    "- What is the median rating of all products? And per category?\n",
    "- What is the producs with most ratings? And with lowest ratings?"
   ]
  },
  {
   "cell_type": "markdown",
   "metadata": {},
   "source": [
    "### Prices and Ratings Distribution"
   ]
  },
  {
   "cell_type": "code",
   "execution_count": 98,
   "metadata": {},
   "outputs": [
    {
     "data": {
      "image/png": "[encoded data removed]",
      "text/plain": [
       "<Figure size 900x500 with 2 Axes>"
      ]
     },
     "metadata": {},
     "output_type": "display_data"
    },
    {
     "data": {
      "text/plain": [
       "<Figure size 640x480 with 0 Axes>"
      ]
     },
     "metadata": {},
     "output_type": "display_data"
    }
   ],
   "source": [
    "# Histogramas para a distribuição de preços e avaliações\n",
    "plt.figure(figsize=(9, 5))\n",
    "\n",
    "# Distribuição de Preços\n",
    "plt.subplot(1, 2, 1)\n",
    "sns.histplot(df_products['price'], kde=True, bins=20)\n",
    "plt.title('Distribuição de Preços dos Produtos')\n",
    "plt.xlabel('Preço')\n",
    "plt.ylabel('Frequência')\n",
    "\n",
    "# Distribuição das Avaliações\n",
    "plt.subplot(1, 2, 2)\n",
    "sns.histplot(df_products['avg_rating'], kde=True, bins=20)\n",
    "plt.title('Distribuição das Avaliações dos Produtos')\n",
    "plt.xlabel('Avaliação Média')\n",
    "plt.ylabel('Frequência')\n",
    "\n",
    "plt.tight_layout()\n",
    "plt.show()\n",
    "plt.savefig('img/price_ratings_hist.png')"
   ]
  },
  {
   "cell_type": "code",
   "execution_count": 99,
   "metadata": {},
   "outputs": [
    {
     "data": {
      "image/png": "[encoded data removed]",
      "text/plain": [
       "<Figure size 900x500 with 2 Axes>"
      ]
     },
     "metadata": {},
     "output_type": "display_data"
    },
    {
     "name": "stdout",
     "output_type": "stream",
     "text": [
      "Quartis dos Preços:\n",
      "25%     15.24\n",
      "50%     56.49\n",
      "75%    110.96\n",
      "Name: price, dtype: float64\n",
      "\n",
      "Quartis das Avaliações:\n",
      "25%    2.90\n",
      "50%    3.70\n",
      "75%    4.53\n",
      "Name: avg_rating, dtype: float64\n"
     ]
    },
    {
     "data": {
      "text/plain": [
       "<Figure size 640x480 with 0 Axes>"
      ]
     },
     "metadata": {},
     "output_type": "display_data"
    }
   ],
   "source": [
    "plt.figure(figsize=(9, 5))\n",
    "\n",
    "# Boxplot da distribuição de Preços\n",
    "plt.subplot(1, 2, 1)\n",
    "sns.boxplot(y=df_products['price'])\n",
    "plt.title('Boxplot da Distribuição de Preços dos Produtos')\n",
    "plt.ylabel('Preço')\n",
    "\n",
    "# Boxplot da distribuição das Avaliações\n",
    "plt.subplot(1, 2, 2)\n",
    "sns.boxplot(y=df_products['avg_rating'])\n",
    "plt.title('Boxplot da Distribuição das Avaliações dos Produtos')\n",
    "plt.ylabel('Avaliação Média')\n",
    "\n",
    "plt.tight_layout()\n",
    "plt.show()\n",
    "plt.savefig('img/dist_prices_ratings_boxplot.png')\n",
    "\n",
    "# Calculando os quartis para os preços\n",
    "price_quartiles = df_products['price'].describe()[['25%', '50%', '75%']]\n",
    "\n",
    "# Calculando os quartis para as avaliações\n",
    "rating_quartiles = df_products['avg_rating'].describe()[['25%', '50%', '75%']]\n",
    "\n",
    "print(\"Quartis dos Preços:\")\n",
    "print(price_quartiles.round(2))\n",
    "\n",
    "print(\"\\nQuartis das Avaliações:\")\n",
    "print(rating_quartiles.round(2))"
   ]
  },
  {
   "cell_type": "markdown",
   "metadata": {},
   "source": [
    "### What is the product with highest price? And lowest?"
   ]
  },
  {
   "cell_type": "code",
   "execution_count": 77,
   "metadata": {},
   "outputs": [
    {
     "name": "stdout",
     "output_type": "stream",
     "text": [
      "Produto com maior preço:\n",
      "id                                                              14\n",
      "title            Samsung 49-Inch CHG90 144Hz Curved Gaming Moni...\n",
      "price                                                       999.99\n",
      "category                                               electronics\n",
      "avg_rating                                                     2.2\n",
      "count_ratings                                                  140\n",
      "Name: 13, dtype: object\n",
      "\n",
      "Produto com menor preço:\n",
      "id                                               19\n",
      "title            Opna Women's Short Sleeve Moisture\n",
      "price                                          7.95\n",
      "category                           women's clothing\n",
      "avg_rating                                      4.5\n",
      "count_ratings                                   146\n",
      "Name: 18, dtype: object\n"
     ]
    }
   ],
   "source": [
    "# Encontrando o produto com maior preço\n",
    "max_price_product = df_products.loc[df_products['price'].idxmax()]\n",
    "\n",
    "# Encontrando o produto com menor preço\n",
    "min_price_product = df_products.loc[df_products['price'].idxmin()]\n",
    "\n",
    "print(\"Produto com maior preço:\")\n",
    "print(max_price_product[['id', 'title', 'price', 'category', 'avg_rating', 'count_ratings']])\n",
    "\n",
    "print(\"\\nProduto com menor preço:\")\n",
    "print(min_price_product[['id', 'title', 'price', 'category', 'avg_rating', 'count_ratings']])"
   ]
  },
  {
   "cell_type": "markdown",
   "metadata": {},
   "source": [
    "### Median price per category"
   ]
  },
  {
   "cell_type": "code",
   "execution_count": 97,
   "metadata": {},
   "outputs": [
    {
     "data": {
      "image/png": "[encoded data removed]",
      "text/plain": [
       "<Figure size 900x500 with 1 Axes>"
      ]
     },
     "metadata": {},
     "output_type": "display_data"
    },
    {
     "data": {
      "text/plain": [
       "<Figure size 640x480 with 0 Axes>"
      ]
     },
     "metadata": {},
     "output_type": "display_data"
    }
   ],
   "source": [
    "# Calculando o preço mediano por categoria\n",
    "median_price_by_category = df_products.groupby('category')['price'].median().sort_values()\n",
    "\n",
    "# Criando o gráfico de barras\n",
    "plt.figure(figsize=(9, 5))\n",
    "ax = median_price_by_category.plot(kind='bar')\n",
    "plt.title('Preço Mediano por Categoria')\n",
    "plt.xlabel('Categoria')\n",
    "plt.ylabel('Preço Mediano')\n",
    "plt.xticks(rotation=45, ha='right')\n",
    "\n",
    "# Adicionando os valores medianos acima de cada barra\n",
    "for index, value in enumerate(median_price_by_category):\n",
    "    ax.text(index, value, f'{value:.2f}', ha='center', va='bottom')\n",
    "\n",
    "plt.tight_layout()\n",
    "plt.show()\n",
    "plt.savefig('img/median_prices_per_category.png')"
   ]
  },
  {
   "cell_type": "markdown",
   "metadata": {},
   "source": [
    "### Median rates per category"
   ]
  },
  {
   "cell_type": "code",
   "execution_count": 96,
   "metadata": {},
   "outputs": [
    {
     "data": {
      "image/png": "[encoded data removed]",
      "text/plain": [
       "<Figure size 900x500 with 1 Axes>"
      ]
     },
     "metadata": {},
     "output_type": "display_data"
    },
    {
     "data": {
      "text/plain": [
       "<Figure size 640x480 with 0 Axes>"
      ]
     },
     "metadata": {},
     "output_type": "display_data"
    }
   ],
   "source": [
    "# Calculando a mediana dos ratings por categoria\n",
    "median_rating_by_category = df_products.groupby('category')['avg_rating'].median().sort_values()\n",
    "\n",
    "# Criando o gráfico de barras\n",
    "plt.figure(figsize=(9, 5))\n",
    "ax = median_rating_by_category.plot(kind='bar')\n",
    "plt.title('Rating Mediano por Categoria')\n",
    "plt.xlabel('Categoria')\n",
    "plt.ylabel('Rating Mediano')\n",
    "plt.xticks(rotation=45, ha='right')\n",
    "\n",
    "# Adicionando os valores medianos acima de cada barra\n",
    "for index, value in enumerate(median_rating_by_category):\n",
    "    ax.text(index, value, f'{value:.2f}', ha='center', va='bottom')\n",
    "\n",
    "plt.tight_layout()\n",
    "plt.show()\n",
    "plt.savefig('img/median_ratings_per_category.png')"
   ]
  },
  {
   "cell_type": "markdown",
   "metadata": {},
   "source": [
    "### Median number of ratings per category"
   ]
  },
  {
   "cell_type": "code",
   "execution_count": 95,
   "metadata": {},
   "outputs": [
    {
     "data": {
      "image/png": "[encoded data removed]",
      "text/plain": [
       "<Figure size 900x500 with 1 Axes>"
      ]
     },
     "metadata": {},
     "output_type": "display_data"
    },
    {
     "data": {
      "text/plain": [
       "<Figure size 640x480 with 0 Axes>"
      ]
     },
     "metadata": {},
     "output_type": "display_data"
    }
   ],
   "source": [
    "# Calculando a mediana do número de ratings por categoria\n",
    "median_count_ratings_by_category = df_products.groupby('category')['count_ratings'].median().sort_values()\n",
    "\n",
    "# Criando o gráfico de barras\n",
    "plt.figure(figsize=(9, 5))\n",
    "ax = median_count_ratings_by_category.plot(kind='bar')\n",
    "plt.title('Número de Ratings por Categoria (mediana)')\n",
    "plt.xlabel('Categoria')\n",
    "plt.ylabel('Número de Ratings (mediana)')\n",
    "plt.xticks(rotation=45, ha='right')\n",
    "\n",
    "# Adicionando os valores medianos acima de cada barra\n",
    "for index, value in enumerate(median_count_ratings_by_category):\n",
    "    ax.text(index, value, f'{value:.0f}', ha='center', va='bottom')\n",
    "\n",
    "plt.tight_layout()\n",
    "plt.show()\n",
    "plt.savefig('img/median_number_of_ratings_per_category.png')"
   ]
  },
  {
   "cell_type": "markdown",
   "metadata": {},
   "source": [
    "### What is the product with most ratings?"
   ]
  },
  {
   "cell_type": "code",
   "execution_count": 85,
   "metadata": {},
   "outputs": [
    {
     "name": "stdout",
     "output_type": "stream",
     "text": [
      "id                                                              17\n",
      "title            Rain Jacket Women Windbreaker Striped Climbing...\n",
      "price                                                        39.99\n",
      "category                                          women's clothing\n",
      "avg_rating                                                     3.8\n",
      "count_ratings                                                  679\n",
      "Name: 16, dtype: object\n"
     ]
    }
   ],
   "source": [
    "# Encontrando o produto com o maior número de ratings\n",
    "product_with_most_ratings = df_products.loc[df_products['count_ratings'].idxmax()]\n",
    "\n",
    "print(product_with_most_ratings[['id', 'title', 'price', 'category', 'avg_rating', 'count_ratings']])"
   ]
  },
  {
   "cell_type": "markdown",
   "metadata": {},
   "source": [
    "### What are the median rating per category adjusting for number of ratings?"
   ]
  },
  {
   "cell_type": "markdown",
   "metadata": {},
   "source": [
    "**Wheighted Average Rating Metric**\n",
    "- this metric gives more wheight to product with more ratings\n",
    "- more ratings = more robust rating"
   ]
  },
  {
   "cell_type": "code",
   "execution_count": 88,
   "metadata": {},
   "outputs": [],
   "source": [
    "# Adicionando uma pequena constante para evitar problemas com zero ratings\n",
    "epsilon = 1e-10\n",
    "\n",
    "# Calculando a média ponderada das avaliações\n",
    "df_products['weighted_rating'] = (df_products['avg_rating'] * df_products['count_ratings']) / (df_products['count_ratings'] + epsilon)"
   ]
  },
  {
   "cell_type": "code",
   "execution_count": 94,
   "metadata": {},
   "outputs": [
    {
     "data": {
      "image/png": "[encoded data removed]",
      "text/plain": [
       "<Figure size 800x500 with 1 Axes>"
      ]
     },
     "metadata": {},
     "output_type": "display_data"
    },
    {
     "data": {
      "text/plain": [
       "<Figure size 640x480 with 0 Axes>"
      ]
     },
     "metadata": {},
     "output_type": "display_data"
    }
   ],
   "source": [
    "# Calculando a média ponderada dos ratings por categoria\n",
    "weighted_rating_by_category = df_products.groupby('category')['weighted_rating'].median().sort_values()\n",
    "\n",
    "# Criando o gráfico de barras\n",
    "plt.figure(figsize=(8, 5))\n",
    "ax = weighted_rating_by_category.plot(kind='bar')\n",
    "plt.title('Rating Ponderado Mediano por Categoria')\n",
    "plt.xlabel('Categoria')\n",
    "plt.ylabel('Rating Ponderado Mediano')\n",
    "plt.xticks(rotation=45, ha='right')\n",
    "\n",
    "# Adicionando os valores medianos acima de cada barra\n",
    "for index, value in enumerate(weighted_rating_by_category):\n",
    "    ax.text(index, value, f'{value:.2f}', ha='center', va='bottom')\n",
    "\n",
    "plt.tight_layout()\n",
    "plt.show()\n",
    "plt.savefig('img/median_wheighted_ratings_per_category.png')"
   ]
  },
  {
   "cell_type": "markdown",
   "metadata": {},
   "source": [
    "### What are the 5 highest rated product adjusting for number of ratings?"
   ]
  },
  {
   "cell_type": "code",
   "execution_count": 89,
   "metadata": {},
   "outputs": [
    {
     "name": "stdout",
     "output_type": "stream",
     "text": [
      "                                                title  weighted_rating\n",
      "11  WD 4TB Gaming Drive Works with Playstation 4 P...              4.8\n",
      "10  Silicon Power 256GB SSD 3D NAND A55 SLC Cache ...              4.8\n",
      "2                                  Mens Cotton Jacket              4.7\n",
      "17        MBJ Women's Solid Short Sleeve Boat Neck V               4.7\n",
      "4   John Hardy Women's Legends Naga Gold & Silver ...              4.6\n"
     ]
    }
   ],
   "source": [
    "# Ordenando os produtos pela métrica de ratings ponderada\n",
    "top_products = df_products.sort_values(by='weighted_rating', ascending=False)\n",
    "\n",
    "print(top_products[['title', 'weighted_rating']].head())"
   ]
  },
  {
   "cell_type": "markdown",
   "metadata": {},
   "source": [
    "## Cart Analysis"
   ]
  },
  {
   "cell_type": "markdown",
   "metadata": {},
   "source": [
    "- Orders in a period = how many carts in a time period\n",
    "- Total sold by product\n",
    "- Total sold by product through time\n",
    "- Number of products per cart\n",
    "- Average ticket per cart\n",
    "- Correlation between number of products per cart and avg ticket\n",
    "- Most bought product"
   ]
  },
  {
   "cell_type": "markdown",
   "metadata": {},
   "source": [
    "## Users Analysis"
   ]
  },
  {
   "cell_type": "markdown",
   "metadata": {},
   "source": [
    "- Geographic distribution = where are they located?\n",
    "- Number of cities with most users (ranking or map with proportional bubbles)\n",
    "- What are cities with most active users = frequent buyers"
   ]
  },
  {
   "cell_type": "markdown",
   "metadata": {},
   "source": [
    "# **References**"
   ]
  },
  {
   "cell_type": "markdown",
   "metadata": {},
   "source": [
    "- **FakeStore API:** https://fakestoreapi.com/\n",
    "- **Exporting notebooks as PDF files:** [MLJar](https://mljar.com/blog/jupyter-notebook-pdf/), [nbconvert docs](https://nbconvert.readthedocs.io/en/stable/)"
   ]
  }
 ],
 "metadata": {
  "kernelspec": {
   "display_name": "base",
   "language": "python",
   "name": "python3"
  },
  "language_info": {
   "codemirror_mode": {
    "name": "ipython",
    "version": 3
   },
   "file_extension": ".py",
   "mimetype": "text/x-python",
   "name": "python",
   "nbconvert_exporter": "python",
   "pygments_lexer": "ipython3",
   "version": "3.12.2"
  }
 },
 "nbformat": 4,
 "nbformat_minor": 2
}
